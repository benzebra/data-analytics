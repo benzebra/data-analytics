{
 "cells": [
  {
   "cell_type": "markdown",
   "metadata": {},
   "source": [
    "# Load the Dataset"
   ]
  },
  {
   "cell_type": "code",
   "execution_count": 1,
   "metadata": {},
   "outputs": [
    {
     "name": "stderr",
     "output_type": "stream",
     "text": [
      "C:\\Users\\rinal\\AppData\\Local\\Temp\\ipykernel_17444\\3332995301.py:15: DtypeWarning: Columns (8) have mixed types. Specify dtype option on import or set low_memory=False.\n",
      "  df = pd.read_csv('train_dataset.csv',sep=',',encoding='iso-8859-1')\n"
     ]
    },
    {
     "data": {
      "image/png": "[encoded data removed]",
      "text/plain": [
       "<Figure size 640x480 with 1 Axes>"
      ]
     },
     "metadata": {},
     "output_type": "display_data"
    }
   ],
   "source": [
    "import pandas as pd\n",
    "#encode categorical and numerical columns with label and ordinal encoding\n",
    "from sklearn.preprocessing import LabelEncoder,OrdinalEncoder\n",
    "import numpy as np\n",
    "#do random forest classification\n",
    "from sklearn.ensemble import RandomForestClassifier\n",
    "from sklearn.metrics import confusion_matrix,ConfusionMatrixDisplay\n",
    "import matplotlib.pyplot as plt\n",
    "from sklearn.preprocessing import StandardScaler,MinMaxScaler\n",
    "from sklearn.decomposition import PCA\n",
    "\n",
    "seed=4\n",
    "\t\t\t\t\t\n",
    "# Load the dataset\n",
    "df = pd.read_csv('train_dataset.csv',sep=',',encoding='iso-8859-1')\n",
    "\n",
    "df.drop(columns=['label'], inplace=True)\n",
    "\n",
    "#do a scatter plot of the data\n",
    "df.plot.scatter(x='ts', y='type')\n",
    "plt.show()"
   ]
  },
  {
   "cell_type": "markdown",
   "metadata": {},
   "source": [
    "# Handling Null Values\n"
   ]
  },
  {
   "cell_type": "code",
   "execution_count": 2,
   "metadata": {},
   "outputs": [
    {
     "name": "stdout",
     "output_type": "stream",
     "text": [
      "ts                        0\n",
      "src_ip                    0\n",
      "src_port                  0\n",
      "dst_ip                    0\n",
      "dst_port                  0\n",
      "proto                     0\n",
      "service                   0\n",
      "duration                  0\n",
      "src_bytes                 0\n",
      "dst_bytes                 0\n",
      "conn_state                0\n",
      "missed_bytes              0\n",
      "src_pkts                  0\n",
      "src_ip_bytes              0\n",
      "dst_pkts                  0\n",
      "dst_ip_bytes              0\n",
      "dns_query                 0\n",
      "dns_qclass                0\n",
      "dns_qtype                 0\n",
      "dns_rcode                 0\n",
      "dns_AA                    0\n",
      "dns_RD                    0\n",
      "dns_RA                    0\n",
      "dns_rejected              0\n",
      "ssl_version               0\n",
      "ssl_cipher                0\n",
      "ssl_resumed               0\n",
      "ssl_established           0\n",
      "ssl_subject               0\n",
      "ssl_issuer                0\n",
      "http_trans_depth          0\n",
      "http_method               0\n",
      "http_uri                  0\n",
      "http_referrer             0\n",
      "http_version              0\n",
      "http_request_body_len     0\n",
      "http_response_body_len    0\n",
      "http_status_code          0\n",
      "http_user_agent           0\n",
      "http_orig_mime_types      0\n",
      "http_resp_mime_types      0\n",
      "weird_name                0\n",
      "weird_addl                0\n",
      "weird_notice              0\n",
      "type                      0\n",
      "dtype: int64\n",
      "ts                        0\n",
      "src_ip                    0\n",
      "src_port                  0\n",
      "dst_ip                    0\n",
      "dst_port                  0\n",
      "proto                     0\n",
      "service                   0\n",
      "duration                  0\n",
      "src_bytes                 0\n",
      "dst_bytes                 0\n",
      "conn_state                0\n",
      "missed_bytes              0\n",
      "src_pkts                  0\n",
      "src_ip_bytes              0\n",
      "dst_pkts                  0\n",
      "dst_ip_bytes              0\n",
      "dns_query                 0\n",
      "dns_qclass                0\n",
      "dns_qtype                 0\n",
      "dns_rcode                 0\n",
      "dns_AA                    0\n",
      "dns_RD                    0\n",
      "dns_RA                    0\n",
      "dns_rejected              0\n",
      "ssl_version               0\n",
      "ssl_cipher                0\n",
      "ssl_resumed               0\n",
      "ssl_established           0\n",
      "ssl_subject               0\n",
      "ssl_issuer                0\n",
      "http_trans_depth          0\n",
      "http_method               0\n",
      "http_uri                  0\n",
      "http_referrer             0\n",
      "http_version              0\n",
      "http_request_body_len     0\n",
      "http_response_body_len    0\n",
      "http_status_code          0\n",
      "http_user_agent           0\n",
      "http_orig_mime_types      0\n",
      "http_resp_mime_types      0\n",
      "weird_name                0\n",
      "weird_addl                0\n",
      "weird_notice              0\n",
      "type                      0\n",
      "dtype: int64\n"
     ]
    }
   ],
   "source": [
    "\n",
    "#filter numerical columns\n",
    "num_columns = df.select_dtypes(include=[np.number]).columns.tolist()\n",
    "#filter categorical columns\n",
    "cat_columns = df.select_dtypes(include=[object]).columns.tolist()\n",
    "\n",
    "#replace '-' values in n columns with the mean of the column(both int and float columns)\n",
    "for column in num_columns:\n",
    "    df[column] = df[column].replace('-', df[column].mean())\n",
    "\n",
    "#replace '-' values in categorical columns with the mode of the column\n",
    "for column in cat_columns:\n",
    "    df[column] = df[column].replace('-', df[column].mode().iloc[0])\n",
    "\n",
    "#check for missing values\n",
    "print(df.isnull().sum())\n",
    "\n",
    "#check for nan values\n",
    "print(df.isna().sum())\n",
    "    \n",
    "#encode categorical columns with label encoding\n",
    "le = LabelEncoder()\n",
    "df[cat_columns] = df[cat_columns].astype(str).apply(le.fit_transform)\n",
    "\n",
    "# Encode numerical columns with ordinal encoding\n",
    "oe = OrdinalEncoder()\n",
    "df[num_columns] = oe.fit_transform(df[num_columns])\n",
    "\n",
    "\n",
    "\n"
   ]
  },
  {
   "cell_type": "markdown",
   "metadata": {},
   "source": [
    "#  Data splitting + Variance Treshold Detector\n"
   ]
  },
  {
   "cell_type": "code",
   "execution_count": 3,
   "metadata": {},
   "outputs": [
    {
     "name": "stdout",
     "output_type": "stream",
     "text": [
      "before variance treshold:  (617002, 44)\n",
      "after variance treshold:  (617002, 28)\n"
     ]
    }
   ],
   "source": [
    "#import train_test_split\n",
    "from sklearn.model_selection import PredefinedSplit,train_test_split\n",
    "#use variance treshold to select features\n",
    "from sklearn.feature_selection import VarianceThreshold\n",
    "\n",
    "X = df.drop(columns=['type'],axis=1)\n",
    "y = df['type']\n",
    "\n",
    "print(\"before variance treshold: \", X.shape)\n",
    "selector = VarianceThreshold(0.01)\n",
    "X = selector.fit_transform(X)\n",
    "print(\"after variance treshold: \", X.shape)\n",
    "\n",
    "indices = np.arange(X.shape[0])\n",
    "train_idx, val_idx = train_test_split(indices, test_size=0.1, stratify=y, random_state=seed)\n",
    "\n",
    "fold = np.zeros(X.shape[0])\n",
    "fold[train_idx] = -1\n",
    "\n",
    "ps = PredefinedSplit(fold)\n",
    "ps.get_n_splits()\n",
    "\n",
    "X_val = X[val_idx, :]\n",
    "y_val = y.iloc[val_idx]\n",
    "X_train = X[train_idx, :]\n",
    "y_train = y.iloc[train_idx]\n"
   ]
  },
  {
   "cell_type": "markdown",
   "metadata": {},
   "source": [
    "# Preprocessing"
   ]
  },
  {
   "cell_type": "code",
   "execution_count": 4,
   "metadata": {},
   "outputs": [
    {
     "data": {
      "image/png": "[encoded data removed]",
      "text/plain": [
       "<Figure size 640x480 with 1 Axes>"
      ]
     },
     "metadata": {},
     "output_type": "display_data"
    },
    {
     "name": "stdout",
     "output_type": "stream",
     "text": [
      "train:  (555301, 28)\n",
      "validation: (61701, 28)\n"
     ]
    }
   ],
   "source": [
    "#do minmax scaling\n",
    "scaler = MinMaxScaler()\n",
    "X_train = scaler.fit_transform(X_train)\n",
    "X = scaler.transform(X)\n",
    "X_val = scaler.transform(X_val)\n",
    "\n",
    "\n",
    "#apply PCA\n",
    "pca = PCA()\n",
    "X_train = pca.fit_transform(X_train)\n",
    "X_val = pca.transform(X_val)\n",
    "\n",
    "#plot variance ratio in % for each principal component\n",
    "explained_variance = pca.explained_variance_ratio_\n",
    "explained_variance = np.round(explained_variance*100, decimals=1)\n",
    "\n",
    "plt.bar(range(1,len(explained_variance)+1),explained_variance)\n",
    "plt.xlabel('Principal Component')\n",
    "plt.ylabel('Variance Explained (%)')\n",
    "plt.title('PCA Analysis')\n",
    "plt.show()\n",
    "\n",
    "#SHAPE OF TRAINING AND VALIDATION SETS\n",
    "print(\"train: \", X_train.shape)\n",
    "print(\"validation:\", X_val.shape)\n",
    "\n"
   ]
  },
  {
   "cell_type": "markdown",
   "metadata": {},
   "source": [
    "# SVM"
   ]
  },
  {
   "cell_type": "code",
   "execution_count": null,
   "metadata": {},
   "outputs": [
    {
     "name": "stdout",
     "output_type": "stream",
     "text": [
      "Fitting 1 folds for each of 100 candidates, totalling 100 fits\n",
      "[CV 1/1; 1/100] START C=0.1, gamma=1, kernel=linear.............................\n"
     ]
    }
   ],
   "source": [
    "from sklearn.svm import SVC\n",
    "from sklearn.model_selection import GridSearchCV\n",
    "import pickle\n",
    "\n",
    "param_grid = {'C': [0.1, 1, 10, 100, 1000],  \n",
    "              'gamma': [1, 0.1, 0.01, 0.001, 0.0001], \n",
    "              'kernel': [\"linear\", \"poly\", \"rbf\", \"sigmoid\"]}  \n",
    "\n",
    "#get number of folds\n",
    "ps.get_n_splits()\n",
    "\n",
    "\n",
    "grid = GridSearchCV(SVC(random_state=seed), param_grid, cv=ps,verbose=10)\n",
    "grid.fit(X, y)\n",
    "file = open(\"svc.save\",\"wb\")\n",
    "pickle.dump(grid.best_estimator_, file)\n",
    "print(\"Best hyperparameters: \",grid.best_estimator_)\n",
    "print(\"Best performance:\",  grid.best_score_)\n",
    "file.close()\n",
    "\n",
    "y_pred = grid.predict(X_val)\n",
    "\n",
    "#plot confusion matrix\n",
    "cm = confusion_matrix(y_val, y_pred)\n",
    "disp = ConfusionMatrixDisplay(confusion_matrix=cm,display_labels=le.classes_)\n",
    "disp.plot()\n",
    "plt.show()\n",
    "\n",
    "\n"
   ]
  },
  {
   "cell_type": "markdown",
   "metadata": {},
   "source": [
    "# Random Forest"
   ]
  },
  {
   "cell_type": "code",
   "execution_count": null,
   "metadata": {},
   "outputs": [
    {
     "name": "stdout",
     "output_type": "stream",
     "text": [
      "Fitting 1 folds for each of 90 candidates, totalling 90 fits\n",
      "[CV 1/1; 1/90] START criterion=gini, max_depth=4, max_features=auto, n_estimators=100\n",
      "[CV 1/1; 1/90] END criterion=gini, max_depth=4, max_features=auto, n_estimators=100;, score=nan total time=   0.0s\n",
      "[CV 1/1; 2/90] START criterion=gini, max_depth=4, max_features=auto, n_estimators=200\n",
      "[CV 1/1; 2/90] END criterion=gini, max_depth=4, max_features=auto, n_estimators=200;, score=nan total time=   0.0s\n",
      "[CV 1/1; 3/90] START criterion=gini, max_depth=4, max_features=auto, n_estimators=300\n",
      "[CV 1/1; 3/90] END criterion=gini, max_depth=4, max_features=auto, n_estimators=300;, score=nan total time=   0.0s\n",
      "[CV 1/1; 4/90] START criterion=gini, max_depth=4, max_features=sqrt, n_estimators=100\n",
      "[CV 1/1; 4/90] END criterion=gini, max_depth=4, max_features=sqrt, n_estimators=100;, score=0.946 total time=  20.5s\n",
      "[CV 1/1; 5/90] START criterion=gini, max_depth=4, max_features=sqrt, n_estimators=200\n",
      "[CV 1/1; 5/90] END criterion=gini, max_depth=4, max_features=sqrt, n_estimators=200;, score=0.947 total time=  43.5s\n",
      "[CV 1/1; 6/90] START criterion=gini, max_depth=4, max_features=sqrt, n_estimators=300\n",
      "[CV 1/1; 6/90] END criterion=gini, max_depth=4, max_features=sqrt, n_estimators=300;, score=0.949 total time= 1.2min\n",
      "[CV 1/1; 7/90] START criterion=gini, max_depth=4, max_features=log2, n_estimators=100\n"
     ]
    }
   ],
   "source": [
    "from sklearn.model_selection import GridSearchCV\n",
    "from sklearn.metrics import accuracy_score\n",
    "#train random forest classifier with hp tuning through grid search\n",
    "param_grid = {'n_estimators': [100, 200, 300],\n",
    "              'max_features': ['auto', 'sqrt', 'log2'],\n",
    "              'max_depth' : [4,5,6,7,8],\n",
    "              'criterion' :['gini', 'entropy']}\n",
    "\n",
    "grid = GridSearchCV(RandomForestClassifier(random_state=seed), param_grid, cv=ps,verbose=10)\n",
    "\n",
    "grid.fit(X, y)\n",
    "print(\"Best hyperparameters: \",grid.best_estimator_)\n",
    "print(\"Best performance:\",  grid.best_score_)\n",
    "\n",
    "#train the model with the best hyperparameters\n",
    "model = grid.best_estimator_\n",
    "model.fit(X_train, y_train)\n",
    "\n",
    "#predict the validation set\n",
    "y_pred = model.predict(X_val)\n",
    "\n",
    "#calculate accuracy\n",
    "accuracy = accuracy_score(y_val, y_pred)\n",
    "print(\"Accuracy:\", accuracy)\n",
    "\n",
    "#print balanced accuracy,f1 score\n",
    "from sklearn.metrics import balanced_accuracy_score,f1_score\n",
    "print(\"Balanced accuracy:\",balanced_accuracy_score(y_val, y_pred))\n",
    "print(\"F1 score:\",f1_score(y_val, y_pred,average='weighted'))\n",
    "\n",
    "\n",
    "#plot confusion matrix\n",
    "cm = confusion_matrix(y_val, y_pred)\n",
    "disp = ConfusionMatrixDisplay(confusion_matrix=cm,display_labels=le.classes_)\n",
    "\n",
    "disp.plot()\n",
    "plt.show()"
   ]
  },
  {
   "cell_type": "markdown",
   "metadata": {},
   "source": [
    "# KNN"
   ]
  },
  {
   "cell_type": "code",
   "execution_count": 1,
   "metadata": {},
   "outputs": [
    {
     "ename": "NameError",
     "evalue": "name 'ps' is not defined",
     "output_type": "error",
     "traceback": [
      "\u001b[1;31m---------------------------------------------------------------------------\u001b[0m",
      "\u001b[1;31mNameError\u001b[0m                                 Traceback (most recent call last)",
      "Cell \u001b[1;32mIn[1], line 8\u001b[0m\n\u001b[0;32m      4\u001b[0m \u001b[38;5;28;01mimport\u001b[39;00m \u001b[38;5;21;01mpickle\u001b[39;00m\n\u001b[0;32m      5\u001b[0m param_grid \u001b[38;5;241m=\u001b[39m {\u001b[38;5;124m'\u001b[39m\u001b[38;5;124mn_neighbors\u001b[39m\u001b[38;5;124m'\u001b[39m: [\u001b[38;5;241m3\u001b[39m, \u001b[38;5;241m5\u001b[39m, \u001b[38;5;241m7\u001b[39m, \u001b[38;5;241m9\u001b[39m, \u001b[38;5;241m11\u001b[39m],\n\u001b[0;32m      6\u001b[0m               \u001b[38;5;124m'\u001b[39m\u001b[38;5;124mmetric\u001b[39m\u001b[38;5;124m'\u001b[39m: [\u001b[38;5;124m'\u001b[39m\u001b[38;5;124meuclidean\u001b[39m\u001b[38;5;124m'\u001b[39m, \u001b[38;5;124m'\u001b[39m\u001b[38;5;124mmanhattan\u001b[39m\u001b[38;5;124m'\u001b[39m],\n\u001b[0;32m      7\u001b[0m               \u001b[38;5;124m'\u001b[39m\u001b[38;5;124mweights\u001b[39m\u001b[38;5;124m'\u001b[39m: [\u001b[38;5;124m'\u001b[39m\u001b[38;5;124muniform\u001b[39m\u001b[38;5;124m'\u001b[39m, \u001b[38;5;124m'\u001b[39m\u001b[38;5;124mdistance\u001b[39m\u001b[38;5;124m'\u001b[39m],}\n\u001b[1;32m----> 8\u001b[0m grid \u001b[38;5;241m=\u001b[39m GridSearchCV(KNeighborsClassifier(), param_grid, cv\u001b[38;5;241m=\u001b[39m\u001b[43mps\u001b[49m,verbose\u001b[38;5;241m=\u001b[39m\u001b[38;5;241m10\u001b[39m)\n\u001b[0;32m     11\u001b[0m grid\u001b[38;5;241m.\u001b[39mfit(X, y)\n\u001b[0;32m     12\u001b[0m \u001b[38;5;66;03m#save the best model\u001b[39;00m\n",
      "\u001b[1;31mNameError\u001b[0m: name 'ps' is not defined"
     ]
    }
   ],
   "source": [
    "#do the same with knn\n",
    "from sklearn.neighbors import KNeighborsClassifier\n",
    "from sklearn.model_selection import GridSearchCV\n",
    "import pickle\n",
    "param_grid = {'n_neighbors': [3, 5, 7, 9, 11],\n",
    "              'metric': ['euclidean', 'manhattan'],\n",
    "              'weights': ['uniform', 'distance'],}\n",
    "grid = GridSearchCV(KNeighborsClassifier(), param_grid, cv=ps,verbose=10)\n",
    "\n",
    "\n",
    "grid.fit(X, y)\n",
    "#save the best model\n",
    "print(\"Best hyperparameters: \",grid.best_estimator_)\n",
    "print(\"Best performance:\",  grid.best_score_)\n",
    "\n",
    "#save the model with the best hyperparameters\n",
    "file = open(\"knn.save\",\"wb\")\n",
    "pickle.dump(grid.best_estimator_, file)\n",
    "file.close()\n",
    "\n",
    "y_pred = grid.predict(X_val)\n",
    "\n",
    "#calculate accuracy\n",
    "accuracy = accuracy_score(y_val, y_pred)\n",
    "print(\"Accuracy:\", accuracy)\n",
    "\n",
    "#print balanced accuracy,f1 score\n",
    "from sklearn.metrics import balanced_accuracy_score,f1_score\n",
    "print(\"Balanced accuracy:\",balanced_accuracy_score(y_val, y_pred))\n",
    "print(\"F1 score:\",f1_score(y_val, y_pred,average='weighted'))\n",
    "\n",
    "\n",
    "#plot confusion matrix\n",
    "cm = confusion_matrix(y_val, y_pred)\n",
    "disp = ConfusionMatrixDisplay(confusion_matrix=cm,display_labels=le.classes_)\n",
    "disp.plot()\n",
    "plt.show()\n"
   ]
  }
 ],
 "metadata": {
  "kernelspec": {
   "display_name": "venv",
   "language": "python",
   "name": "python3"
  },
  "language_info": {
   "codemirror_mode": {
    "name": "ipython",
    "version": 3
   },
   "file_extension": ".py",
   "mimetype": "text/x-python",
   "name": "python",
   "nbconvert_exporter": "python",
   "pygments_lexer": "ipython3",
   "version": "3.12.8"
  }
 },
 "nbformat": 4,
 "nbformat_minor": 2
}
