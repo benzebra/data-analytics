{
 "cells": [
  {
   "cell_type": "markdown",
   "metadata": {},
   "source": [
    "# TabTransformer"
   ]
  },
  {
   "cell_type": "code",
   "execution_count": 27,
   "metadata": {},
   "outputs": [
    {
     "name": "stdout",
     "output_type": "stream",
     "text": [
      "Using device: cuda\n"
     ]
    }
   ],
   "source": [
    "import pandas as pd\n",
    "import numpy as np\n",
    "import matplotlib.pyplot as plt\n",
    "import torch    \n",
    "from sklearn.model_selection import train_test_split\n",
    "from sklearn.preprocessing import StandardScaler\n",
    "import time\n",
    "import random\n",
    "#ordinal encoder\n",
    "from sklearn.preprocessing import OrdinalEncoder, LabelEncoder\n",
    "#import lda and pca\n",
    "from sklearn.decomposition import PCA\n",
    "import itertools\n",
    "import copy\n",
    "if torch.cuda.is_available():\n",
    "    device = torch.device('cuda')\n",
    "else:\n",
    "    device = torch.device('cpu')\n",
    "\n",
    "print('Using device:', device)\n",
    "torch.backends.cuda.enable_mem_efficient_sdp(False)\n",
    "torch.backends.cuda.enable_flash_sdp(False)\n",
    "torch.backends.cuda.enable_math_sdp(True)\n"
   ]
  },
  {
   "cell_type": "markdown",
   "metadata": {},
   "source": [
    "# seed and device definition"
   ]
  },
  {
   "cell_type": "code",
   "execution_count": 28,
   "metadata": {},
   "outputs": [
    {
     "name": "stdout",
     "output_type": "stream",
     "text": [
      "Using device: cuda\n"
     ]
    }
   ],
   "source": [
    "SEED = 42\n",
    "def fix_random(seed: int) -> None:\n",
    "    np.random.seed(seed)\n",
    "    random.seed(seed)\n",
    "    torch.manual_seed(seed)\n",
    "    torch.cuda.manual_seed(seed)\n",
    "    torch.backends.cudnn.benchmark = False\n",
    "    torch.backends.cudnn.deterministic = True  # slower\n",
    "fix_random(SEED)\n",
    "\n",
    "device = 'cuda' if torch.cuda.is_available() else 'cpu'\n",
    "\n",
    "print('Using device:', device)"
   ]
  },
  {
   "cell_type": "markdown",
   "metadata": {},
   "source": [
    "# tabtransformer class definition"
   ]
  },
  {
   "cell_type": "code",
   "execution_count": 29,
   "metadata": {},
   "outputs": [],
   "source": [
    "class TabTransformer(torch.nn.Module):\n",
    "    def __init__(self, num_features, num_classes, dim_embedding=8, num_heads=2, num_layers=2):\n",
    "        super(TabTransformer, self).__init__()\n",
    "        self.embedding = torch.nn.Linear(num_features, dim_embedding)\n",
    "        encoder_layer = torch.nn.TransformerEncoderLayer(d_model=dim_embedding, nhead=num_heads, batch_first=True)\n",
    "        self.transformer = torch.nn.TransformerEncoder(encoder_layer, num_layers=num_layers)\n",
    "        self.classifier = torch.nn.Linear(dim_embedding, num_classes)\n",
    "\n",
    "    def forward(self, x):\n",
    "        x = self.embedding(x)\n",
    "        x = x.unsqueeze(1)  # Adding a sequence length dimension\n",
    "        x = self.transformer(x)\n",
    "        x = torch.mean(x, dim=1)  # Pooling\n",
    "        x = self.classifier(x)\n",
    "        return x"
   ]
  },
  {
   "cell_type": "markdown",
   "metadata": {},
   "source": [
    "# train and test function"
   ]
  },
  {
   "cell_type": "code",
   "execution_count": 30,
   "metadata": {},
   "outputs": [],
   "source": [
    "def train_model(model, criterion, optimizer, epochs, data_loader, val_loader, device, scheduler, patience):\n",
    "    n_iter = 0\n",
    "\n",
    "    best_model = None\n",
    "    best_val_loss = float('inf')\n",
    "    epochs_since_last_improvement = 0\n",
    "\n",
    "    start = time.time()\n",
    "\n",
    "    loss_history = []\n",
    "    val_loss_history = []\n",
    "\n",
    "    for epoch in range(epochs):\n",
    "        model.train()\n",
    "\n",
    "        start_epoch = time.time()\n",
    "\n",
    "        loss_train = 0\n",
    "        for data, targets in data_loader:\n",
    "            data, targets = data.to(device), targets.to(device)\n",
    "            optimizer.zero_grad()\n",
    "            outputs = model(data)\n",
    "            loss = criterion(outputs, targets.long())\n",
    "            loss.backward()\n",
    "            optimizer.step()\n",
    "            n_iter += 1\n",
    "            loss_train += loss.item()\n",
    "\n",
    "        scheduler.step()\n",
    "        loss_train /= len(data_loader)\n",
    "\n",
    "        # Compute Val Loss\n",
    "        val_loss,_,_ = test_model(model, criterion, val_loader)\n",
    "\n",
    "        loss_history.append(loss_train)\n",
    "        val_loss_history.append(val_loss)\n",
    "\n",
    "        # Early stopping\n",
    "        if val_loss < best_val_loss:\n",
    "            best_val_loss = val_loss\n",
    "            best_model = copy.deepcopy(model)\n",
    "            epochs_since_last_improvement = 0\n",
    "        elif epochs_since_last_improvement >= patience:\n",
    "            break\n",
    "        else:\n",
    "            epochs_since_last_improvement += 1\n",
    "\n",
    "        print('Epoch [{}/{}] - {:.2f} seconds - train_loss: {:.6f} - val_loss: {:.6f} - patience: {}'.format(epoch+1,\n",
    "              epochs, time.time() - start_epoch, loss_train, val_loss, epochs_since_last_improvement), end='\\r')\n",
    "\n",
    "    print('\\nTraining ended after {:.2f} seconds - Best val_loss: {:.6f}'.format(time.time() - start, best_val_loss))\n",
    "\n",
    "    return best_model, loss_history, val_loss_history\n",
    "\n",
    "\n",
    "def test_model(model, criterion, loader):\n",
    "    model.eval()\n",
    "    y_pred = torch.tensor([],requires_grad=True).to(device)\n",
    "    y_true = torch.tensor([],requires_grad=True).to(device)\n",
    "\n",
    "    total_loss = 0.0\n",
    "    \n",
    "    for data, targets in loader:\n",
    "        data, targets = data.to(device), targets.to(device)\n",
    "        preds = model(data)\n",
    "        loss = criterion(preds, targets.long())\n",
    "        total_loss += loss.item()\n",
    "        y_pred = torch.cat((y_pred, preds.squeeze()))\n",
    "        y_true = torch.cat((y_true, targets.detach()))\n",
    "\n",
    "    avg_loss = total_loss / len(loader)\n",
    "    return avg_loss, y_pred.squeeze(), y_true.squeeze()"
   ]
  },
  {
   "cell_type": "markdown",
   "metadata": {},
   "source": [
    "# DEFINE TRAIN, VALIDATION AND TEST SET"
   ]
  },
  {
   "cell_type": "code",
   "execution_count": 31,
   "metadata": {},
   "outputs": [
    {
     "name": "stderr",
     "output_type": "stream",
     "text": [
      "C:\\Users\\rinal\\AppData\\Local\\Temp\\ipykernel_2780\\178297482.py:2: DtypeWarning: Columns (8) have mixed types. Specify dtype option on import or set low_memory=False.\n",
      "  df = pd.read_csv('train_dataset.csv')\n"
     ]
    }
   ],
   "source": [
    "\n",
    "\n",
    "#read the dataset\n",
    "df = pd.read_csv('train_dataset.csv')\n",
    "df.drop(columns=[\"label\"], inplace=True)\n",
    "#DATA CLEANING\n",
    "\n",
    "#filter numerical columns\n",
    "num_columns = df.select_dtypes(include=[np.number]).columns.tolist()\n",
    "\n",
    "#filter categorical columns\n",
    "cat_columns = df.select_dtypes(include=[object]).columns.tolist()\n",
    "\n",
    "# replace '-' values in n columns with the mean of the column(both int and float columns)\n",
    "for column in num_columns:\n",
    "    df[column] = df[column].replace('-', df[column].mean())\n",
    "\n",
    "# replace '-' values in categorical columns with the mode of the column\n",
    "for column in cat_columns:\n",
    "    df[column] = df[column].replace('-', df[column].mode().iloc[0])\n",
    "\n",
    "# Convert all categorical columns to strings\n",
    "df[cat_columns] = df[cat_columns].astype(str)\n",
    "\n",
    "encoder = OrdinalEncoder()\n",
    "df[cat_columns] = encoder.fit_transform(df[cat_columns])\n",
    "\n",
    "X = df.drop(columns=[\"type\",\"label\"]).to_numpy()\n",
    "y = df[\"type\"].to_numpy()\n",
    "\n",
    "# Split data into train and test\n",
    "X_train, X_test, y_train, y_test = train_test_split(X, y, test_size=0.2, stratify=y, random_state=SEED)\n",
    "\n",
    "# Encoding target\n",
    "le = LabelEncoder()\n",
    "le.fit(y_train)\n",
    "y_train = le.transform(y_train)\n",
    "y_test = le.transform(y_test)\n",
    "\n",
    "\n",
    "#PREPROCESSING\n",
    "\n",
    "# Standardize numerical features\n",
    "scaler = StandardScaler()\n",
    "X_train = scaler.fit_transform(X_train)\n",
    "X_test = scaler.transform(X_test)\n",
    "\n",
    "\n",
    "# Apply LDA\n",
    "# lda = LinearDiscriminantAnalysis()\n",
    "# X_train = lda.fit_transform(X_train, y_train)\n",
    "# X_test = lda.transform(X_test)\n",
    "\n",
    "#apply PCA\n",
    "# pca = PCA(n_components='mle',svd_solver='full')\n",
    "# X_train = pca.fit_transform(X_train)\n",
    "# X_test = pca.transform(X_test)\n",
    "\n",
    "# print(f'X_train shape after lda: {X_train.shape}')\n",
    "\n",
    "num_feature = X_train.shape[1]\n",
    "num_classes = len(np.unique(y_train))\n",
    "\n",
    "# Split train data into train and validation\n",
    "X_train, X_val, Y_train, Y_val = train_test_split(X_train, y_train, test_size=0.2, stratify=y_train, random_state=SEED)\n",
    "\n",
    "#tensors creation\n",
    "\n",
    "X_train_tensor = torch.tensor(X_train, dtype=torch.float32)\n",
    "y_train_tensor = torch.tensor(Y_train, dtype=torch.long)\n",
    "\n",
    "X_val_tensor = torch.tensor(X_val, dtype=torch.float32)\n",
    "y_val_tensor = torch.tensor(Y_val, dtype=torch.long)\n",
    "\n",
    "X_test_tensor = torch.tensor(X_test, dtype=torch.float32)\n",
    "y_test_tensor = torch.tensor(y_test, dtype=torch.long)\n",
    "\n",
    "val_loader = torch.utils.data.DataLoader(torch.utils.data.TensorDataset(X_val_tensor, y_val_tensor), batch_size=Y_val.shape[0], shuffle=False)\n",
    "test_loader = torch.utils.data.DataLoader(torch.utils.data.TensorDataset(X_test_tensor, y_test_tensor), batch_size=y_test.shape[0], shuffle=False)"
   ]
  },
  {
   "cell_type": "code",
   "execution_count": 32,
   "metadata": {},
   "outputs": [
    {
     "name": "stdout",
     "output_type": "stream",
     "text": [
      "{0: np.float64(4.069593536153022), 1: np.float64(0.338110666630134), 2: np.float64(1.132579964205406), 3: np.float64(4.543873699714628), 4: np.float64(98.7202), 5: np.float64(2.983745390799734), 6: np.float64(1.196724530863599), 7: np.float64(63.855239327296246), 8: np.float64(0.2880440935324428), 9: np.float64(0.9752262219939147)}\n"
     ]
    }
   ],
   "source": [
    "#import class weights\n",
    "from sklearn.utils.class_weight import compute_class_weight\n",
    "class_weights = compute_class_weight(class_weight='balanced', classes=np.unique(y_train), y=y_train)\n",
    "class_weights = dict(enumerate(class_weights))\n",
    "print(class_weights)"
   ]
  },
  {
   "cell_type": "markdown",
   "metadata": {},
   "source": [
    "# hp configuration"
   ]
  },
  {
   "cell_type": "code",
   "execution_count": 33,
   "metadata": {},
   "outputs": [
    {
     "name": "stdout",
     "output_type": "stream",
     "text": [
      "Number of hyperparameter combinations: 1\n"
     ]
    }
   ],
   "source": [
    "nums_epochs = [20]\n",
    "batch_sizes = [512]\n",
    "patience = [10]\n",
    "dim_embedding = [32]\n",
    "num_heads = [8]\n",
    "num_layers = [16]\n",
    "learning_rate = [0.001]\n",
    "hyperparameters = list(itertools.product(nums_epochs, batch_sizes, patience, dim_embedding, num_heads, num_layers, learning_rate))\n",
    "n_comb = len(hyperparameters)\n",
    "print (f'Number of hyperparameter combinations: {n_comb}')"
   ]
  },
  {
   "cell_type": "markdown",
   "metadata": {},
   "source": [
    "# TRAINING"
   ]
  },
  {
   "cell_type": "code",
   "execution_count": 34,
   "metadata": {},
   "outputs": [
    {
     "name": "stdout",
     "output_type": "stream",
     "text": [
      "Iteration 1/1 - Hyperparameters: epochs=20, batch_size=512, patience=10, dim_embedding=32, num_heads=8, num_layers=16, lr=0.001\n",
      "Epoch [20/20] - 7.15 seconds - train_loss: 0.024911 - val_loss: 0.028945 - patience: 0\n",
      "Training ended after 146.73 seconds - Best val_loss: 0.028945\n",
      "Hyperparameters: epochs=20, batch_size=512, patience=10, dim_embedding=32, num_heads=8, num_layers=16, lr=0.001\n",
      "Validation Loss: 0.028944626450538635\n"
     ]
    }
   ],
   "source": [
    "#Initialize the model, loss, and optimizer\n",
    "best_loss = float('inf')\n",
    "criterion = torch.nn.CrossEntropyLoss(weight=torch.tensor(list(class_weights.values()), dtype=torch.float32).to(device))\n",
    "current_iter = 0\n",
    "for epochs, batch_size, patience_, dim_embedding_, num_heads_, num_layers_, lr in hyperparameters:\n",
    "    print(f'Iteration {current_iter+1}/{n_comb} - Hyperparameters: epochs={epochs}, batch_size={batch_size}, patience={patience_}, dim_embedding={dim_embedding_}, num_heads={num_heads_}, num_layers={num_layers_}, lr={lr}')\n",
    "    train_loader = torch.utils.data.DataLoader(torch.utils.data.TensorDataset(X_train_tensor, y_train_tensor), batch_size=batch_size, drop_last=True)\n",
    "\n",
    "    model = TabTransformer(num_feature, num_classes).to(torch.device('cuda'))\n",
    "    optimizer = torch.optim.AdamW(model.parameters(), lr=lr)\n",
    "    scheduler = torch.optim.lr_scheduler.StepLR(optimizer, step_size=10, gamma=0.9)\n",
    "\n",
    "    model, loss_history, val_loss_history = train_model(model, criterion, optimizer, epochs, train_loader, val_loader, device, scheduler, patience_)\n",
    "    val_loss, y_pred, y_true = test_model(model, criterion, val_loader)\n",
    "    if val_loss < best_loss:\n",
    "        best_loss = val_loss\n",
    "        best_model = copy.deepcopy(model)\n",
    "        best_hyperparameters = f\"epochs={epochs}, batch_size={batch_size}, patience={patience_}, dim_embedding={dim_embedding_}, num_heads={num_heads_}, num_layers={num_layers_}, lr={lr}\"\n",
    "\n",
    "    print(f'Hyperparameters: epochs={epochs}, batch_size={batch_size}, patience={patience_}, dim_embedding={dim_embedding_}, num_heads={num_heads_}, num_layers={num_layers_}, lr={lr}')\n",
    "    print(f'Validation Loss: {val_loss}')\n",
    "\n",
    "    current_iter += 1"
   ]
  },
  {
   "cell_type": "markdown",
   "metadata": {},
   "source": [
    " # prediction"
   ]
  },
  {
   "cell_type": "code",
   "execution_count": 36,
   "metadata": {},
   "outputs": [
    {
     "name": "stdout",
     "output_type": "stream",
     "text": [
      "Best hyperparameters: epochs=20, batch_size=512, patience=10, dim_embedding=32, num_heads=8, num_layers=16, lr=0.001\n",
      "Test Loss: 0.01804833486676216\n",
      "Test Accuracy: 0.9984197859012488\n",
      "Balanced Accuracy: 0.996505761167873\n",
      "F1 Score: 0.9984296731734593\n"
     ]
    },
    {
     "data": {
      "image/png": "[encoded data removed]",
      "text/plain": [
       "<Figure size 640x480 with 2 Axes>"
      ]
     },
     "metadata": {},
     "output_type": "display_data"
    },
    {
     "name": "stdout",
     "output_type": "stream",
     "text": [
      "Classification Report:\n",
      "               precision    recall  f1-score   support\n",
      "\n",
      "         0.0       1.00      1.00      1.00      3032\n",
      "         1.0       1.00      1.00      1.00     36497\n",
      "         2.0       1.00      1.00      1.00     10896\n",
      "         3.0       0.99      1.00      0.99      2716\n",
      "         4.0       0.88      0.98      0.93       125\n",
      "         5.0       0.99      0.99      0.99      4136\n",
      "         6.0       1.00      1.00      1.00     10311\n",
      "         7.0       0.90      1.00      0.95       193\n",
      "         8.0       1.00      1.00      1.00     42841\n",
      "         9.0       1.00      1.00      1.00     12654\n",
      "\n",
      "    accuracy                           1.00    123401\n",
      "   macro avg       0.97      1.00      0.99    123401\n",
      "weighted avg       1.00      1.00      1.00    123401\n",
      "\n"
     ]
    }
   ],
   "source": [
    "#import accuracy score,balance accuracy score,f1 score,confusion matrix,classification report\n",
    "from sklearn.metrics import accuracy_score, balanced_accuracy_score, f1_score, confusion_matrix, classification_report, ConfusionMatrixDisplay\n",
    "\n",
    "test_loss, y_pred, y_true = test_model(best_model, criterion, test_loader)\n",
    "y_pred = torch.argmax(y_pred, dim=1)\n",
    "print(f'Best hyperparameters: {best_hyperparameters}')\n",
    "print(f'Test Loss: {test_loss}')\n",
    "print(f'Test Accuracy: {accuracy_score(y_true.cpu().detach().numpy(), y_pred.cpu().detach().numpy())}')\n",
    "#print balanced accuracy\n",
    "print(f'Balanced Accuracy: {balanced_accuracy_score(y_true.cpu().detach().numpy(), y_pred.cpu().detach().numpy())}')\n",
    "#print f1 score\n",
    "print(f'F1 Score: {f1_score(y_true.cpu().detach().numpy(), y_pred.cpu().detach().numpy(), average=\"weighted\")}')\n",
    "#compute confusion matrix\n",
    "cm = confusion_matrix(y_true.cpu().detach().numpy(), y_pred.cpu().detach().numpy())\n",
    "disp = ConfusionMatrixDisplay(confusion_matrix=cm, display_labels=np.unique(y_test))\n",
    "disp.plot()\n",
    "plt.show()\n",
    "#print classification report\n",
    "print(f'Classification Report:\\n {classification_report(y_true.cpu().detach().numpy(), y_pred.cpu().detach().numpy())}')\n",
    " \n"
   ]
  },
  {
   "cell_type": "markdown",
   "metadata": {},
   "source": [
    "# overfitting check"
   ]
  },
  {
   "cell_type": "code",
   "execution_count": 37,
   "metadata": {},
   "outputs": [
    {
     "data": {
      "image/png": "[encoded data removed]",
      "text/plain": [
       "<Figure size 640x480 with 1 Axes>"
      ]
     },
     "metadata": {},
     "output_type": "display_data"
    }
   ],
   "source": [
    "plt.plot(loss_history, label='train_loss')\n",
    "plt.plot(val_loss_history, label='val_loss')\n",
    "plt.legend()\n",
    "plt.show()"
   ]
  }
 ],
 "metadata": {
  "kernelspec": {
   "display_name": ".venv",
   "language": "python",
   "name": "python3"
  },
  "language_info": {
   "codemirror_mode": {
    "name": "ipython",
    "version": 3
   },
   "file_extension": ".py",
   "mimetype": "text/x-python",
   "name": "python",
   "nbconvert_exporter": "python",
   "pygments_lexer": "ipython3",
   "version": "3.12.8"
  }
 },
 "nbformat": 4,
 "nbformat_minor": 2
}
