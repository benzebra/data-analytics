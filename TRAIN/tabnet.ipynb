{
 "cells": [
  {
   "cell_type": "markdown",
   "metadata": {},
   "source": [
    "# Tabnet"
   ]
  },
  {
   "cell_type": "code",
   "execution_count": 11,
   "metadata": {},
   "outputs": [
    {
     "name": "stdout",
     "output_type": "stream",
     "text": [
      "cuda\n"
     ]
    }
   ],
   "source": [
    "import pandas as pd\n",
    "import numpy as np\n",
    "import matplotlib.pyplot as plt\n",
    "import torch    \n",
    "import torch.nn as nn\n",
    "import torch.optim as optim\n",
    "from torch.utils.data import Dataset, DataLoader\n",
    "from sklearn.model_selection import train_test_split\n",
    "from sklearn.preprocessing import StandardScaler\n",
    "from sklearn.metrics import accuracy_score\n",
    "from pytorch_tabnet.tab_model import TabNetClassifier, TabNetRegressor\n",
    "from pytorch_tabnet.pretraining import TabNetPretrainer\n",
    "import random\n",
    "#ordinal encoder\n",
    "from sklearn.preprocessing import OrdinalEncoder, LabelEncoder\n",
    "#import lda and pca\n",
    "from sklearn.decomposition import PCA\n",
    "from sklearn.discriminant_analysis import LinearDiscriminantAnalysis\n",
    "import itertools\n",
    "import copy\n",
    "\n",
    "seed = 42\n",
    "\n",
    "#device\n",
    "device = 'cuda' if torch.cuda.is_available() else 'cpu'\n",
    "\n",
    "print(device)"
   ]
  },
  {
   "cell_type": "code",
   "execution_count": 12,
   "metadata": {},
   "outputs": [],
   "source": [
    "\n",
    "class TabNet(torch.nn.Module):\n",
    "    '''\n",
    "    Wrapper class for TabNetClassifier\n",
    "    '''\n",
    "    def __init__(self, n_d,\n",
    "                 n_a,\n",
    "                 n_steps,\n",
    "                 gamma,\n",
    "                 optimizer_fn,\n",
    "                 n_independent,\n",
    "                 n_shared,\n",
    "                 epsilon,\n",
    "                 seed,\n",
    "                 lambda_sparse,\n",
    "                 clip_value,\n",
    "                 momentum,\n",
    "                 optimizer_params,\n",
    "                 scheduler_params,\n",
    "                 mask_type,\n",
    "                 scheduler_fn,\n",
    "                 device_name,\n",
    "                 output_dim,\n",
    "                 batch_size,\n",
    "                 num_epochs,\n",
    "                 unsupervised_model,\n",
    "                 verbose=0):\n",
    "        super(TabNet, self).__init__()\n",
    "\n",
    "        self.batch_size = batch_size\n",
    "        self.num_epochs = num_epochs\n",
    "        self.unsupervised_model = unsupervised_model\n",
    "        self.network = TabNetClassifier(n_d=n_d,\n",
    "                                        n_a=n_a,\n",
    "                                        n_steps=n_steps,\n",
    "                                        gamma=gamma,\n",
    "                                        optimizer_fn=optimizer_fn,\n",
    "                                        n_independent=n_independent,\n",
    "                                        n_shared=n_shared,\n",
    "                                        epsilon=epsilon,\n",
    "                                        seed=seed,\n",
    "                                        lambda_sparse=lambda_sparse,\n",
    "                                        clip_value=clip_value,\n",
    "                                        momentum=momentum,\n",
    "                                        optimizer_params=optimizer_params,\n",
    "                                        scheduler_params=scheduler_params,\n",
    "                                        mask_type=mask_type,\n",
    "                                        scheduler_fn=scheduler_fn,\n",
    "                                        device_name=device_name,\n",
    "                                        output_dim=output_dim,\n",
    "                                        verbose=verbose)\n",
    "    \n",
    "    def fit_model(self, X_train, y_train, X_val, y_val, criterion):\n",
    "        self.network.fit(X_train=X_train, \n",
    "                         y_train=y_train, \n",
    "                         eval_set=[(X_train,y_train),(X_val, y_val)], \n",
    "                         eval_metric=['balanced_accuracy'], \n",
    "                         patience=10, \n",
    "                         batch_size=self.batch_size, \n",
    "                         virtual_batch_size=128, \n",
    "                         num_workers=0, \n",
    "                         drop_last=True, \n",
    "                         max_epochs=self.num_epochs, \n",
    "                         loss_fn=criterion, \n",
    "                         from_unsupervised=self.unsupervised_model)\n",
    "\n",
    "    def predict(self, X):\n",
    "        return self.network.predict(X)\n",
    "    \n",
    "    def explain(self, X):\n",
    "        return self.network.explain(X)\n",
    "    \n",
    "    def feature_importances(self):\n",
    "        return self.network.feature_importances_\n",
    "\n",
    "def get_unsupervised_model(n_d_a,n_step,n_independent,n_shared,gamma,lr):\n",
    "    tabnet_params = dict(n_d=n_d_a, \n",
    "                        n_a=n_d_a,\n",
    "                        n_steps=n_step,\n",
    "                        gamma=gamma,\n",
    "                        n_independent=n_independent,\n",
    "                        n_shared=n_shared,\n",
    "                        lambda_sparse=1e-3,\n",
    "                        optimizer_fn=torch.optim.AdamW, \n",
    "                        optimizer_params=dict(lr=lr),\n",
    "                        mask_type=\"sparsemax\",\n",
    "                        verbose=0\n",
    "                        )\n",
    "    unsupervised_model = TabNetPretrainer(**tabnet_params)\n",
    "    return unsupervised_model"
   ]
  },
  {
   "cell_type": "markdown",
   "metadata": {},
   "source": [
    "# hp conf"
   ]
  },
  {
   "cell_type": "code",
   "execution_count": 13,
   "metadata": {},
   "outputs": [
    {
     "name": "stdout",
     "output_type": "stream",
     "text": [
      "Number of hyperparameter combinations: 16\n"
     ]
    }
   ],
   "source": [
    "nums_epochs = [10]\n",
    "batch_sizes = [512]\n",
    "patience = [10,20]\n",
    "n_d_a = [16]\n",
    "n_shared = [8,16]\n",
    "n_indipendents = [1] \n",
    "n_steps = [8,9]\n",
    "gamma = [1.0]\n",
    "epsilon = [1e-15]\n",
    "learning_rate = [0.01]\n",
    "pretraining_ratio = [0.5]\n",
    "momentum = [0.99]\n",
    "hyperparameters = list(itertools.product(nums_epochs, batch_sizes, patience, n_d_a, n_indipendents, n_shared, n_steps, gamma, epsilon, learning_rate, pretraining_ratio, momentum))\n",
    "n_comb = len(hyperparameters)\n",
    "print (f'Number of hyperparameter combinations: {n_comb}')"
   ]
  },
  {
   "cell_type": "code",
   "execution_count": 14,
   "metadata": {},
   "outputs": [
    {
     "name": "stderr",
     "output_type": "stream",
     "text": [
      "C:\\Users\\rinal\\AppData\\Local\\Temp\\ipykernel_17132\\711053198.py:2: DtypeWarning: Columns (8) have mixed types. Specify dtype option on import or set low_memory=False.\n",
      "  df = pd.read_csv('train_dataset.csv')\n"
     ]
    },
    {
     "name": "stdout",
     "output_type": "stream",
     "text": [
      "[0. 1. 2. 3. 4. 5. 6. 7. 8. 9.]\n",
      "X_train shape after pca: (493601, 44)\n"
     ]
    }
   ],
   "source": [
    "\n",
    "\n",
    "#read the dataset\n",
    "df = pd.read_csv('train_dataset.csv')\n",
    "\n",
    "#DATA CLEANING\n",
    "\n",
    "#filter numerical columns\n",
    "num_columns = df.select_dtypes(include=[np.number]).columns.tolist()\n",
    "\n",
    "#filter categorical columns\n",
    "cat_columns = df.select_dtypes(include=[object]).columns.tolist()\n",
    "\n",
    "# replace '-' values in n columns with the mean of the column(both int and float columns)\n",
    "for column in num_columns:\n",
    "    df[column] = df[column].replace('-', df[column].mean())\n",
    "\n",
    "# replace '-' values in categorical columns with the mode of the column\n",
    "for column in cat_columns:\n",
    "    df[column] = df[column].replace('-', df[column].mode().iloc[0])\n",
    "\n",
    "# Convert all categorical columns to strings\n",
    "df[cat_columns] = df[cat_columns].astype(str)\n",
    "label_values_original = df[\"type\"].unique()\n",
    "encoder = OrdinalEncoder()\n",
    "df[cat_columns] = encoder.fit_transform(df[cat_columns])\n",
    "\n",
    "\n",
    "\n",
    "X = df.drop(columns=[\"type\",\"label\"]).to_numpy()\n",
    "y = df[\"type\"].to_numpy()\n",
    "\n",
    "# Split data into train and test\n",
    "X_train, X_test, y_train, y_test = train_test_split(X, y, test_size=0.2, stratify=y, random_state=seed)\n",
    "\n",
    "\n",
    "# Encoding target\n",
    "le = LabelEncoder()\n",
    "le.fit(y_train)\n",
    "y_train = le.transform(y_train)\n",
    "y_test = le.transform(y_test)\n",
    "\n",
    "#print the value encoded for each class\n",
    "print(le.classes_)\n",
    "\n",
    "#PREPROCESSING\n",
    "\n",
    "# Standardize numerical features\n",
    "scaler = StandardScaler()\n",
    "X_train = scaler.fit_transform(X_train)\n",
    "X_test = scaler.transform(X_test)\n",
    "\n",
    "\n",
    "# Apply LDA\n",
    "# lda = LinearDiscriminantAnalysis()\n",
    "# X_train = lda.fit_transform(X_train, y_train)\n",
    "# X_test = lda.transform(X_test)\n",
    "\n",
    "#apply PCA\n",
    "# pca = PCA(n_components='mle',svd_solver='full')\n",
    "# X_train = pca.fit_transform(X_train)\n",
    "# X_test = pca.transform(X_test)\n",
    "\n",
    "\n",
    "\n",
    "print(f'X_train shape after pca: {X_train.shape}')\n",
    "\n",
    "num_feature = X_train.shape[1]\n",
    "num_classes = len(np.unique(y_train))\n",
    "\n",
    "# Split train data into train and validation\n",
    "X_train, X_val, Y_train, Y_val = train_test_split(X_train, y_train, test_size=0.2, stratify=y_train, random_state=42)\n",
    "\n",
    "\n",
    "#from numpy to tensor\n",
    "X_train_tensor = torch.tensor(X_train, dtype=torch.float32)\n",
    "y_train_tensor = torch.tensor(Y_train, dtype=torch.long)\n",
    "\n",
    "X_val_tensor = torch.tensor(X_val, dtype=torch.float32)\n",
    "y_val_tensor = torch.tensor(Y_val, dtype=torch.long)\n",
    "\n",
    "X_test_tensor = torch.tensor(X_test, dtype=torch.float32)\n",
    "y_test_tensor = torch.tensor(y_test, dtype=torch.long)\n",
    "\n",
    "val_loader = torch.utils.data.DataLoader(torch.utils.data.TensorDataset(X_val_tensor, y_val_tensor), batch_size=Y_val.shape[0], shuffle=False)\n",
    "test_loader = torch.utils.data.DataLoader(torch.utils.data.TensorDataset(X_test_tensor, y_test_tensor), batch_size=y_test.shape[0], shuffle=False)"
   ]
  },
  {
   "cell_type": "code",
   "execution_count": 15,
   "metadata": {},
   "outputs": [
    {
     "name": "stdout",
     "output_type": "stream",
     "text": [
      "{0: np.float64(4.069593536153022), 1: np.float64(0.338110666630134), 2: np.float64(1.132579964205406), 3: np.float64(4.543873699714628), 4: np.float64(98.7202), 5: np.float64(2.983745390799734), 6: np.float64(1.196724530863599), 7: np.float64(63.855239327296246), 8: np.float64(0.2880440935324428), 9: np.float64(0.9752262219939147)}\n"
     ]
    }
   ],
   "source": [
    "#import class weights\n",
    "from sklearn.utils.class_weight import compute_class_weight\n",
    "class_weights = compute_class_weight(class_weight='balanced', classes=np.unique(y_train), y=y_train)\n",
    "class_weights = dict(enumerate(class_weights))\n",
    "print(class_weights)"
   ]
  },
  {
   "cell_type": "markdown",
   "metadata": {},
   "source": [
    "# Training"
   ]
  },
  {
   "cell_type": "code",
   "execution_count": 16,
   "metadata": {},
   "outputs": [
    {
     "name": "stdout",
     "output_type": "stream",
     "text": [
      "Iteration 1/16\n",
      "Hyperparameters: num_epochs=10, batch_size=256, patience=10, n_d=16, n_indipendent=1, n_shared=8, n_steps=8, gamma=1.0, epsilon=1e-15, lr=0.01, pretraining_ratio=0.5, momentum=0.99\n",
      "Stop training because you reached max_epochs = 10 with best_epoch = 0 and best_val_0_unsup_loss_numpy = 10201.6435546875\n"
     ]
    },
    {
     "name": "stderr",
     "output_type": "stream",
     "text": [
      "c:\\Users\\rinal\\Desktop\\UNIBO\\DA\\data-analytics\\.venv\\Lib\\site-packages\\pytorch_tabnet\\callbacks.py:172: UserWarning: Best weights from best epoch are automatically used!\n",
      "  warnings.warn(wrn_msg)\n"
     ]
    },
    {
     "name": "stdout",
     "output_type": "stream",
     "text": [
      "Stop training because you reached max_epochs = 10 with best_epoch = 5 and best_val_1_balanced_accuracy = 0.96822\n"
     ]
    },
    {
     "name": "stderr",
     "output_type": "stream",
     "text": [
      "c:\\Users\\rinal\\Desktop\\UNIBO\\DA\\data-analytics\\.venv\\Lib\\site-packages\\pytorch_tabnet\\callbacks.py:172: UserWarning: Best weights from best epoch are automatically used!\n",
      "  warnings.warn(wrn_msg)\n"
     ]
    },
    {
     "name": "stdout",
     "output_type": "stream",
     "text": [
      "Iteration 2/16\n",
      "Hyperparameters: num_epochs=10, batch_size=256, patience=10, n_d=16, n_indipendent=1, n_shared=8, n_steps=9, gamma=1.0, epsilon=1e-15, lr=0.01, pretraining_ratio=0.5, momentum=0.99\n",
      "Stop training because you reached max_epochs = 10 with best_epoch = 0 and best_val_0_unsup_loss_numpy = 14501.203125\n"
     ]
    },
    {
     "name": "stderr",
     "output_type": "stream",
     "text": [
      "c:\\Users\\rinal\\Desktop\\UNIBO\\DA\\data-analytics\\.venv\\Lib\\site-packages\\pytorch_tabnet\\callbacks.py:172: UserWarning: Best weights from best epoch are automatically used!\n",
      "  warnings.warn(wrn_msg)\n"
     ]
    },
    {
     "name": "stdout",
     "output_type": "stream",
     "text": [
      "Stop training because you reached max_epochs = 10 with best_epoch = 7 and best_val_1_balanced_accuracy = 0.96827\n"
     ]
    },
    {
     "name": "stderr",
     "output_type": "stream",
     "text": [
      "c:\\Users\\rinal\\Desktop\\UNIBO\\DA\\data-analytics\\.venv\\Lib\\site-packages\\pytorch_tabnet\\callbacks.py:172: UserWarning: Best weights from best epoch are automatically used!\n",
      "  warnings.warn(wrn_msg)\n"
     ]
    },
    {
     "name": "stdout",
     "output_type": "stream",
     "text": [
      "Iteration 3/16\n",
      "Hyperparameters: num_epochs=10, batch_size=256, patience=10, n_d=16, n_indipendent=1, n_shared=16, n_steps=8, gamma=1.0, epsilon=1e-15, lr=0.01, pretraining_ratio=0.5, momentum=0.99\n",
      "Stop training because you reached max_epochs = 10 with best_epoch = 0 and best_val_0_unsup_loss_numpy = 2549.381591796875\n"
     ]
    },
    {
     "name": "stderr",
     "output_type": "stream",
     "text": [
      "c:\\Users\\rinal\\Desktop\\UNIBO\\DA\\data-analytics\\.venv\\Lib\\site-packages\\pytorch_tabnet\\callbacks.py:172: UserWarning: Best weights from best epoch are automatically used!\n",
      "  warnings.warn(wrn_msg)\n"
     ]
    },
    {
     "name": "stdout",
     "output_type": "stream",
     "text": [
      "Stop training because you reached max_epochs = 10 with best_epoch = 7 and best_val_1_balanced_accuracy = 0.96526\n"
     ]
    },
    {
     "name": "stderr",
     "output_type": "stream",
     "text": [
      "c:\\Users\\rinal\\Desktop\\UNIBO\\DA\\data-analytics\\.venv\\Lib\\site-packages\\pytorch_tabnet\\callbacks.py:172: UserWarning: Best weights from best epoch are automatically used!\n",
      "  warnings.warn(wrn_msg)\n"
     ]
    },
    {
     "name": "stdout",
     "output_type": "stream",
     "text": [
      "Iteration 4/16\n",
      "Hyperparameters: num_epochs=10, batch_size=256, patience=10, n_d=16, n_indipendent=1, n_shared=16, n_steps=9, gamma=1.0, epsilon=1e-15, lr=0.01, pretraining_ratio=0.5, momentum=0.99\n",
      "Stop training because you reached max_epochs = 10 with best_epoch = 0 and best_val_0_unsup_loss_numpy = 24032.125\n"
     ]
    },
    {
     "name": "stderr",
     "output_type": "stream",
     "text": [
      "c:\\Users\\rinal\\Desktop\\UNIBO\\DA\\data-analytics\\.venv\\Lib\\site-packages\\pytorch_tabnet\\callbacks.py:172: UserWarning: Best weights from best epoch are automatically used!\n",
      "  warnings.warn(wrn_msg)\n"
     ]
    },
    {
     "name": "stdout",
     "output_type": "stream",
     "text": [
      "Stop training because you reached max_epochs = 10 with best_epoch = 1 and best_val_1_balanced_accuracy = 0.92036\n"
     ]
    },
    {
     "name": "stderr",
     "output_type": "stream",
     "text": [
      "c:\\Users\\rinal\\Desktop\\UNIBO\\DA\\data-analytics\\.venv\\Lib\\site-packages\\pytorch_tabnet\\callbacks.py:172: UserWarning: Best weights from best epoch are automatically used!\n",
      "  warnings.warn(wrn_msg)\n"
     ]
    },
    {
     "name": "stdout",
     "output_type": "stream",
     "text": [
      "Iteration 5/16\n",
      "Hyperparameters: num_epochs=10, batch_size=256, patience=20, n_d=16, n_indipendent=1, n_shared=8, n_steps=8, gamma=1.0, epsilon=1e-15, lr=0.01, pretraining_ratio=0.5, momentum=0.99\n",
      "Stop training because you reached max_epochs = 10 with best_epoch = 0 and best_val_0_unsup_loss_numpy = 10201.6435546875\n"
     ]
    },
    {
     "name": "stderr",
     "output_type": "stream",
     "text": [
      "c:\\Users\\rinal\\Desktop\\UNIBO\\DA\\data-analytics\\.venv\\Lib\\site-packages\\pytorch_tabnet\\callbacks.py:172: UserWarning: Best weights from best epoch are automatically used!\n",
      "  warnings.warn(wrn_msg)\n"
     ]
    },
    {
     "name": "stdout",
     "output_type": "stream",
     "text": [
      "Stop training because you reached max_epochs = 10 with best_epoch = 5 and best_val_1_balanced_accuracy = 0.96822\n"
     ]
    },
    {
     "name": "stderr",
     "output_type": "stream",
     "text": [
      "c:\\Users\\rinal\\Desktop\\UNIBO\\DA\\data-analytics\\.venv\\Lib\\site-packages\\pytorch_tabnet\\callbacks.py:172: UserWarning: Best weights from best epoch are automatically used!\n",
      "  warnings.warn(wrn_msg)\n"
     ]
    },
    {
     "name": "stdout",
     "output_type": "stream",
     "text": [
      "Iteration 6/16\n",
      "Hyperparameters: num_epochs=10, batch_size=256, patience=20, n_d=16, n_indipendent=1, n_shared=8, n_steps=9, gamma=1.0, epsilon=1e-15, lr=0.01, pretraining_ratio=0.5, momentum=0.99\n",
      "Stop training because you reached max_epochs = 10 with best_epoch = 0 and best_val_0_unsup_loss_numpy = 14501.203125\n"
     ]
    },
    {
     "name": "stderr",
     "output_type": "stream",
     "text": [
      "c:\\Users\\rinal\\Desktop\\UNIBO\\DA\\data-analytics\\.venv\\Lib\\site-packages\\pytorch_tabnet\\callbacks.py:172: UserWarning: Best weights from best epoch are automatically used!\n",
      "  warnings.warn(wrn_msg)\n"
     ]
    },
    {
     "name": "stdout",
     "output_type": "stream",
     "text": [
      "Stop training because you reached max_epochs = 10 with best_epoch = 7 and best_val_1_balanced_accuracy = 0.96827\n"
     ]
    },
    {
     "name": "stderr",
     "output_type": "stream",
     "text": [
      "c:\\Users\\rinal\\Desktop\\UNIBO\\DA\\data-analytics\\.venv\\Lib\\site-packages\\pytorch_tabnet\\callbacks.py:172: UserWarning: Best weights from best epoch are automatically used!\n",
      "  warnings.warn(wrn_msg)\n"
     ]
    },
    {
     "name": "stdout",
     "output_type": "stream",
     "text": [
      "Iteration 7/16\n",
      "Hyperparameters: num_epochs=10, batch_size=256, patience=20, n_d=16, n_indipendent=1, n_shared=16, n_steps=8, gamma=1.0, epsilon=1e-15, lr=0.01, pretraining_ratio=0.5, momentum=0.99\n",
      "Stop training because you reached max_epochs = 10 with best_epoch = 0 and best_val_0_unsup_loss_numpy = 2549.381591796875\n"
     ]
    },
    {
     "name": "stderr",
     "output_type": "stream",
     "text": [
      "c:\\Users\\rinal\\Desktop\\UNIBO\\DA\\data-analytics\\.venv\\Lib\\site-packages\\pytorch_tabnet\\callbacks.py:172: UserWarning: Best weights from best epoch are automatically used!\n",
      "  warnings.warn(wrn_msg)\n"
     ]
    },
    {
     "name": "stdout",
     "output_type": "stream",
     "text": [
      "Stop training because you reached max_epochs = 10 with best_epoch = 7 and best_val_1_balanced_accuracy = 0.96526\n"
     ]
    },
    {
     "name": "stderr",
     "output_type": "stream",
     "text": [
      "c:\\Users\\rinal\\Desktop\\UNIBO\\DA\\data-analytics\\.venv\\Lib\\site-packages\\pytorch_tabnet\\callbacks.py:172: UserWarning: Best weights from best epoch are automatically used!\n",
      "  warnings.warn(wrn_msg)\n"
     ]
    },
    {
     "name": "stdout",
     "output_type": "stream",
     "text": [
      "Iteration 8/16\n",
      "Hyperparameters: num_epochs=10, batch_size=256, patience=20, n_d=16, n_indipendent=1, n_shared=16, n_steps=9, gamma=1.0, epsilon=1e-15, lr=0.01, pretraining_ratio=0.5, momentum=0.99\n",
      "Stop training because you reached max_epochs = 10 with best_epoch = 0 and best_val_0_unsup_loss_numpy = 24032.125\n"
     ]
    },
    {
     "name": "stderr",
     "output_type": "stream",
     "text": [
      "c:\\Users\\rinal\\Desktop\\UNIBO\\DA\\data-analytics\\.venv\\Lib\\site-packages\\pytorch_tabnet\\callbacks.py:172: UserWarning: Best weights from best epoch are automatically used!\n",
      "  warnings.warn(wrn_msg)\n"
     ]
    },
    {
     "name": "stdout",
     "output_type": "stream",
     "text": [
      "Stop training because you reached max_epochs = 10 with best_epoch = 1 and best_val_1_balanced_accuracy = 0.92036\n"
     ]
    },
    {
     "name": "stderr",
     "output_type": "stream",
     "text": [
      "c:\\Users\\rinal\\Desktop\\UNIBO\\DA\\data-analytics\\.venv\\Lib\\site-packages\\pytorch_tabnet\\callbacks.py:172: UserWarning: Best weights from best epoch are automatically used!\n",
      "  warnings.warn(wrn_msg)\n"
     ]
    },
    {
     "ename": "KeyboardInterrupt",
     "evalue": "",
     "output_type": "error",
     "traceback": [
      "\u001b[1;31m---------------------------------------------------------------------------\u001b[0m",
      "\u001b[1;31mKeyboardInterrupt\u001b[0m                         Traceback (most recent call last)",
      "Cell \u001b[1;32mIn[16], line 45\u001b[0m\n\u001b[0;32m     11\u001b[0m unsupervised_model\u001b[38;5;241m.\u001b[39mfit(\n\u001b[0;32m     12\u001b[0m     X_train\u001b[38;5;241m=\u001b[39mX_train,\n\u001b[0;32m     13\u001b[0m     eval_set\u001b[38;5;241m=\u001b[39m[X_val],\n\u001b[1;32m   (...)\u001b[0m\n\u001b[0;32m     20\u001b[0m     pretraining_ratio\u001b[38;5;241m=\u001b[39mpretraining_ratio_,\n\u001b[0;32m     21\u001b[0m )\n\u001b[0;32m     23\u001b[0m model \u001b[38;5;241m=\u001b[39m TabNet(n_d\u001b[38;5;241m=\u001b[39mn_d,\n\u001b[0;32m     24\u001b[0m                n_a\u001b[38;5;241m=\u001b[39mn_d,\n\u001b[0;32m     25\u001b[0m                n_steps\u001b[38;5;241m=\u001b[39mn_steps_,\n\u001b[1;32m   (...)\u001b[0m\n\u001b[0;32m     43\u001b[0m                unsupervised_model\u001b[38;5;241m=\u001b[39m\u001b[38;5;28;01mNone\u001b[39;00m,\n\u001b[0;32m     44\u001b[0m                verbose\u001b[38;5;241m=\u001b[39m\u001b[38;5;241m0\u001b[39m)\n\u001b[1;32m---> 45\u001b[0m \u001b[43mmodel\u001b[49m\u001b[38;5;241;43m.\u001b[39;49m\u001b[43mfit_model\u001b[49m\u001b[43m(\u001b[49m\u001b[43mX_train\u001b[49m\u001b[43m,\u001b[49m\u001b[43m \u001b[49m\u001b[43mY_train\u001b[49m\u001b[43m,\u001b[49m\u001b[43m \u001b[49m\u001b[43mX_val\u001b[49m\u001b[43m,\u001b[49m\u001b[43m \u001b[49m\u001b[43mY_val\u001b[49m\u001b[43m,\u001b[49m\u001b[43m \u001b[49m\u001b[43mcriterion\u001b[49m\u001b[43m)\u001b[49m    \n\u001b[0;32m     46\u001b[0m y_pred \u001b[38;5;241m=\u001b[39m model\u001b[38;5;241m.\u001b[39mpredict(X_val)\n\u001b[0;32m     47\u001b[0m acc \u001b[38;5;241m=\u001b[39m accuracy_score(Y_val, y_pred)\n",
      "Cell \u001b[1;32mIn[12], line 53\u001b[0m, in \u001b[0;36mTabNet.fit_model\u001b[1;34m(self, X_train, y_train, X_val, y_val, criterion)\u001b[0m\n\u001b[0;32m     52\u001b[0m \u001b[38;5;28;01mdef\u001b[39;00m\u001b[38;5;250m \u001b[39m\u001b[38;5;21mfit_model\u001b[39m(\u001b[38;5;28mself\u001b[39m, X_train, y_train, X_val, y_val, criterion):\n\u001b[1;32m---> 53\u001b[0m     \u001b[38;5;28;43mself\u001b[39;49m\u001b[38;5;241;43m.\u001b[39;49m\u001b[43mnetwork\u001b[49m\u001b[38;5;241;43m.\u001b[39;49m\u001b[43mfit\u001b[49m\u001b[43m(\u001b[49m\u001b[43mX_train\u001b[49m\u001b[38;5;241;43m=\u001b[39;49m\u001b[43mX_train\u001b[49m\u001b[43m,\u001b[49m\u001b[43m \u001b[49m\n\u001b[0;32m     54\u001b[0m \u001b[43m                     \u001b[49m\u001b[43my_train\u001b[49m\u001b[38;5;241;43m=\u001b[39;49m\u001b[43my_train\u001b[49m\u001b[43m,\u001b[49m\u001b[43m \u001b[49m\n\u001b[0;32m     55\u001b[0m \u001b[43m                     \u001b[49m\u001b[43meval_set\u001b[49m\u001b[38;5;241;43m=\u001b[39;49m\u001b[43m[\u001b[49m\u001b[43m(\u001b[49m\u001b[43mX_train\u001b[49m\u001b[43m,\u001b[49m\u001b[43my_train\u001b[49m\u001b[43m)\u001b[49m\u001b[43m,\u001b[49m\u001b[43m(\u001b[49m\u001b[43mX_val\u001b[49m\u001b[43m,\u001b[49m\u001b[43m \u001b[49m\u001b[43my_val\u001b[49m\u001b[43m)\u001b[49m\u001b[43m]\u001b[49m\u001b[43m,\u001b[49m\u001b[43m \u001b[49m\n\u001b[0;32m     56\u001b[0m \u001b[43m                     \u001b[49m\u001b[43meval_metric\u001b[49m\u001b[38;5;241;43m=\u001b[39;49m\u001b[43m[\u001b[49m\u001b[38;5;124;43m'\u001b[39;49m\u001b[38;5;124;43mbalanced_accuracy\u001b[39;49m\u001b[38;5;124;43m'\u001b[39;49m\u001b[43m]\u001b[49m\u001b[43m,\u001b[49m\u001b[43m \u001b[49m\n\u001b[0;32m     57\u001b[0m \u001b[43m                     \u001b[49m\u001b[43mpatience\u001b[49m\u001b[38;5;241;43m=\u001b[39;49m\u001b[38;5;241;43m10\u001b[39;49m\u001b[43m,\u001b[49m\u001b[43m \u001b[49m\n\u001b[0;32m     58\u001b[0m \u001b[43m                     \u001b[49m\u001b[43mbatch_size\u001b[49m\u001b[38;5;241;43m=\u001b[39;49m\u001b[38;5;28;43mself\u001b[39;49m\u001b[38;5;241;43m.\u001b[39;49m\u001b[43mbatch_size\u001b[49m\u001b[43m,\u001b[49m\u001b[43m \u001b[49m\n\u001b[0;32m     59\u001b[0m \u001b[43m                     \u001b[49m\u001b[43mvirtual_batch_size\u001b[49m\u001b[38;5;241;43m=\u001b[39;49m\u001b[38;5;241;43m128\u001b[39;49m\u001b[43m,\u001b[49m\u001b[43m \u001b[49m\n\u001b[0;32m     60\u001b[0m \u001b[43m                     \u001b[49m\u001b[43mnum_workers\u001b[49m\u001b[38;5;241;43m=\u001b[39;49m\u001b[38;5;241;43m0\u001b[39;49m\u001b[43m,\u001b[49m\u001b[43m \u001b[49m\n\u001b[0;32m     61\u001b[0m \u001b[43m                     \u001b[49m\u001b[43mdrop_last\u001b[49m\u001b[38;5;241;43m=\u001b[39;49m\u001b[38;5;28;43;01mTrue\u001b[39;49;00m\u001b[43m,\u001b[49m\u001b[43m \u001b[49m\n\u001b[0;32m     62\u001b[0m \u001b[43m                     \u001b[49m\u001b[43mmax_epochs\u001b[49m\u001b[38;5;241;43m=\u001b[39;49m\u001b[38;5;28;43mself\u001b[39;49m\u001b[38;5;241;43m.\u001b[39;49m\u001b[43mnum_epochs\u001b[49m\u001b[43m,\u001b[49m\u001b[43m \u001b[49m\n\u001b[0;32m     63\u001b[0m \u001b[43m                     \u001b[49m\u001b[43mloss_fn\u001b[49m\u001b[38;5;241;43m=\u001b[39;49m\u001b[43mcriterion\u001b[49m\u001b[43m,\u001b[49m\u001b[43m \u001b[49m\n\u001b[0;32m     64\u001b[0m \u001b[43m                     \u001b[49m\u001b[43mfrom_unsupervised\u001b[49m\u001b[38;5;241;43m=\u001b[39;49m\u001b[38;5;28;43mself\u001b[39;49m\u001b[38;5;241;43m.\u001b[39;49m\u001b[43munsupervised_model\u001b[49m\u001b[43m)\u001b[49m\n",
      "File \u001b[1;32mc:\\Users\\rinal\\Desktop\\UNIBO\\DA\\data-analytics\\.venv\\Lib\\site-packages\\pytorch_tabnet\\abstract_model.py:278\u001b[0m, in \u001b[0;36mTabModel.fit\u001b[1;34m(self, X_train, y_train, eval_set, eval_name, eval_metric, loss_fn, weights, max_epochs, patience, batch_size, virtual_batch_size, num_workers, drop_last, callbacks, pin_memory, from_unsupervised, warm_start, augmentations, compute_importance)\u001b[0m\n\u001b[0;32m    274\u001b[0m \u001b[38;5;28mself\u001b[39m\u001b[38;5;241m.\u001b[39mnetwork\u001b[38;5;241m.\u001b[39meval()\n\u001b[0;32m    276\u001b[0m \u001b[38;5;28;01mif\u001b[39;00m \u001b[38;5;28mself\u001b[39m\u001b[38;5;241m.\u001b[39mcompute_importance:\n\u001b[0;32m    277\u001b[0m     \u001b[38;5;66;03m# compute feature importance once the best model is defined\u001b[39;00m\n\u001b[1;32m--> 278\u001b[0m     \u001b[38;5;28mself\u001b[39m\u001b[38;5;241m.\u001b[39mfeature_importances_ \u001b[38;5;241m=\u001b[39m \u001b[38;5;28;43mself\u001b[39;49m\u001b[38;5;241;43m.\u001b[39;49m\u001b[43m_compute_feature_importances\u001b[49m\u001b[43m(\u001b[49m\u001b[43mX_train\u001b[49m\u001b[43m)\u001b[49m\n",
      "File \u001b[1;32mc:\\Users\\rinal\\Desktop\\UNIBO\\DA\\data-analytics\\.venv\\Lib\\site-packages\\pytorch_tabnet\\abstract_model.py:759\u001b[0m, in \u001b[0;36mTabModel._compute_feature_importances\u001b[1;34m(self, X)\u001b[0m\n\u001b[0;32m    750\u001b[0m \u001b[38;5;28;01mdef\u001b[39;00m\u001b[38;5;250m \u001b[39m\u001b[38;5;21m_compute_feature_importances\u001b[39m(\u001b[38;5;28mself\u001b[39m, X):\n\u001b[0;32m    751\u001b[0m \u001b[38;5;250m    \u001b[39m\u001b[38;5;124;03m\"\"\"Compute global feature importance.\u001b[39;00m\n\u001b[0;32m    752\u001b[0m \n\u001b[0;32m    753\u001b[0m \u001b[38;5;124;03m    Parameters\u001b[39;00m\n\u001b[1;32m   (...)\u001b[0m\n\u001b[0;32m    757\u001b[0m \n\u001b[0;32m    758\u001b[0m \u001b[38;5;124;03m    \"\"\"\u001b[39;00m\n\u001b[1;32m--> 759\u001b[0m     M_explain, _ \u001b[38;5;241m=\u001b[39m \u001b[38;5;28;43mself\u001b[39;49m\u001b[38;5;241;43m.\u001b[39;49m\u001b[43mexplain\u001b[49m\u001b[43m(\u001b[49m\u001b[43mX\u001b[49m\u001b[43m,\u001b[49m\u001b[43m \u001b[49m\u001b[43mnormalize\u001b[49m\u001b[38;5;241;43m=\u001b[39;49m\u001b[38;5;28;43;01mFalse\u001b[39;49;00m\u001b[43m)\u001b[49m\n\u001b[0;32m    760\u001b[0m     sum_explain \u001b[38;5;241m=\u001b[39m M_explain\u001b[38;5;241m.\u001b[39msum(axis\u001b[38;5;241m=\u001b[39m\u001b[38;5;241m0\u001b[39m)\n\u001b[0;32m    761\u001b[0m     feature_importances_ \u001b[38;5;241m=\u001b[39m sum_explain \u001b[38;5;241m/\u001b[39m np\u001b[38;5;241m.\u001b[39msum(sum_explain)\n",
      "File \u001b[1;32mc:\\Users\\rinal\\Desktop\\UNIBO\\DA\\data-analytics\\.venv\\Lib\\site-packages\\pytorch_tabnet\\abstract_model.py:369\u001b[0m, in \u001b[0;36mTabModel.explain\u001b[1;34m(self, X, normalize)\u001b[0m\n\u001b[0;32m    367\u001b[0m     \u001b[38;5;28;01melse\u001b[39;00m:\n\u001b[0;32m    368\u001b[0m         \u001b[38;5;28;01mfor\u001b[39;00m key, value \u001b[38;5;129;01min\u001b[39;00m masks\u001b[38;5;241m.\u001b[39mitems():\n\u001b[1;32m--> 369\u001b[0m             res_masks[key] \u001b[38;5;241m=\u001b[39m \u001b[43mnp\u001b[49m\u001b[38;5;241;43m.\u001b[39;49m\u001b[43mvstack\u001b[49m\u001b[43m(\u001b[49m\u001b[43m[\u001b[49m\u001b[43mres_masks\u001b[49m\u001b[43m[\u001b[49m\u001b[43mkey\u001b[49m\u001b[43m]\u001b[49m\u001b[43m,\u001b[49m\u001b[43m \u001b[49m\u001b[43mvalue\u001b[49m\u001b[43m]\u001b[49m\u001b[43m)\u001b[49m\n\u001b[0;32m    371\u001b[0m res_explain \u001b[38;5;241m=\u001b[39m np\u001b[38;5;241m.\u001b[39mvstack(res_explain)\n\u001b[0;32m    373\u001b[0m \u001b[38;5;28;01mif\u001b[39;00m normalize:\n",
      "File \u001b[1;32mc:\\Users\\rinal\\Desktop\\UNIBO\\DA\\data-analytics\\.venv\\Lib\\site-packages\\numpy\\_core\\shape_base.py:292\u001b[0m, in \u001b[0;36mvstack\u001b[1;34m(tup, dtype, casting)\u001b[0m\n\u001b[0;32m    290\u001b[0m \u001b[38;5;28;01mif\u001b[39;00m \u001b[38;5;129;01mnot\u001b[39;00m \u001b[38;5;28misinstance\u001b[39m(arrs, \u001b[38;5;28mtuple\u001b[39m):\n\u001b[0;32m    291\u001b[0m     arrs \u001b[38;5;241m=\u001b[39m (arrs,)\n\u001b[1;32m--> 292\u001b[0m \u001b[38;5;28;01mreturn\u001b[39;00m \u001b[43m_nx\u001b[49m\u001b[38;5;241;43m.\u001b[39;49m\u001b[43mconcatenate\u001b[49m\u001b[43m(\u001b[49m\u001b[43marrs\u001b[49m\u001b[43m,\u001b[49m\u001b[43m \u001b[49m\u001b[38;5;241;43m0\u001b[39;49m\u001b[43m,\u001b[49m\u001b[43m \u001b[49m\u001b[43mdtype\u001b[49m\u001b[38;5;241;43m=\u001b[39;49m\u001b[43mdtype\u001b[49m\u001b[43m,\u001b[49m\u001b[43m \u001b[49m\u001b[43mcasting\u001b[49m\u001b[38;5;241;43m=\u001b[39;49m\u001b[43mcasting\u001b[49m\u001b[43m)\u001b[49m\n",
      "\u001b[1;31mKeyboardInterrupt\u001b[0m: "
     ]
    }
   ],
   "source": [
    "current_iter = 0\n",
    "best_acc = 0\n",
    "criterion = torch.nn.CrossEntropyLoss(weight=torch.tensor(list(class_weights.values()), dtype=torch.float32).to(device))\n",
    "for num_epochs, batch_size, patience_, n_d, n_i, n_s, n_steps_, gamma_, epsilon_, lr, pretraining_ratio_, moment in hyperparameters:\n",
    "    \n",
    "    print(f'Iteration {current_iter+1}/{n_comb}')\n",
    "    print(f'Hyperparameters: num_epochs={num_epochs}, batch_size={batch_size}, patience={patience_}, n_d={n_d}, n_indipendent={n_i}, n_shared={n_s}, n_steps={n_steps_}, gamma={gamma_}, epsilon={epsilon_}, lr={lr}, pretraining_ratio={pretraining_ratio_}, momentum={moment}')\n",
    "\n",
    "    unsupervised_model = get_unsupervised_model(n_d, n_steps_, n_i, n_s, gamma_, lr)\n",
    "        \n",
    "    unsupervised_model.fit(\n",
    "        X_train=X_train,\n",
    "        eval_set=[X_val],\n",
    "        max_epochs=num_epochs,\n",
    "        patience=patience_,\n",
    "        batch_size=batch_size,\n",
    "        virtual_batch_size=128,\n",
    "        num_workers=0,\n",
    "        drop_last=False,\n",
    "        pretraining_ratio=pretraining_ratio_,\n",
    "    )\n",
    "\n",
    "    model = TabNet(n_d=n_d,\n",
    "                   n_a=n_d,\n",
    "                   n_steps=n_steps_,\n",
    "                   gamma=gamma_,\n",
    "                   optimizer_fn=torch.optim.AdamW,\n",
    "                   n_independent=n_i,\n",
    "                   n_shared=n_s,\n",
    "                   epsilon=epsilon_,\n",
    "                   seed=seed,\n",
    "                   lambda_sparse=1e-4,\n",
    "                   clip_value=1,\n",
    "                   momentum=moment,\n",
    "                   optimizer_params=dict(lr=lr),\n",
    "                   scheduler_params=dict(step_size=10, gamma=0.9),\n",
    "                   mask_type='sparsemax',\n",
    "                   scheduler_fn=torch.optim.lr_scheduler.StepLR,\n",
    "                   device_name=device,\n",
    "                   output_dim=len(np.unique(y_train)),\n",
    "                   batch_size=batch_size,\n",
    "                   num_epochs=num_epochs,\n",
    "                   unsupervised_model=None,\n",
    "                   verbose=0)\n",
    "    model.fit_model(X_train, Y_train, X_val, Y_val, criterion)    \n",
    "    y_pred = model.predict(X_val)\n",
    "    acc = accuracy_score(Y_val, y_pred)\n",
    "    if acc > best_acc:\n",
    "        best_acc = acc\n",
    "        best_model = copy.deepcopy(model)\n",
    "        best_hyperparameters = f\"num_epochs={num_epochs}, batch_size={batch_size}, patience={patience_}, n_d={n_d}, n_indipendent={n_i}, n_shared={n_s}, n_steps={n_steps_}, gamma={gamma_}, epsilon={epsilon_}, lr={lr}, pretraining_ratio={pretraining_ratio_}, momentum={moment}\"\n",
    "    current_iter += 1"
   ]
  },
  {
   "cell_type": "markdown",
   "metadata": {},
   "source": [
    "# Testing"
   ]
  },
  {
   "cell_type": "code",
   "execution_count": 18,
   "metadata": {},
   "outputs": [
    {
     "name": "stdout",
     "output_type": "stream",
     "text": [
      "Best model hyperparameters: num_epochs=10, batch_size=256, patience=10, n_d=16, n_indipendent=1, n_shared=8, n_steps=9, gamma=1.0, epsilon=1e-15, lr=0.01, pretraining_ratio=0.5, momentum=0.99\n",
      "Accuracy: 0.9882253790487922\n",
      "\n",
      "Balanced accuracy: 0.9683580649773453\n",
      "\n",
      "              precision    recall  f1-score   support\n",
      "\n",
      "      normal       1.00      0.97      0.98      3032\n",
      "    scanning       1.00      1.00      1.00     36497\n",
      "         dos       0.97      1.00      0.98     10896\n",
      "   injection       0.99      1.00      0.99      2716\n",
      "        ddos       0.57      0.98      0.72       125\n",
      "    password       0.99      0.77      0.87      4136\n",
      "         xss       0.99      0.99      0.99     10311\n",
      "  ransomware       0.28      0.99      0.43       193\n",
      "    backdoor       1.00      1.00      1.00     42841\n",
      "        mitm       0.98      0.98      0.98     12654\n",
      "\n",
      "    accuracy                           0.99    123401\n",
      "   macro avg       0.88      0.97      0.89    123401\n",
      "weighted avg       0.99      0.99      0.99    123401\n",
      "\n"
     ]
    },
    {
     "data": {
      "text/plain": [
       "<Figure size 2000x2000 with 0 Axes>"
      ]
     },
     "metadata": {},
     "output_type": "display_data"
    },
    {
     "data": {
      "image/png": "[encoded data removed]",
      "text/plain": [
       "<Figure size 640x480 with 2 Axes>"
      ]
     },
     "metadata": {},
     "output_type": "display_data"
    }
   ],
   "source": [
    "#save best model as best_tabnet\n",
    "torch.save(best_model, 'models/best_tabnet')\n",
    "\n",
    "#save best hp\n",
    "with open('models/best_tabnet_hp.txt', 'w') as f:\n",
    "    f.write(best_hyperparameters)\n",
    "    \n",
    "print(f'Best model hyperparameters: {best_hyperparameters}')\n",
    "y_pred = best_model.predict(X_test)\n",
    "acc = accuracy_score(y_test, y_pred)\n",
    "print(f'Accuracy: {acc}\\n')\n",
    "\n",
    "#compute the classficication report\n",
    "from sklearn.metrics import classification_report,balanced_accuracy_score\n",
    "\n",
    "#print balanced accuracy\n",
    "print(f'Balanced accuracy: {balanced_accuracy_score(y_test, y_pred)}\\n')\n",
    "\n",
    "\n",
    "print(classification_report(y_test, y_pred, target_names=label_values_original))\n",
    "#save it\n",
    "with open('models/best_tabnet_classification_report.txt', 'w') as f:\n",
    "    f.write(classification_report(y_test, y_pred, target_names=label_values_original))\n",
    "#compute the confusion matrix\n",
    "from sklearn.metrics import confusion_matrix, ConfusionMatrixDisplay\n",
    "\n",
    "import seaborn as sns\n",
    "import matplotlib.pyplot as plt\n",
    "cm = confusion_matrix(y_test, y_pred)\n",
    "plt.figure(figsize=(20,20))\n",
    "disp = ConfusionMatrixDisplay(confusion_matrix=cm, display_labels=label_values_original)\n",
    "disp.plot()\n",
    "plt.show()"
   ]
  },
  {
   "cell_type": "markdown",
   "metadata": {},
   "source": [
    "# Explainability"
   ]
  },
  {
   "cell_type": "code",
   "execution_count": 36,
   "metadata": {},
   "outputs": [
    {
     "data": {
      "image/png": "[encoded data removed]",
      "text/plain": [
       "<Figure size 1000x600 with 1 Axes>"
      ]
     },
     "metadata": {},
     "output_type": "display_data"
    }
   ],
   "source": [
    "# Assuming `feature_importances` is a numpy array containing the importance values\n",
    "# and `feature_names` is a list of names corresponding to the features\n",
    "feature_importances = best_model.network.feature_importances_\n",
    "feature_names = df.drop(columns=['type','label']).columns\n",
    "\n",
    "# Sort the feature importances in descending order and select the top 10\n",
    "indices = np.argsort(feature_importances)[-10:][::-1]\n",
    "top_features = feature_importances[indices]\n",
    "top_feature_names = feature_names[indices]\n",
    "\n",
    "# Plotting\n",
    "plt.figure(figsize=(10, 6))\n",
    "plt.barh(top_feature_names, top_features, color='skyblue')\n",
    "plt.xlabel(\"Feature Importance\")\n",
    "plt.title(\"Top 10 Most Important Features\")\n",
    "plt.gca().invert_yaxis()  # To show the most important feature at the top\n",
    "plt.show()"
   ]
  }
 ],
 "metadata": {
  "kernelspec": {
   "display_name": ".venv",
   "language": "python",
   "name": "python3"
  },
  "language_info": {
   "codemirror_mode": {
    "name": "ipython",
    "version": 3
   },
   "file_extension": ".py",
   "mimetype": "text/x-python",
   "name": "python",
   "nbconvert_exporter": "python",
   "pygments_lexer": "ipython3",
   "version": "3.12.8"
  }
 },
 "nbformat": 4,
 "nbformat_minor": 2
}
