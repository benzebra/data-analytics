{
 "cells": [
  {
   "cell_type": "code",
   "execution_count": 1,
   "metadata": {},
   "outputs": [],
   "source": [
    "import pandas as pd\n",
    "import numpy as np\n",
    "# import torch\n",
    "from sklearn.model_selection import train_test_split\n",
    "from sklearn.model_selection import PredefinedSplit\n",
    "from sklearn import preprocessing\n",
    "\n",
    "seed = 42\n",
    "\n",
    "FILENAME = \"train_dataset.csv\"\n",
    "\n",
    "#Prepare train data\n",
    "df1 = pd.read_csv(FILENAME, encoding='ISO-8859-1', sep=\",\", low_memory=False)\n",
    "# print(\"EX1) #Righe: \" + str(df1.shape[0])+ \" #Colonne: \"+str(df1.shape[1]))\n",
    "\n",
    "# print(df1.nunique())\n",
    "# print(df1.isna().sum())\n",
    "\n",
    "# print(df1.shape)\n",
    "df1 = df1.dropna()\n",
    "# print(df1.shape)"
   ]
  },
  {
   "cell_type": "code",
   "execution_count": 3,
   "metadata": {},
   "outputs": [
    {
     "name": "stdout",
     "output_type": "stream",
     "text": [
      "    Element: -, Count: 571298\n",
      "    Element: F, Count: 44720\n",
      "    Element: T, Count: 965\n",
      "    Element: -, Count: 571298\n",
      "    Element: F, Count: 3384\n",
      "    Element: T, Count: 42301\n",
      "    Element: -, Count: 571298\n",
      "    Element: F, Count: 24978\n",
      "    Element: T, Count: 20707\n",
      "    Element: -, Count: 571298\n",
      "    Element: F, Count: 25403\n",
      "    Element: T, Count: 20282\n",
      "    Element: -, Count: 616307\n",
      "    Element: TLSv10, Count: 655\n",
      "    Element: TLSv11, Count: 1\n",
      "    Element: TLSv12, Count: 12\n",
      "    Element: TLSv13, Count: 8\n",
      "    Element: -, Count: 616307\n",
      "    Element: TLS_AES_128_GCM_SHA256, Count: 8\n",
      "    Element: TLS_DHE_RSA_WITH_AES_128_CBC_SHA, Count: 1\n",
      "    Element: TLS_DHE_RSA_WITH_AES_256_CBC_SHA, Count: 1\n",
      "    Element: TLS_ECDHE_RSA_WITH_AES_128_GCM_SHA256, Count: 10\n",
      "    Element: TLS_ECDHE_RSA_WITH_AES_256_CBC_SHA, Count: 655\n",
      "    Element: TLS_ECDHE_RSA_WITH_AES_256_GCM_SHA384, Count: 1\n",
      "    Element: -, Count: 616274\n",
      "    Element: F, Count: 704\n",
      "    Element: T, Count: 5\n",
      "    Element: -, Count: 616274\n",
      "    Element: F, Count: 69\n",
      "    Element: T, Count: 640\n",
      "    Element: -, Count: 616348\n",
      "    Element: CN=Mr Shepherd;OU=Security Shepherd Project;O=OWASP;L=Dublin;ST=Ireland;C=IE, Count: 633\n",
      "    Element: CN=localhost, Count: 1\n",
      "    Element: emailAddress=none@vmware.com;CN=VMware;OU=VMware;L=Palo Alto;C=US, Count: 1\n",
      "    Element: -, Count: 616348\n",
      "    Element: CN=Mr Shepherd;OU=Security Shepherd Project;O=OWASP;L=Dublin;ST=Ireland;C=IE, Count: 633\n",
      "    Element: CN=localhost, Count: 1\n",
      "    Element: emailAddress=none@vmware.com;CN=VMware;OU=VMware;L=Palo Alto;C=US, Count: 1\n",
      "    Element: -, Count: 616245\n",
      "    Element: 1, Count: 738\n",
      "    Element: -, Count: 616246\n",
      "    Element: GET, Count: 339\n",
      "    Element: POST, Count: 398\n",
      "    Element: -, Count: 616246\n",
      "    Element: /, Count: 541\n",
      "    Element: /<body oninput=javascript:af2b35a6519a70ca4bff610c68a0cf0a><input autofocus>, Count: 1\n",
      "    Element: /<html onMouseUp html onMouseUp=\"javascript:d1de3438cfa93a0a6077481b325f747b\"></html onMouseUp>, Count: 1\n",
      "    Element: /<marquee onStart marquee onStart=\"javascript:javascript:6072f3aa237c7d8fcc0d1c4aacbbabc9\"></marquee onStart>, Count: 1\n",
      "    Element: /<script/src=\"data&colon;text/j\\\\u0061v\\\\u0061script;\\\\u0061lert(\"534f8ce137f450ac87cf87ae47a6610c\")\"></script a=\\\\u0061 & /=/, Count: 1\n",
      "    Element: /?C=D;O=A, Count: 1\n",
      "    Element: /?C=D;O=D, Count: 2\n",
      "    Element: /?C=M;O=A, Count: 1\n",
      "    Element: /?C=M;O=D, Count: 2\n",
      "    Element: /?C=N;O=A, Count: 6\n",
      "    Element: /?C=N;O=D, Count: 1\n",
      "    Element: /?C=S;O=A, Count: 3\n",
      "    Element: /?C=S;O=D, Count: 4\n",
      "    Element: /Default.aspx, Count: 1\n",
      "    Element: /cgi-bin/pub/pki?cmd=serverInfo, Count: 1\n",
      "    Element: /d/msdownload/update/software/defu/2019/02/updateplatform_23725566d66a26c81fbfaf79701b727f92a650ea.exe, Count: 1\n",
      "    Element: /d/msdownload/update/software/updt/2018/10/windows10.0-kb4462930-x64_d52b4bff2c86e2ffc0b40b2dce6b720836e1b646.cab, Count: 1\n",
      "    Element: /dvwa/, Count: 1\n",
      "    Element: /dvwa/login.php, Count: 122\n",
      "    Element: /dvwa/vulnerabilities/sqli//37;51;99;37;50;102;37;53;52;37;52;57;37;53;52;37;52;99;37;52;53;37;51;101;37;54;50;37;51;56;37;51;50;37;51;56;37;51;56;37;54;50;37;54;52;37;51;49;37;51;49;37;51;51;37;54;54;37;54;49;37;54;54;37;51;51;37;51;57;37;54;54;37;51;57;37;51;52;37;51;49;37;51;49;37;51;48;37;51;55;37;51;51;37;51;56;37;54;50;37;51;49;37;51;55;37;51;51;37;54;52;37;54;50;37;51;54;37;54;53, Count: 1\n",
      "    Element: /dvwa/vulnerabilities/sqli//<!DOCTYPE x [ <!ATTLIST img xmlns CDATA \"http://www.w3.org/1999/xhtml\" src CDATA \"x\" onerror CDATA \"65cad75202f36327c77fb1ca8e281b92\"> ]><img /><doc xmlns:xlink=\"http://www.w3.org/1999/xlink\" xmlns:html=\"http://www.w3.org/1999/xhtml\"> <html:style /><x xlink:href=\"javascript:65cad75202f36327c77fb1ca8e281b92\" xlink:type=\"simple\">XXX</x> </doc>, Count: 1\n",
      "    Element: /dvwa/vulnerabilities/sqli//</style &, Count: 1\n",
      "    Element: /dvwa/vulnerabilities/sqli//<IMG SRC=\"javascript:javascript:63750010f991ee15777fbaa34a58899b;\">, Count: 1\n",
      "    Element: /dvwa/vulnerabilities/sqli//<SCRIPT>a=/2a19bb69e59d6c9c9bb7e2dc63887a2d/alert(a.source)</SCRIPT>, Count: 1\n",
      "    Element: /dvwa/vulnerabilities/sqli//<a href=\"javascript:void(0)\" onmouseover=&NewLine;javascript:alert(598a02b0758df50feef8f22dd872fa54)&NewLine;>X</a>, Count: 1\n",
      "    Element: /dvwa/vulnerabilities/sqli//<a style=\"behavior:url(, Count: 1\n",
      "    Element: /dvwa/vulnerabilities/sqli//<body src=1 href=1 onerror=\"679fc2f450e2488a2e945ffa0e1a0a5c\"></body>, Count: 1\n",
      "    Element: /dvwa/vulnerabilities/sqli//<img src=1 href=1 onerror=\"76e4321b9e6deb7adf3b3ad8863598e6\"></img>, Count: 1\n",
      "    Element: /dvwa/vulnerabilities/sqli//<script>ReferenceError.prototype.__defineGetter__('name'; function(){be85a8e2627e7a0fbd6905cb6cf8fdad});x</script>, Count: 1\n",
      "    Element: /dvwa/vulnerabilities/xss_r/?name=admin/, Count: 6\n",
      "    Element: /dvwa/vulnerabilities/xss_s//<body onPageHide body onPageHide=\"javascript:javascript:dbc05720162f7ff29091016dfc33f243\"></body onPageHide>, Count: 1\n",
      "    Element: /dvwa/vulnerabilities/xss_s//<embed code=\"ed9756834c41817a3381c2dd2d31952c\" allowscriptaccess=always>, Count: 1\n",
      "    Element: /dvwa/vulnerabilities/xss_s//<frameset onScroll frameset onScroll=\"javascript:6be7abcdfa7624b93a00a1180a995928\"></frameset onScroll>, Count: 1\n",
      "    Element: /dvwa/vulnerabilities/xss_s//<html onMouseMove html onMouseMove=\"javascript:javascript:9234775381e1d03d7ed9c66ce03b5510\"></html onMouseMove>, Count: 1\n",
      "    Element: /dvwa/vulnerabilities/xss_s//<img src onerror /\" '\"= alt=747a025d1df8ef75721f11cf146fe5e3//\">, Count: 1\n",
      "    Element: /dvwa/vulnerabilities/xss_s//<img[a][b][c]src[d]=x[e]onerror=[f]\"bf55ccc6b8e074d33f553f2a39b25090\">, Count: 1\n",
      "    Element: /dvwa/vulnerabilities/xss_s//<script onReadyStateChange script onReadyStateChange=\"javascript:f7d1103bccac2390e18c8ab09cfae067\"></script onReadyStateChange>, Count: 1\n",
      "    Element: /dvwa/vulnerabilities/xss_s//<script>if(document.createElement(\"td\").cellIndex == 0){e1b0209890d4dc009a68ecaa909a0f59}</script>, Count: 1\n",
      "    Element: /dvwa/vulnerabilities/xss_s//<svg onUnload svg onUnload=\"javascript:cfc3a079f9ecbb113b170ff49936717e\"></svg onUnload>, Count: 1\n",
      "    Element: /dvwa/vulnerabilities/xss_s//<x xmlns:ev=\"http://www.w3.org/2001/xml-events\" ev:event=\"load\" ev:handler=\"javascript:dbb6ebcf6ef2794e10a40eb8d0981bf7//, Count: 1\n",
      "    Element: /html/, Count: 2\n",
      "    Element: /icon_SML.png, Count: 1\n",
      "    Element: /index.html, Count: 1\n",
      "    Element: /index.php, Count: 1\n",
      "    Element: /js/zimbraMail/share/model/ZmSettings.js, Count: 1\n",
      "    Element: /manual, Count: 2\n",
      "    Element: /manual/fr/index.html, Count: 1\n",
      "    Element: /manual/ja/index.html, Count: 1\n",
      "    Element: /manual/tr/index.html, Count: 1\n",
      "    Element: /manual/zh-cn/index.html, Count: 1\n",
      "    Element: /no_nonce_string/ContentDirectory/scpd.xml, Count: 1\n",
      "    Element: /pls/portal/DEV4_PORTAL_DEMO.ORG_CHART.SHOW, Count: 1\n",
      "    Element: /upnp/control/ConnectionManager1, Count: 1\n",
      "    Element: /webmail/, Count: 1\n",
      "    Element: /webmail/src/login.php&, Count: 1\n",
      "    Element: /webmail/src/login.php<HTML><BODY><?xml:namespace prefix=\"t\" ns=\"urn:schemas-microsoft-com:time\"><?import namespace=\"t\" implementation=\", Count: 1\n",
      "    Element: /webmail/src/login.php<body onkeydown body onkeydown=\"javascript:179359a6e977dbac5998c5e7b5bc776e\"></body onkeydown>, Count: 1\n",
      "    Element: -, Count: 616983\n",
      "    Element: -, Count: 616260\n",
      "    Element: 1.1, Count: 723\n",
      "    Element: 0, Count: 616921\n",
      "    Element: 39, Count: 5\n",
      "    Element: 40, Count: 18\n",
      "    Element: 41, Count: 7\n",
      "    Element: 42, Count: 10\n",
      "    Element: 43, Count: 4\n",
      "    Element: 44, Count: 4\n",
      "    Element: 47, Count: 13\n",
      "    Element: 300, Count: 1\n",
      "    Element: 0, Count: 616777\n",
      "    Element: 2, Count: 2\n",
      "    Element: 116, Count: 61\n",
      "    Element: 283, Count: 2\n",
      "    Element: 303, Count: 1\n",
      "    Element: 306, Count: 1\n",
      "    Element: 307, Count: 1\n",
      "    Element: 312, Count: 1\n",
      "    Element: 537, Count: 1\n",
      "    Element: 544, Count: 1\n",
      "    Element: 570, Count: 2\n",
      "    Element: 787, Count: 7\n",
      "    Element: 818, Count: 1\n",
      "    Element: 891, Count: 12\n",
      "    Element: 941, Count: 17\n",
      "    Element: 980, Count: 15\n",
      "    Element: 1055, Count: 1\n",
      "    Element: 1057, Count: 1\n",
      "    Element: 1447, Count: 1\n",
      "    Element: 1523, Count: 5\n",
      "    Element: 1573, Count: 56\n",
      "    Element: 8884, Count: 1\n",
      "    Element: 9416, Count: 1\n",
      "    Element: 9479, Count: 1\n",
      "    Element: 9649, Count: 1\n",
      "    Element: 10918, Count: 10\n",
      "    Element: 11510, Count: 2\n",
      "    Element: 29073, Count: 1\n",
      "    Element: 0, Count: 616260\n",
      "    Element: 200, Count: 116\n",
      "    Element: 206, Count: 2\n",
      "    Element: 302, Count: 573\n",
      "    Element: 400, Count: 16\n",
      "    Element: 403, Count: 3\n",
      "    Element: 404, Count: 13\n",
      "    Element: -, Count: 616246\n",
      "    Element: CERN-LineMode/2.15, Count: 5\n",
      "    Element: China Local Browser 2.6, Count: 9\n",
      "    Element: ClariaBot/1.0, Count: 7\n",
      "    Element: Comos/0.9_(robot@xyleme.com), Count: 3\n",
      "    Element: Crawler@alexa.com, Count: 7\n",
      "    Element: DataCha0s/2.0, Count: 7\n",
      "    Element: DonutP; Windows98SE, Count: 8\n",
      "    Element: Dr.Web (R) online scanner: http://online.drweb.com/, Count: 6\n",
      "    Element: Dragonfly File Reader, Count: 11\n",
      "    Element: Eurobot/1.0 (http://www.ayell.eu), Count: 7\n",
      "    Element: EvaalSE - bot@evaal.com, Count: 9\n",
      "    Element: FARK.com link verifier, Count: 11\n",
      "    Element: FavIconizer, Count: 6\n",
      "    Element: Feedfetcher-Google; (+http://www.google.com/feedfetcher.html), Count: 5\n",
      "    Element: Feliz - Mixcat Crawler (+http://mixcat.com), Count: 7\n",
      "    Element: Microsoft-Delivery-Optimization/10.0, Count: 2\n",
      "    Element: Microsoft-Windows/10.0 UPnP/1.0, Count: 1\n",
      "    Element: Microsoft-Windows/10.0 UPnP/1.0 Microsoft-DLNA DLNADOC/1.50, Count: 1\n",
      "    Element: Mozilla/1.22 (compatible; MSIE 10.0; Windows 3.1), Count: 4\n",
      "    Element: Mozilla/2.02E (Win95; U), Count: 4\n",
      "    Element: Mozilla/4.0 (Compatible; MSIE 8.0; Windows NT 5.2; Trident/6.0), Count: 11\n",
      "    Element: Mozilla/4.0 (compatible; MSIE 6.0; AOL 8.0; Windows NT 5.1; SV1), Count: 7\n",
      "    Element: Mozilla/4.0 (compatible; MSIE 6.0; Windows NT 5.1), Count: 3\n",
      "    Element: Mozilla/4.0 (compatible; MSIE 7.0; AOL 9.0; Windows NT 5.1; .NET CLR 1.1.4322; Zango 10.1.181.0), Count: 4\n",
      "    Element: Mozilla/4.0 (compatible; MSIE 7.0; AOL 9.5; AOLBuild 4337.35; Windows NT 5.1; .NET CLR 1.1.4322; .NET CLR 2.0.50727), Count: 9\n",
      "    Element: Mozilla/4.0 (compatible; MSIE 7.0; Windows NT 6.0), Count: 2\n",
      "    Element: Mozilla/4.0 (compatible; MSIE 8.0; Windows NT 5.1; Trident/4.0), Count: 9\n",
      "    Element: Mozilla/4.0(compatible; MSIE 7.0b; Windows NT 6.0), Count: 5\n",
      "    Element: Mozilla/4.08 [en] (WinNT; I ;Nav), Count: 6\n",
      "    Element: Mozilla/5.0 (Hydra), Count: 118\n",
      "    Element: Mozilla/5.0 (Linux; U; Android 0.5; en-us), Count: 10\n",
      "    Element: Mozilla/5.0 (Linux; U; en-US) AppleWebKit/525.13 (KHTML; like Gecko) Chrome/0.2.149.27 Safari/525.13, Count: 3\n",
      "    Element: Mozilla/5.0 (Macintosh; Intel Mac OS X 10.11; rv:49.0) Gecko/20100101 Firefox/49.0, Count: 4\n",
      "    Element: Mozilla/5.0 (Macintosh; Intel Mac OS X 10_10_1) AppleWebKit/537.36 (KHTML; like Gecko) Chrome/37.0.2062.124 Safari/537.36, Count: 1\n",
      "    Element: Mozilla/5.0 (Macintosh; Intel Mac OS X 10_11_6) AppleWebKit/537.36 (KHTML; like Gecko) Chrome/53.0.2785.143 Safari/537.36, Count: 7\n",
      "    Element: Mozilla/5.0 (Macintosh; Intel Mac OS X 10_11_6) AppleWebKit/537.36 (KHTML; like Gecko) Chrome/54.0.2840.71 Safari/537.36, Count: 4\n",
      "    Element: Mozilla/5.0 (Macintosh; Intel Mac OS X 10_11_6) AppleWebKit/602.1.50 (KHTML; like Gecko) Version/10.0 Safari/602.1.50, Count: 6\n",
      "    Element: Mozilla/5.0 (Macintosh; Intel Mac OS X 10_12) AppleWebKit/602.1.50 (KHTML; like Gecko) Version/10.0 Safari/602.1.50, Count: 4\n",
      "    Element: Mozilla/5.0 (Macintosh; Intel Mac OS X 10_12_0) AppleWebKit/537.36 (KHTML; like Gecko) Chrome/53.0.2785.143 Safari/537.36, Count: 6\n",
      "    Element: Mozilla/5.0 (Macintosh; Intel Mac OS X 10_12_0) AppleWebKit/537.36 (KHTML; like Gecko) Chrome/54.0.2840.71 Safari/537.36, Count: 8\n",
      "    Element: Mozilla/5.0 (Macintosh; Intel Mac OS X 10_12_1) AppleWebKit/537.36 (KHTML; like Gecko) Chrome/54.0.2840.71 Safari/537.36, Count: 7\n",
      "    Element: Mozilla/5.0 (Macintosh; Intel Mac OS X 10_12_1) AppleWebKit/602.2.14 (KHTML; like Gecko) Version/10.0.1 Safari/602.2.14, Count: 8\n",
      "    Element: Mozilla/5.0 (Macintosh; U; Mac OS X 10_6_1; en-US) AppleWebKit/530.5 (KHTML; like Gecko) Chrome/ Safari/530.5, Count: 5\n",
      "    Element: Mozilla/5.0 (SMART-TV; Linux; Tizen 2.3) AppleWebkit/538.1 (KHTML; like Gecko) SamsungBrowser/1.0 Safari/538.1, Count: 3\n",
      "    Element: Mozilla/5.0 (Windows NT 10.0; WOW64) AppleWebKit/537.36 (KHTML; like Gecko) Chrome/53.0.2785.143 Safari/537.36, Count: 5\n",
      "    Element: Mozilla/5.0 (Windows NT 10.0; WOW64) AppleWebKit/537.36 (KHTML; like Gecko) Chrome/54.0.2840.71 Safari/537.36, Count: 5\n",
      "    Element: Mozilla/5.0 (Windows NT 10.0; WOW64; rv:49.0) Gecko/20100101 Firefox/49.0, Count: 3\n",
      "    Element: Mozilla/5.0 (Windows NT 10.0; Win64; x64) AppleWebKit/537.36 (KHTML; like Gecko) Chrome/51.0.2704.79 Safari/537.36 Edge/14.14393, Count: 7\n",
      "    Element: Mozilla/5.0 (Windows NT 10.0; Win64; x64) AppleWebKit/537.36 (KHTML; like Gecko) Chrome/53.0.2785.143 Safari/537.36, Count: 6\n",
      "    Element: Mozilla/5.0 (Windows NT 10.0; Win64; x64) AppleWebKit/537.36 (KHTML; like Gecko) Chrome/54.0.2840.71 Safari/537.36, Count: 5\n",
      "    Element: Mozilla/5.0 (Windows NT 6.1) AppleWebKit/537.36 (KHTML; like Gecko) Chrome/41.0.2228.0 Safari/537.36, Count: 4\n",
      "    Element: Mozilla/5.0 (Windows NT 6.1; WOW64) AppleWebKit/535.1 (KHTML; like Gecko) Chrome/14.0.811.0 Safari/535.1, Count: 6\n",
      "    Element: Mozilla/5.0 (Windows NT 6.1; WOW64) AppleWebKit/537.36 (KHTML; like Gecko) Chrome/53.0.2785.143 Safari/537.36, Count: 6\n",
      "    Element: Mozilla/5.0 (Windows NT 6.1; WOW64) AppleWebKit/537.36 (KHTML; like Gecko) Chrome/54.0.2840.71 Safari/537.36, Count: 4\n",
      "    Element: Mozilla/5.0 (Windows NT 6.1; WOW64; Trident/7.0; AS; rv:11.0) like Gecko, Count: 7\n",
      "    Element: Mozilla/5.0 (Windows NT 6.1; WOW64; Trident/7.0; rv:11.0) like Gecko, Count: 3\n",
      "    Element: Mozilla/5.0 (Windows NT 6.1; WOW64; rv:40.0) Gecko/20100101 Firefox/40.1, Count: 6\n",
      "    Element: Mozilla/5.0 (Windows NT 6.1; WOW64; rv:49.0) Gecko/20100101 Firefox/49.0, Count: 10\n",
      "    Element: Mozilla/5.0 (Windows NT 6.1; Win64; x64) AppleWebKit/537.36 (KHTML; like Gecko) Chrome/53.0.2785.143 Safari/537.36, Count: 6\n",
      "    Element: Mozilla/5.0 (Windows NT 6.1; Win64; x64) AppleWebKit/537.36 (KHTML; like Gecko) Chrome/54.0.2840.71 Safari/537.36, Count: 4\n",
      "    Element: Mozilla/5.0 (Windows NT 6.1; Win64; x64; rv:5.0) Whistler/20110021 myibrow/5.0.0.0, Count: 3\n",
      "    Element: Mozilla/5.0 (Windows NT 6.1; rv:21.0) Gecko/20130401 Firefox/21.0, Count: 5\n",
      "    Element: Mozilla/5.0 (Windows NT 6.2; Win64; x64) AppleWebKit/537.36 (KHTML; like Gecko) Chrome/32.0.1667.0 Safari/537.36, Count: 5\n",
      "    Element: Mozilla/5.0 (Windows NT 6.3; WOW64) AppleWebKit/537.36 (KHTML; like Gecko) Chrome/53.0.2785.143 Safari/537.36, Count: 9\n",
      "    Element: Mozilla/5.0 (Windows NT 6.3; rv:36.0) Gecko/20100101 Firefox/36.0, Count: 6\n",
      "    Element: Mozilla/5.0 (Windows; U; Win98; fr-FR; rv:1.7.6) Gecko/20050226 Firefox/1.0.1, Count: 4\n",
      "    Element: Mozilla/5.0 (Windows; U; Windows NT 5.1; de; rv:1.9.2.3) Gecko/20100401 Firefox/3.6.3 (.NET CLR 3.5.30729) (Prevx 3.0.5), Count: 5\n",
      "    Element: Mozilla/5.0 (Windows; U; Windows NT 5.1; de; rv:1.9.2.3) Gecko/20100401 Firefox/3.6.3 (FM Scene 4.6.1), Count: 8\n",
      "    Element: Mozilla/5.0 (Windows; U; Windows NT 5.1; en-US) AppleWebKit/525.13 (KHTML; like Gecko) Chrome/0.2.149.29 Safari/525.13, Count: 4\n",
      "    Element: Mozilla/5.0 (Windows; U; Windows NT 5.1; zh-TW; rv:1.8.0.2) Gecko/20060308 Firefox/1.5.0.2, Count: 4\n",
      "    Element: Mozilla/5.0 (Windows; U; Windows NT5.1; en; rv:1.7.10) Gecko/20050716 Firefox/1.0.5, Count: 8\n",
      "    Element: Mozilla/5.0 (X11) KHTML/4.9.1 (like Gecko) Konqueror/4.9, Count: 7\n",
      "    Element: Mozilla/5.0 (X11; CrOS i686 12.433.109) AppleWebKit/534.30 (KHTML; like Gecko) Chrome/12.0.742.93 Safari/534.30, Count: 10\n",
      "    Element: Mozilla/5.0 (X11; Linux x86_64) AppleWebKit/534.30 (KHTML; like Gecko) Version/4.0 Oupeng/10.2.1.86910 Safari/534.30, Count: 9\n",
      "    Element: Mozilla/5.0 (X11; Linux x86_64) AppleWebKit/537.36 (KHTML; like Gecko) Chrome/53.0.2785.143 Safari/537.36, Count: 2\n",
      "    Element: Mozilla/5.0 (X11; U; Linux i686; de-DE; rv:1.6) Gecko/20040207 Firefox/0.8, Count: 7\n",
      "    Element: Mozilla/5.0 (X11; U; Linux x86_64; fr; rv:1.9.0.9) Gecko/2009042114 Ubuntu/9.04 (jaunty) Firefox/3.0.9, Count: 6\n",
      "    Element: Mozilla/5.0 (X11; Ubuntu; Linux armv7l; rv:17.0) Gecko/20100101 Firefox/17.0, Count: 10\n",
      "    Element: Mozilla/5.0 (X11; Ubuntu; Linux x86_64; rv:49.0) Gecko/20100101 Firefox/49.0, Count: 5\n",
      "    Element: Mozilla/5.0 (compatible; Googlebot/2.1; +http://www.google.com/bot.html), Count: 3\n",
      "    Element: Mozilla/5.0 (compatible; Konqueror/3.5; NetBSD 4.0_RC3; X11) KHTML/3.5.7 (like Gecko), Count: 6\n",
      "    Element: Mozilla/5.0 (compatible; Konqueror/4.5; FreeBSD) KHTML/4.5.4 (like Gecko), Count: 13\n",
      "    Element: Mozilla/5.0 (compatible; MSIE 10.0; Macintosh; Intel Mac OS X 10_7_3; Trident/6.0), Count: 9\n",
      "    Element: Mozilla/5.0 (compatible; MSIE 10.0; Windows NT 6.1; Trident/4.0; InfoPath.2; SV1; .NET CLR 2.0.50727; WOW64), Count: 4\n",
      "    Element: Mozilla/5.0 (compatible; MSIE 10.0; Windows NT 6.1; Trident/6.0), Count: 6\n",
      "    Element: Mozilla/5.0 (compatible; MSIE 10.0; Windows NT 6.1; WOW64; Trident/6.0), Count: 3\n",
      "    Element: Mozilla/5.0 (compatible; MSIE 10.0; Windows NT 7.0; InfoPath.3; .NET CLR 3.1.40767; Trident/6.0; en-IN), Count: 6\n",
      "    Element: Mozilla/5.0 (compatible; MSIE 11; Windows NT 6.3; Trident/7.0; rv:11.0) like Gecko, Count: 6\n",
      "    Element: Mozilla/5.0 (compatible; MSIE 9.0; Windows NT 6.1; Trident/5.0; yie8), Count: 7\n",
      "    Element: Mozilla/5.0 (compatible; MSIE 9.0; Windows NT 6.1; Win64; x64; Trident/5.0, Count: 3\n",
      "    Element: Mozilla/5.0 (compatible; Yahoo! Slurp; http://help.yahoo.com/help/us/ysearch/slurp), Count: 4\n",
      "    Element: Mozilla/5.0 (iPhone; U; CPU iOS 2_0 like Mac OS X; en-us), Count: 7\n",
      "    Element: Mozilla/6.0 (Windows; U; Windows NT 7.0; en-US; rv:1.9.0.8) Gecko/2009032609 Firefox/3.0.9 (.NET CLR 3.5.30729), Count: 9\n",
      "    Element: Opera/9.25 (Windows NT 6.0; U; en), Count: 7\n",
      "    Element: Privoxy/1.0, Count: 11\n",
      "    Element: Ruby, Count: 36\n",
      "    Element: TwitterBot (http://www.twitter.com), Count: 7\n",
      "    Element: User-Agent: Microsoft-DLNA DLNADOC/1.50, Count: 1\n",
      "    Element: archive.org_bot, Count: 4\n",
      "    Element: cg-eye interactive, Count: 5\n",
      "    Element: hacking, Count: 1\n",
      "    Element: myibrow/2.2 (Windows; U; Windows NT 5.1; cs; rv:1.8.1.14) Gecko/20080001 My Internet Browser/2.2.0.0 20080913235045, Count: 5\n",
      "    Element: -, Count: 616921\n",
      "    Element: application/soap+xml, Count: 1\n",
      "    Element: text/plain, Count: 61\n",
      "    Element: -, Count: 616779\n",
      "    Element: application/xml, Count: 2\n",
      "    Element: image/png, Count: 1\n",
      "    Element: text/html, Count: 140\n",
      "    Element: text/plain, Count: 61\n",
      "    Element: -, Count: 616900\n",
      "    Element: DNS_RR_unknown_type, Count: 27\n",
      "    Element: NUL_in_line, Count: 1\n",
      "    Element: TCP_ack_underflow_or_misorder, Count: 20\n",
      "    Element: active_connection_reuse, Count: 9\n",
      "    Element: bad_TCP_checksum, Count: 2\n",
      "    Element: bad_UDP_checksum, Count: 6\n",
      "    Element: connection_originator_SYN_ack, Count: 1\n",
      "    Element: data_before_established, Count: 5\n",
      "    Element: dnp3_corrupt_header_checksum, Count: 1\n",
      "    Element: line_terminated_with_single_CR, Count: 2\n",
      "    Element: possible_split_routing, Count: 9\n",
      "    Element: -, Count: 616956\n",
      "    Element: 43, Count: 2\n",
      "    Element: 46, Count: 24\n",
      "    Element: 48, Count: 1\n",
      "    Element: -, Count: 616900\n",
      "    Element: F, Count: 83\n"
     ]
    }
   ],
   "source": [
    "y = df1[\"type\"]\n",
    "X = df1.drop(columns=[\"type\", \"label\"])\n",
    "\n",
    "err_arr = X.loc[X[\"src_bytes\"] == \"0.0.0.0\"]\n",
    "X = X.drop(index=err_arr.index)\n",
    "y = y.drop(index=err_arr.index)\n",
    "X.astype({'src_bytes': 'int64', 'ts': 'datetime64[ms]', 'dns_AA': 'bool', 'dns_RD': 'bool', 'dns_RA': 'bool', 'dns_rejected': 'bool', 'ssl_resumed': 'bool', 'ssl_established': 'bool', 'weird_notice': 'bool'}).dtypes\n",
    "\n",
    "X = X.to_numpy()\n",
    "y = y.to_numpy()\n",
    "\n",
    "for feature in [\"dns_AA\",\"dns_RD\",\"dns_RA\",\"dns_rejected\",\"ssl_version\",\"ssl_cipher\",\"ssl_resumed\",\"ssl_established\",\"ssl_subject\",\"ssl_issuer\",\"http_trans_depth\",\"http_method\",\"http_uri\",\"http_referrer\",\"http_version\",\"http_request_body_len\",\"http_response_body_len\",\"http_status_code\",\"http_user_agent\",\"http_orig_mime_types\",\"http_resp_mime_types\",\"weird_name\",\"weird_addl\",\"weird_notice\"]:\n",
    "    # print(f\"Feature: {feature}\")    \n",
    "    feature_index = np.where(df1.columns == feature)[0][0]\n",
    "    elements, counts = np.unique(X[:, feature_index], return_counts=True)\n",
    "\n",
    "    for element, count in zip(elements, counts):\n",
    "        print(f\"    Element: {element}, Count: {count}\")"
   ]
  },
  {
   "cell_type": "code",
   "execution_count": 4,
   "metadata": {},
   "outputs": [],
   "source": [
    "oe = preprocessing.OrdinalEncoder()\n",
    "oe.fit(X)\n",
    "X = oe.transform(X)\n",
    "\n",
    "le = preprocessing.LabelEncoder()\n",
    "le.fit(y)\n",
    "y = le.transform(y)"
   ]
  },
  {
   "cell_type": "code",
   "execution_count": 5,
   "metadata": {},
   "outputs": [],
   "source": [
    "x_tomod = X"
   ]
  },
  {
   "cell_type": "code",
   "execution_count": 6,
   "metadata": {},
   "outputs": [],
   "source": [
    "from sklearn.feature_selection import VarianceThreshold\n",
    "\n",
    "selector = VarianceThreshold(0.01)\n",
    "x_tomod = selector.fit_transform(x_tomod)"
   ]
  },
  {
   "cell_type": "code",
   "execution_count": 7,
   "metadata": {},
   "outputs": [
    {
     "name": "stdout",
     "output_type": "stream",
     "text": [
      "(616983, 28) (616983,)\n"
     ]
    }
   ],
   "source": [
    "print(x_tomod.shape, y.shape)"
   ]
  },
  {
   "cell_type": "code",
   "execution_count": 8,
   "metadata": {},
   "outputs": [],
   "source": [
    "X = x_tomod"
   ]
  },
  {
   "cell_type": "code",
   "execution_count": 9,
   "metadata": {},
   "outputs": [],
   "source": [
    "train_idx, test_idx = train_test_split(np.arange(X.shape[0]), test_size=0.2, stratify=y, random_state=seed)\n",
    "test_idx, val_idx = train_test_split(test_idx, test_size=0.5, stratify=y[test_idx], random_state=seed)\n",
    "\n",
    "X_test = X[test_idx,:]\n",
    "y_test = y[test_idx]\n",
    "X_train = X[train_idx,:]\n",
    "y_train = y[train_idx]\n",
    "X_val = X[val_idx,:]\n",
    "y_val = y[val_idx]"
   ]
  },
  {
   "cell_type": "code",
   "execution_count": 10,
   "metadata": {},
   "outputs": [],
   "source": [
    "## Scaling\n",
    "scaler = preprocessing.StandardScaler()\n",
    "scaler.fit(X_train)\n",
    "X_train = scaler.transform(X_train)\n",
    "X_test = scaler.transform(X_test)\n",
    "X_val = scaler.transform(X_val)\n",
    "\n",
    "## PCA\n",
    "from sklearn import decomposition\n",
    "pca = decomposition.PCA()\n",
    "pca.fit(X_train)\n",
    "X_train_pca = pca.transform(X_train)\n",
    "X_test_pca = pca.transform(X_test)\n",
    "X_val_pca = pca.transform(X_val)\n",
    "\n",
    "## LDA\n",
    "from sklearn.discriminant_analysis import LinearDiscriminantAnalysis\n",
    "lda = LinearDiscriminantAnalysis(n_components=9)\n",
    "lda.fit(X_train, y_train)\n",
    "X_train_lda = lda.transform(X_train)\n",
    "X_test_lda = lda.transform(X_test)\n",
    "X_val_lda = lda.transform(X_val)"
   ]
  },
  {
   "cell_type": "code",
   "execution_count": 11,
   "metadata": {},
   "outputs": [
    {
     "data": {
      "image/png": "[encoded data removed]",
      "text/plain": [
       "<Figure size 640x480 with 2 Axes>"
      ]
     },
     "metadata": {},
     "output_type": "display_data"
    },
    {
     "data": {
      "image/png": "[encoded data removed]",
      "text/plain": [
       "<Figure size 1500x800 with 1 Axes>"
      ]
     },
     "metadata": {},
     "output_type": "display_data"
    }
   ],
   "source": [
    "## PCA plotting\n",
    "import matplotlib.pyplot as plt\n",
    "fig, axs = plt.subplots(1, 2)\n",
    "\n",
    "axs[0].scatter(X_train_pca[:,0], X_train_pca[:,1], c=y_train)\n",
    "axs[1].scatter(X_val_pca[:,0], X_val_pca[:,1], c=y_val)\n",
    "plt.show()\n",
    "\n",
    "first_pca_component = pd.DataFrame()\n",
    "first_pca_component[\"with scaling\"] = pca.components_[0]\n",
    "first_pca_component.plot.bar(title=\"Weights of the first principal component\", figsize=(15, 8))\n",
    "_ = plt.tight_layout()"
   ]
  },
  {
   "cell_type": "code",
   "execution_count": 12,
   "metadata": {},
   "outputs": [],
   "source": [
    "import pickle\n",
    "\n",
    "file = pickle.load(open(\"knn.pkl\", \"rb\"))"
   ]
  },
  {
   "cell_type": "code",
   "execution_count": 13,
   "metadata": {},
   "outputs": [],
   "source": [
    "from sklearn.neighbors import KNeighborsClassifier\n",
    "from sklearn.metrics import confusion_matrix, ConfusionMatrixDisplay, accuracy_score, recall_score, precision_score, f1_score"
   ]
  },
  {
   "cell_type": "markdown",
   "metadata": {},
   "source": [
    "---"
   ]
  },
  {
   "cell_type": "code",
   "execution_count": 14,
   "metadata": {},
   "outputs": [
    {
     "name": "stdout",
     "output_type": "stream",
     "text": [
      "K=10\n",
      "  Accuracy - 0.9974\n",
      "  F1 - 0.9974\n",
      "K=20\n",
      "  Accuracy - 0.9968\n",
      "  F1 - 0.9968\n",
      "K=50\n",
      "  Accuracy - 0.9946\n",
      "  F1 - 0.9946\n",
      "K=100\n",
      "  Accuracy - 0.9928\n",
      "  F1 - 0.9927\n",
      "K=500\n",
      "  Accuracy - 0.9806\n",
      "  F1 - 0.9801\n"
     ]
    },
    {
     "name": "stderr",
     "output_type": "stream",
     "text": [
      "/Users/filippobrajucha/Developer/data-analytics/.env/lib/python3.12/site-packages/sklearn/metrics/_classification.py:1565: UndefinedMetricWarning: Precision is ill-defined and being set to 0.0 in labels with no predicted samples. Use `zero_division` parameter to control this behavior.\n",
      "  _warn_prf(average, modifier, f\"{metric.capitalize()} is\", len(result))\n"
     ]
    },
    {
     "name": "stdout",
     "output_type": "stream",
     "text": [
      "K=775\n",
      "  Accuracy - 0.9746\n",
      "  F1 - 0.9735\n"
     ]
    },
    {
     "name": "stderr",
     "output_type": "stream",
     "text": [
      "/Users/filippobrajucha/Developer/data-analytics/.env/lib/python3.12/site-packages/sklearn/metrics/_classification.py:1565: UndefinedMetricWarning: Precision is ill-defined and being set to 0.0 in labels with no predicted samples. Use `zero_division` parameter to control this behavior.\n",
      "  _warn_prf(average, modifier, f\"{metric.capitalize()} is\", len(result))\n"
     ]
    },
    {
     "name": "stdout",
     "output_type": "stream",
     "text": [
      "K=900\n",
      "  Accuracy - 0.9720\n",
      "  F1 - 0.9708\n"
     ]
    },
    {
     "name": "stderr",
     "output_type": "stream",
     "text": [
      "/Users/filippobrajucha/Developer/data-analytics/.env/lib/python3.12/site-packages/sklearn/metrics/_classification.py:1565: UndefinedMetricWarning: Precision is ill-defined and being set to 0.0 in labels with no predicted samples. Use `zero_division` parameter to control this behavior.\n",
      "  _warn_prf(average, modifier, f\"{metric.capitalize()} is\", len(result))\n"
     ]
    },
    {
     "name": "stdout",
     "output_type": "stream",
     "text": [
      "K=1000\n",
      "  Accuracy - 0.9697\n",
      "  F1 - 0.9683\n"
     ]
    },
    {
     "name": "stderr",
     "output_type": "stream",
     "text": [
      "/Users/filippobrajucha/Developer/data-analytics/.env/lib/python3.12/site-packages/sklearn/metrics/_classification.py:1565: UndefinedMetricWarning: Precision is ill-defined and being set to 0.0 in labels with no predicted samples. Use `zero_division` parameter to control this behavior.\n",
      "  _warn_prf(average, modifier, f\"{metric.capitalize()} is\", len(result))\n"
     ]
    },
    {
     "name": "stdout",
     "output_type": "stream",
     "text": [
      "K=1500\n",
      "  Accuracy - 0.9641\n",
      "  F1 - 0.9620\n"
     ]
    },
    {
     "name": "stderr",
     "output_type": "stream",
     "text": [
      "/Users/filippobrajucha/Developer/data-analytics/.env/lib/python3.12/site-packages/sklearn/metrics/_classification.py:1565: UndefinedMetricWarning: Precision is ill-defined and being set to 0.0 in labels with no predicted samples. Use `zero_division` parameter to control this behavior.\n",
      "  _warn_prf(average, modifier, f\"{metric.capitalize()} is\", len(result))\n"
     ]
    },
    {
     "name": "stdout",
     "output_type": "stream",
     "text": [
      "K=2000\n",
      "  Accuracy - 0.9534\n",
      "  F1 - 0.9507\n"
     ]
    }
   ],
   "source": [
    "## WITH PCA\n",
    "\n",
    "list_clf_pca = []\n",
    "list_acc_train_pca = []\n",
    "list_rec_train_pca = []\n",
    "list_pre_train_pca = []\n",
    "list_f1_train_pca = []\n",
    "\n",
    "for k in [10,20,50,100,500,775,900,1000,1500,2000]:\n",
    "    clf = KNeighborsClassifier(n_neighbors=k)\n",
    "    clf.fit(X_train_pca, y_train)\n",
    "\n",
    "    y_pred = clf.predict(X_test_pca)\n",
    "    score_acc = accuracy_score(y_test, y_pred)\n",
    "    list_acc_train_pca.append(score_acc)\n",
    "    score_recall = recall_score(y_test, y_pred, average='weighted')\n",
    "    list_rec_train_pca.append(score_recall)\n",
    "    score_precision = precision_score(y_test, y_pred, average='weighted')\n",
    "    list_pre_train_pca.append(score_precision)\n",
    "    score_f1 = f1_score(y_test, y_pred, average='weighted')\n",
    "    list_f1_train_pca.append(score_f1)\n",
    "\n",
    "    score = clf.score(X_test_pca, y_test)\n",
    "\n",
    "    print(\"K={:d}\".format(k))\n",
    "    print(\"  Accuracy - {:.4f}\".format(score_acc))\n",
    "    # print(\"  Precision - {:.4f}\".format(score_precision))\n",
    "    # print(\"  Recall - {:.4f}\".format(score_recall))\n",
    "    print(\"  F1 - {:.4f}\".format(score_f1))\n",
    "\n",
    "    # if best_score < score:\n",
    "    #     best_score = score\n",
    "    #     best_k = k\n",
    "    #     best_clf = clf\n",
    "    \n",
    "    list_clf_pca.append(clf)"
   ]
  },
  {
   "cell_type": "code",
   "execution_count": 15,
   "metadata": {},
   "outputs": [
    {
     "name": "stdout",
     "output_type": "stream",
     "text": [
      "10\n",
      "  Accuracy - 0.9969\n",
      "  F1 - 0.9969\n",
      "20\n",
      "  Accuracy - 0.9962\n",
      "  F1 - 0.9962\n",
      "50\n",
      "  Accuracy - 0.9940\n",
      "  F1 - 0.9940\n",
      "100\n",
      "  Accuracy - 0.9924\n",
      "  F1 - 0.9923\n",
      "500\n",
      "  Accuracy - 0.9798\n",
      "  F1 - 0.9792\n"
     ]
    },
    {
     "name": "stderr",
     "output_type": "stream",
     "text": [
      "/Users/filippobrajucha/Developer/data-analytics/.env/lib/python3.12/site-packages/sklearn/metrics/_classification.py:1565: UndefinedMetricWarning: Precision is ill-defined and being set to 0.0 in labels with no predicted samples. Use `zero_division` parameter to control this behavior.\n",
      "  _warn_prf(average, modifier, f\"{metric.capitalize()} is\", len(result))\n"
     ]
    },
    {
     "name": "stdout",
     "output_type": "stream",
     "text": [
      "775\n",
      "  Accuracy - 0.9728\n",
      "  F1 - 0.9716\n"
     ]
    },
    {
     "name": "stderr",
     "output_type": "stream",
     "text": [
      "/Users/filippobrajucha/Developer/data-analytics/.env/lib/python3.12/site-packages/sklearn/metrics/_classification.py:1565: UndefinedMetricWarning: Precision is ill-defined and being set to 0.0 in labels with no predicted samples. Use `zero_division` parameter to control this behavior.\n",
      "  _warn_prf(average, modifier, f\"{metric.capitalize()} is\", len(result))\n"
     ]
    },
    {
     "name": "stdout",
     "output_type": "stream",
     "text": [
      "900\n",
      "  Accuracy - 0.9703\n",
      "  F1 - 0.9690\n"
     ]
    },
    {
     "name": "stderr",
     "output_type": "stream",
     "text": [
      "/Users/filippobrajucha/Developer/data-analytics/.env/lib/python3.12/site-packages/sklearn/metrics/_classification.py:1565: UndefinedMetricWarning: Precision is ill-defined and being set to 0.0 in labels with no predicted samples. Use `zero_division` parameter to control this behavior.\n",
      "  _warn_prf(average, modifier, f\"{metric.capitalize()} is\", len(result))\n"
     ]
    },
    {
     "name": "stdout",
     "output_type": "stream",
     "text": [
      "1000\n",
      "  Accuracy - 0.9681\n",
      "  F1 - 0.9666\n"
     ]
    },
    {
     "name": "stderr",
     "output_type": "stream",
     "text": [
      "/Users/filippobrajucha/Developer/data-analytics/.env/lib/python3.12/site-packages/sklearn/metrics/_classification.py:1565: UndefinedMetricWarning: Precision is ill-defined and being set to 0.0 in labels with no predicted samples. Use `zero_division` parameter to control this behavior.\n",
      "  _warn_prf(average, modifier, f\"{metric.capitalize()} is\", len(result))\n"
     ]
    },
    {
     "name": "stdout",
     "output_type": "stream",
     "text": [
      "1500\n",
      "  Accuracy - 0.9625\n",
      "  F1 - 0.9603\n",
      "2000\n",
      "  Accuracy - 0.9521\n",
      "  F1 - 0.9491\n"
     ]
    },
    {
     "name": "stderr",
     "output_type": "stream",
     "text": [
      "/Users/filippobrajucha/Developer/data-analytics/.env/lib/python3.12/site-packages/sklearn/metrics/_classification.py:1565: UndefinedMetricWarning: Precision is ill-defined and being set to 0.0 in labels with no predicted samples. Use `zero_division` parameter to control this behavior.\n",
      "  _warn_prf(average, modifier, f\"{metric.capitalize()} is\", len(result))\n"
     ]
    }
   ],
   "source": [
    "\n",
    "# file = pickle.load(open(\"knn_pca.pkl\", \"rb\"))\n",
    "\n",
    "# list_clf_pca = file[0]\n",
    "\n",
    "list_acc_val_pca = []\n",
    "list_rec_val_pca = []\n",
    "list_pre_val_pca = []\n",
    "list_f1_val_pca = []\n",
    "\n",
    "for clf in list_clf_pca:\n",
    "    val_pred = clf.predict(X_val_pca)\n",
    "\n",
    "    score_acc = accuracy_score(y_val, val_pred)\n",
    "    list_acc_val_pca.append(score_acc)\n",
    "    score_recall = recall_score(y_val, val_pred, average='weighted')\n",
    "    list_rec_val_pca.append(score_recall)\n",
    "    score_precision = precision_score(y_val, val_pred, average='weighted')\n",
    "    list_pre_val_pca.append(score_precision)\n",
    "    score_f1 = f1_score(y_val, val_pred, average='weighted')\n",
    "    list_f1_val_pca.append(score_f1)\n",
    "\n",
    "    print(clf.n_neighbors)\n",
    "\n",
    "    print(\"  Accuracy - {:.4f}\".format(score_acc))\n",
    "    # print(\"  Precision - {:.4f}\".format(score_precision))\n",
    "    # print(\"  Recall - {:.4f}\".format(score_recall))\n",
    "    print(\"  F1 - {:.4f}\".format(score_f1))"
   ]
  },
  {
   "cell_type": "markdown",
   "metadata": {},
   "source": [
    "---"
   ]
  },
  {
   "cell_type": "code",
   "execution_count": 16,
   "metadata": {},
   "outputs": [
    {
     "name": "stdout",
     "output_type": "stream",
     "text": [
      "K=10\n",
      "  Accuracy - 0.9976\n",
      "  F1 - 0.9975\n",
      "K=20\n",
      "  Accuracy - 0.9966\n",
      "  F1 - 0.9966\n",
      "K=50\n",
      "  Accuracy - 0.9950\n",
      "  F1 - 0.9949\n",
      "K=100\n",
      "  Accuracy - 0.9929\n",
      "  F1 - 0.9928\n",
      "K=500\n",
      "  Accuracy - 0.9843\n",
      "  F1 - 0.9839\n",
      "K=775\n",
      "  Accuracy - 0.9789\n",
      "  F1 - 0.9783\n",
      "K=900\n",
      "  Accuracy - 0.9774\n",
      "  F1 - 0.9765\n",
      "K=1000\n",
      "  Accuracy - 0.9762\n",
      "  F1 - 0.9749\n"
     ]
    },
    {
     "name": "stderr",
     "output_type": "stream",
     "text": [
      "/Users/filippobrajucha/Developer/data-analytics/.env/lib/python3.12/site-packages/sklearn/metrics/_classification.py:1565: UndefinedMetricWarning: Precision is ill-defined and being set to 0.0 in labels with no predicted samples. Use `zero_division` parameter to control this behavior.\n",
      "  _warn_prf(average, modifier, f\"{metric.capitalize()} is\", len(result))\n"
     ]
    },
    {
     "name": "stdout",
     "output_type": "stream",
     "text": [
      "K=1500\n",
      "  Accuracy - 0.9700\n",
      "  F1 - 0.9680\n"
     ]
    },
    {
     "name": "stderr",
     "output_type": "stream",
     "text": [
      "/Users/filippobrajucha/Developer/data-analytics/.env/lib/python3.12/site-packages/sklearn/metrics/_classification.py:1565: UndefinedMetricWarning: Precision is ill-defined and being set to 0.0 in labels with no predicted samples. Use `zero_division` parameter to control this behavior.\n",
      "  _warn_prf(average, modifier, f\"{metric.capitalize()} is\", len(result))\n"
     ]
    },
    {
     "name": "stdout",
     "output_type": "stream",
     "text": [
      "K=2000\n",
      "  Accuracy - 0.9648\n",
      "  F1 - 0.9625\n"
     ]
    }
   ],
   "source": [
    "list_clf_lda = []\n",
    "list_acc_train_lda = []\n",
    "list_rec_train_lda = []\n",
    "list_pre_train_lda = []\n",
    "list_f1_train_lda = []\n",
    "\n",
    "for k in [10,20,50,100,500,775,900,1000,1500,2000]:\n",
    "    clf = KNeighborsClassifier(n_neighbors=k)\n",
    "    clf.fit(X_train_lda, y_train)\n",
    "\n",
    "    y_pred = clf.predict(X_test_lda)\n",
    "    score_acc = accuracy_score(y_test, y_pred)\n",
    "    list_acc_train_pca.append(score_acc)\n",
    "    score_recall = recall_score(y_test, y_pred, average='weighted')\n",
    "    list_rec_train_pca.append(score_recall)\n",
    "    score_precision = precision_score(y_test, y_pred, average='weighted')\n",
    "    list_pre_train_pca.append(score_precision)\n",
    "    score_f1 = f1_score(y_test, y_pred, average='weighted')\n",
    "    list_f1_train_pca.append(score_f1)\n",
    "\n",
    "    score = clf.score(X_test_lda, y_test)\n",
    "\n",
    "    print(\"K={:d}\".format(k))\n",
    "    print(\"  Accuracy - {:.4f}\".format(score_acc))\n",
    "    # print(\"  Precision - {:.4f}\".format(score_precision))\n",
    "    # print(\"  Recall - {:.4f}\".format(score_recall))\n",
    "    print(\"  F1 - {:.4f}\".format(score_f1))\n",
    "\n",
    "    # if best_score < score:\n",
    "    #     best_score = score\n",
    "    #     best_k = k\n",
    "    #     best_clf = clf\n",
    "    \n",
    "    list_clf_lda.append(clf)"
   ]
  },
  {
   "cell_type": "code",
   "execution_count": 17,
   "metadata": {},
   "outputs": [
    {
     "name": "stdout",
     "output_type": "stream",
     "text": [
      "10\n",
      "  Accuracy - 0.9973\n",
      "  F1 - 0.9973\n",
      "20\n",
      "  Accuracy - 0.9961\n",
      "  F1 - 0.9961\n",
      "50\n",
      "  Accuracy - 0.9944\n",
      "  F1 - 0.9943\n",
      "100\n",
      "  Accuracy - 0.9923\n",
      "  F1 - 0.9922\n",
      "500\n",
      "  Accuracy - 0.9825\n",
      "  F1 - 0.9821\n",
      "775\n",
      "  Accuracy - 0.9777\n",
      "  F1 - 0.9771\n",
      "900\n",
      "  Accuracy - 0.9759\n",
      "  F1 - 0.9750\n",
      "1000\n",
      "  Accuracy - 0.9747\n",
      "  F1 - 0.9733\n"
     ]
    },
    {
     "name": "stderr",
     "output_type": "stream",
     "text": [
      "/Users/filippobrajucha/Developer/data-analytics/.env/lib/python3.12/site-packages/sklearn/metrics/_classification.py:1565: UndefinedMetricWarning: Precision is ill-defined and being set to 0.0 in labels with no predicted samples. Use `zero_division` parameter to control this behavior.\n",
      "  _warn_prf(average, modifier, f\"{metric.capitalize()} is\", len(result))\n"
     ]
    },
    {
     "name": "stdout",
     "output_type": "stream",
     "text": [
      "1500\n",
      "  Accuracy - 0.9690\n",
      "  F1 - 0.9668\n",
      "2000\n",
      "  Accuracy - 0.9635\n",
      "  F1 - 0.9611\n"
     ]
    },
    {
     "name": "stderr",
     "output_type": "stream",
     "text": [
      "/Users/filippobrajucha/Developer/data-analytics/.env/lib/python3.12/site-packages/sklearn/metrics/_classification.py:1565: UndefinedMetricWarning: Precision is ill-defined and being set to 0.0 in labels with no predicted samples. Use `zero_division` parameter to control this behavior.\n",
      "  _warn_prf(average, modifier, f\"{metric.capitalize()} is\", len(result))\n"
     ]
    }
   ],
   "source": [
    "\n",
    "# file = pickle.load(open(\"knn_pca.pkl\", \"rb\"))\n",
    "\n",
    "# list_clf_pca = file[0]\n",
    "\n",
    "list_acc_val_lda = []\n",
    "list_rec_val_lda = []\n",
    "list_pre_val_lda = []\n",
    "list_f1_val_lda = []\n",
    "\n",
    "for clf in list_clf_lda:\n",
    "    val_pred = clf.predict(X_val_lda)\n",
    "\n",
    "    score_acc = accuracy_score(y_val, val_pred)\n",
    "    list_acc_val_pca.append(score_acc)\n",
    "    score_recall = recall_score(y_val, val_pred, average='weighted')\n",
    "    list_rec_val_pca.append(score_recall)\n",
    "    score_precision = precision_score(y_val, val_pred, average='weighted')\n",
    "    list_pre_val_pca.append(score_precision)\n",
    "    score_f1 = f1_score(y_val, val_pred, average='weighted')\n",
    "    list_f1_val_pca.append(score_f1)\n",
    "\n",
    "    print(clf.n_neighbors)\n",
    "\n",
    "    print(\"  Accuracy - {:.4f}\".format(score_acc))\n",
    "    # print(\"  Precision - {:.4f}\".format(score_precision))\n",
    "    # print(\"  Recall - {:.4f}\".format(score_recall))\n",
    "    print(\"  F1 - {:.4f}\".format(score_f1))"
   ]
  },
  {
   "cell_type": "markdown",
   "metadata": {},
   "source": [
    "---"
   ]
  },
  {
   "cell_type": "code",
   "execution_count": 18,
   "metadata": {},
   "outputs": [
    {
     "name": "stdout",
     "output_type": "stream",
     "text": [
      "K=10\n",
      "  Accuracy - 0.9974\n",
      "  F1 - 0.9974\n",
      "K=20\n",
      "  Accuracy - 0.9968\n",
      "  F1 - 0.9968\n",
      "K=50\n",
      "  Accuracy - 0.9946\n",
      "  F1 - 0.9946\n",
      "K=100\n",
      "  Accuracy - 0.9928\n",
      "  F1 - 0.9927\n",
      "K=500\n",
      "  Accuracy - 0.9806\n",
      "  F1 - 0.9801\n"
     ]
    },
    {
     "name": "stderr",
     "output_type": "stream",
     "text": [
      "/Users/filippobrajucha/Developer/data-analytics/.env/lib/python3.12/site-packages/sklearn/metrics/_classification.py:1565: UndefinedMetricWarning: Precision is ill-defined and being set to 0.0 in labels with no predicted samples. Use `zero_division` parameter to control this behavior.\n",
      "  _warn_prf(average, modifier, f\"{metric.capitalize()} is\", len(result))\n"
     ]
    },
    {
     "name": "stdout",
     "output_type": "stream",
     "text": [
      "K=775\n",
      "  Accuracy - 0.9746\n",
      "  F1 - 0.9735\n"
     ]
    },
    {
     "name": "stderr",
     "output_type": "stream",
     "text": [
      "/Users/filippobrajucha/Developer/data-analytics/.env/lib/python3.12/site-packages/sklearn/metrics/_classification.py:1565: UndefinedMetricWarning: Precision is ill-defined and being set to 0.0 in labels with no predicted samples. Use `zero_division` parameter to control this behavior.\n",
      "  _warn_prf(average, modifier, f\"{metric.capitalize()} is\", len(result))\n"
     ]
    },
    {
     "name": "stdout",
     "output_type": "stream",
     "text": [
      "K=900\n",
      "  Accuracy - 0.9720\n",
      "  F1 - 0.9708\n"
     ]
    },
    {
     "name": "stderr",
     "output_type": "stream",
     "text": [
      "/Users/filippobrajucha/Developer/data-analytics/.env/lib/python3.12/site-packages/sklearn/metrics/_classification.py:1565: UndefinedMetricWarning: Precision is ill-defined and being set to 0.0 in labels with no predicted samples. Use `zero_division` parameter to control this behavior.\n",
      "  _warn_prf(average, modifier, f\"{metric.capitalize()} is\", len(result))\n"
     ]
    },
    {
     "name": "stdout",
     "output_type": "stream",
     "text": [
      "K=1000\n",
      "  Accuracy - 0.9697\n",
      "  F1 - 0.9683\n"
     ]
    },
    {
     "name": "stderr",
     "output_type": "stream",
     "text": [
      "/Users/filippobrajucha/Developer/data-analytics/.env/lib/python3.12/site-packages/sklearn/metrics/_classification.py:1565: UndefinedMetricWarning: Precision is ill-defined and being set to 0.0 in labels with no predicted samples. Use `zero_division` parameter to control this behavior.\n",
      "  _warn_prf(average, modifier, f\"{metric.capitalize()} is\", len(result))\n"
     ]
    },
    {
     "name": "stdout",
     "output_type": "stream",
     "text": [
      "K=1500\n",
      "  Accuracy - 0.9641\n",
      "  F1 - 0.9620\n"
     ]
    },
    {
     "name": "stderr",
     "output_type": "stream",
     "text": [
      "/Users/filippobrajucha/Developer/data-analytics/.env/lib/python3.12/site-packages/sklearn/metrics/_classification.py:1565: UndefinedMetricWarning: Precision is ill-defined and being set to 0.0 in labels with no predicted samples. Use `zero_division` parameter to control this behavior.\n",
      "  _warn_prf(average, modifier, f\"{metric.capitalize()} is\", len(result))\n"
     ]
    },
    {
     "name": "stdout",
     "output_type": "stream",
     "text": [
      "K=2000\n",
      "  Accuracy - 0.9534\n",
      "  F1 - 0.9507\n"
     ]
    }
   ],
   "source": [
    "list_clf = []\n",
    "list_acc_train = []\n",
    "list_rec_train = []\n",
    "list_pre_train = []\n",
    "list_f1_train = []\n",
    "\n",
    "for k in [10,20,50,100,500,775,900,1000,1500,2000]:\n",
    "    clf = KNeighborsClassifier(n_neighbors=k)\n",
    "    clf.fit(X_train, y_train)\n",
    "\n",
    "    y_pred = clf.predict(X_test)\n",
    "    score_acc = accuracy_score(y_test, y_pred)\n",
    "    list_acc_train_pca.append(score_acc)\n",
    "    score_recall = recall_score(y_test, y_pred, average='weighted')\n",
    "    list_rec_train_pca.append(score_recall)\n",
    "    score_precision = precision_score(y_test, y_pred, average='weighted')\n",
    "    list_pre_train_pca.append(score_precision)\n",
    "    score_f1 = f1_score(y_test, y_pred, average='weighted')\n",
    "    list_f1_train_pca.append(score_f1)\n",
    "\n",
    "    score = clf.score(X_test, y_test)\n",
    "\n",
    "    print(\"K={:d}\".format(k))\n",
    "    print(\"  Accuracy - {:.4f}\".format(score_acc))\n",
    "    # print(\"  Precision - {:.4f}\".format(score_precision))\n",
    "    # print(\"  Recall - {:.4f}\".format(score_recall))\n",
    "    print(\"  F1 - {:.4f}\".format(score_f1))\n",
    "\n",
    "    # if best_score < score:\n",
    "    #     best_score = score\n",
    "    #     best_k = k\n",
    "    #     best_clf = clf\n",
    "    \n",
    "    list_clf.append(clf)"
   ]
  },
  {
   "cell_type": "code",
   "execution_count": 19,
   "metadata": {},
   "outputs": [
    {
     "name": "stdout",
     "output_type": "stream",
     "text": [
      "10\n",
      "  Accuracy - 0.9969\n",
      "  F1 - 0.9969\n",
      "20\n",
      "  Accuracy - 0.9962\n",
      "  F1 - 0.9962\n",
      "50\n",
      "  Accuracy - 0.9940\n",
      "  F1 - 0.9940\n",
      "100\n",
      "  Accuracy - 0.9924\n",
      "  F1 - 0.9923\n",
      "500\n",
      "  Accuracy - 0.9798\n",
      "  F1 - 0.9792\n"
     ]
    },
    {
     "name": "stderr",
     "output_type": "stream",
     "text": [
      "/Users/filippobrajucha/Developer/data-analytics/.env/lib/python3.12/site-packages/sklearn/metrics/_classification.py:1565: UndefinedMetricWarning: Precision is ill-defined and being set to 0.0 in labels with no predicted samples. Use `zero_division` parameter to control this behavior.\n",
      "  _warn_prf(average, modifier, f\"{metric.capitalize()} is\", len(result))\n"
     ]
    },
    {
     "name": "stdout",
     "output_type": "stream",
     "text": [
      "775\n",
      "  Accuracy - 0.9728\n",
      "  F1 - 0.9716\n"
     ]
    },
    {
     "name": "stderr",
     "output_type": "stream",
     "text": [
      "/Users/filippobrajucha/Developer/data-analytics/.env/lib/python3.12/site-packages/sklearn/metrics/_classification.py:1565: UndefinedMetricWarning: Precision is ill-defined and being set to 0.0 in labels with no predicted samples. Use `zero_division` parameter to control this behavior.\n",
      "  _warn_prf(average, modifier, f\"{metric.capitalize()} is\", len(result))\n"
     ]
    },
    {
     "name": "stdout",
     "output_type": "stream",
     "text": [
      "900\n",
      "  Accuracy - 0.9703\n",
      "  F1 - 0.9690\n"
     ]
    },
    {
     "name": "stderr",
     "output_type": "stream",
     "text": [
      "/Users/filippobrajucha/Developer/data-analytics/.env/lib/python3.12/site-packages/sklearn/metrics/_classification.py:1565: UndefinedMetricWarning: Precision is ill-defined and being set to 0.0 in labels with no predicted samples. Use `zero_division` parameter to control this behavior.\n",
      "  _warn_prf(average, modifier, f\"{metric.capitalize()} is\", len(result))\n"
     ]
    },
    {
     "name": "stdout",
     "output_type": "stream",
     "text": [
      "1000\n",
      "  Accuracy - 0.9681\n",
      "  F1 - 0.9666\n"
     ]
    },
    {
     "name": "stderr",
     "output_type": "stream",
     "text": [
      "/Users/filippobrajucha/Developer/data-analytics/.env/lib/python3.12/site-packages/sklearn/metrics/_classification.py:1565: UndefinedMetricWarning: Precision is ill-defined and being set to 0.0 in labels with no predicted samples. Use `zero_division` parameter to control this behavior.\n",
      "  _warn_prf(average, modifier, f\"{metric.capitalize()} is\", len(result))\n"
     ]
    },
    {
     "name": "stdout",
     "output_type": "stream",
     "text": [
      "1500\n",
      "  Accuracy - 0.9625\n",
      "  F1 - 0.9603\n",
      "2000\n",
      "  Accuracy - 0.9521\n",
      "  F1 - 0.9491\n"
     ]
    },
    {
     "name": "stderr",
     "output_type": "stream",
     "text": [
      "/Users/filippobrajucha/Developer/data-analytics/.env/lib/python3.12/site-packages/sklearn/metrics/_classification.py:1565: UndefinedMetricWarning: Precision is ill-defined and being set to 0.0 in labels with no predicted samples. Use `zero_division` parameter to control this behavior.\n",
      "  _warn_prf(average, modifier, f\"{metric.capitalize()} is\", len(result))\n"
     ]
    }
   ],
   "source": [
    "\n",
    "# file = pickle.load(open(\"knn_pca.pkl\", \"rb\"))\n",
    "\n",
    "# list_clf_pca = file[0]\n",
    "\n",
    "list_acc_val = []\n",
    "list_rec_val = []\n",
    "list_pre_val = []\n",
    "list_f1_val = []\n",
    "\n",
    "for clf in list_clf:\n",
    "    val_pred = clf.predict(X_val)\n",
    "\n",
    "    score_acc = accuracy_score(y_val, val_pred)\n",
    "    list_acc_val_pca.append(score_acc)\n",
    "    score_recall = recall_score(y_val, val_pred, average='weighted')\n",
    "    list_rec_val_pca.append(score_recall)\n",
    "    score_precision = precision_score(y_val, val_pred, average='weighted')\n",
    "    list_pre_val_pca.append(score_precision)\n",
    "    score_f1 = f1_score(y_val, val_pred, average='weighted')\n",
    "    list_f1_val_pca.append(score_f1)\n",
    "\n",
    "    print(clf.n_neighbors)\n",
    "\n",
    "    print(\"  Accuracy - {:.4f}\".format(score_acc))\n",
    "    # print(\"  Precision - {:.4f}\".format(score_precision))\n",
    "    # print(\"  Recall - {:.4f}\".format(score_recall))\n",
    "    print(\"  F1 - {:.4f}\".format(score_f1))"
   ]
  },
  {
   "cell_type": "code",
   "execution_count": 20,
   "metadata": {},
   "outputs": [],
   "source": [
    "with open('knn_lda_red.pkl', 'wb') as f:\n",
    "    pickle.dump([list_clf_lda, list_acc_train_lda, list_rec_train_lda, list_pre_train_lda, list_f1_train_lda, list_acc_val_lda, list_rec_val_lda, list_pre_val_lda, list_f1_val_lda], f)\n",
    "with open('knn_pca_red.pkl', 'wb') as f:\n",
    "    pickle.dump([list_clf_pca, list_acc_train_pca, list_rec_train_pca, list_pre_train_pca, list_f1_train_pca, list_acc_val_pca, list_rec_val_pca, list_pre_val_pca, list_f1_val_pca], f)\n",
    "with open('knn_std_red.pkl', 'wb') as f:\n",
    "    pickle.dump([list_clf, list_acc_train, list_rec_train, list_pre_train, list_f1_train, list_acc_val, list_rec_val, list_pre_val, list_f1_val], f)"
   ]
  },
  {
   "cell_type": "markdown",
   "metadata": {},
   "source": [
    "---"
   ]
  },
  {
   "cell_type": "markdown",
   "metadata": {},
   "source": [
    "---"
   ]
  },
  {
   "cell_type": "code",
   "execution_count": 21,
   "metadata": {},
   "outputs": [],
   "source": [
    "seed = 42\n",
    "\n",
    "FILENAME = \"train_dataset.csv\"\n",
    "\n",
    "#Prepare train data\n",
    "df1 = pd.read_csv(FILENAME, encoding='ISO-8859-1', sep=\",\", low_memory=False)\n",
    "# print(\"EX1) #Righe: \" + str(df1.shape[0])+ \" #Colonne: \"+str(df1.shape[1]))\n",
    "\n",
    "# print(df1.nunique())\n",
    "# print(df1.isna().sum())\n",
    "\n",
    "# print(df1.shape)\n",
    "df1 = df1.dropna()\n",
    "# print(df1.shape)\n",
    "\n",
    "y = df1[\"type\"]\n",
    "X = df1.drop(columns=[\"type\", \"label\"])\n",
    "\n",
    "err_arr = X.loc[X[\"src_bytes\"] == \"0.0.0.0\"]\n",
    "X = X.drop(index=err_arr.index)\n",
    "y = y.drop(index=err_arr.index)\n",
    "X.astype({'src_bytes': 'int64', 'ts': 'datetime64[ms]', 'dns_AA': 'bool', 'dns_RD': 'bool', 'dns_RA': 'bool', 'dns_rejected': 'bool', 'ssl_resumed': 'bool', 'ssl_established': 'bool', 'weird_notice': 'bool'}).dtypes\n",
    "\n",
    "X = X.to_numpy()\n",
    "y = y.to_numpy()\n",
    "\n",
    "# for feature in [\"dns_AA\",\"dns_RD\",\"dns_RA\",\"dns_rejected\",\"ssl_version\",\"ssl_cipher\",\"ssl_resumed\",\"ssl_established\",\"ssl_subject\",\"ssl_issuer\",\"http_trans_depth\",\"http_method\",\"http_uri\",\"http_referrer\",\"http_version\",\"http_request_body_len\",\"http_response_body_len\",\"http_status_code\",\"http_user_agent\",\"http_orig_mime_types\",\"http_resp_mime_types\",\"weird_name\",\"weird_addl\",\"weird_notice\"]:\n",
    "#     # print(f\"Feature: {feature}\")    \n",
    "#     feature_index = np.where(df1.columns == feature)[0][0]\n",
    "#     elements, counts = np.unique(X[:, feature_index], return_counts=True)\n",
    "\n",
    "    # for element, count in zip(elements, counts):\n",
    "    #     print(f\"    Element: {element}, Count: {count}\")"
   ]
  },
  {
   "cell_type": "code",
   "execution_count": 22,
   "metadata": {},
   "outputs": [],
   "source": [
    "oe = preprocessing.OrdinalEncoder()\n",
    "oe.fit(X)\n",
    "X = oe.transform(X)\n",
    "\n",
    "le = preprocessing.LabelEncoder()\n",
    "le.fit(y)\n",
    "y = le.transform(y)\n",
    "\n",
    "\n",
    "train_idx, test_idx = train_test_split(np.arange(X.shape[0]), test_size=0.2, stratify=y, random_state=seed)\n",
    "test_idx, val_idx = train_test_split(test_idx, test_size=0.5, stratify=y[test_idx], random_state=seed)\n",
    "\n",
    "X_test = X[test_idx,:]\n",
    "y_test = y[test_idx]\n",
    "X_train = X[train_idx,:]\n",
    "y_train = y[train_idx]\n",
    "X_val = X[val_idx,:]\n",
    "y_val = y[val_idx]\n",
    "\n",
    "\n",
    "## Scaling\n",
    "scaler = preprocessing.StandardScaler()\n",
    "scaler.fit(X_train)\n",
    "X_train = scaler.transform(X_train)\n",
    "X_test = scaler.transform(X_test)\n",
    "X_val = scaler.transform(X_val)\n",
    "\n",
    "## PCA\n",
    "from sklearn import decomposition\n",
    "pca = decomposition.PCA()\n",
    "pca.fit(X_train)\n",
    "X_train_pca = pca.transform(X_train)\n",
    "X_test_pca = pca.transform(X_test)\n",
    "X_val_pca = pca.transform(X_val)\n",
    "\n",
    "## LDA\n",
    "from sklearn.discriminant_analysis import LinearDiscriminantAnalysis\n",
    "lda = LinearDiscriminantAnalysis(n_components=9)\n",
    "lda.fit(X_train, y_train)\n",
    "X_train_lda = lda.transform(X_train)\n",
    "X_test_lda = lda.transform(X_test)\n",
    "X_val_lda = lda.transform(X_val)"
   ]
  },
  {
   "cell_type": "code",
   "execution_count": 23,
   "metadata": {},
   "outputs": [
    {
     "data": {
      "image/png": "[encoded data removed]",
      "text/plain": [
       "<Figure size 640x480 with 2 Axes>"
      ]
     },
     "metadata": {},
     "output_type": "display_data"
    },
    {
     "data": {
      "image/png": "[encoded data removed]",
      "text/plain": [
       "<Figure size 1500x800 with 1 Axes>"
      ]
     },
     "metadata": {},
     "output_type": "display_data"
    }
   ],
   "source": [
    "## PCA plotting\n",
    "import matplotlib.pyplot as plt\n",
    "fig, axs = plt.subplots(1, 2)\n",
    "\n",
    "axs[0].scatter(X_train_pca[:,0], X_train_pca[:,1], c=y_train)\n",
    "axs[1].scatter(X_val_pca[:,0], X_val_pca[:,1], c=y_val)\n",
    "plt.show()\n",
    "\n",
    "first_pca_component = pd.DataFrame()\n",
    "first_pca_component[\"with scaling\"] = pca.components_[0]\n",
    "first_pca_component.plot.bar(title=\"Weights of the first principal component\", figsize=(15, 8))\n",
    "_ = plt.tight_layout()"
   ]
  },
  {
   "cell_type": "markdown",
   "metadata": {},
   "source": [
    "---"
   ]
  },
  {
   "cell_type": "code",
   "execution_count": 24,
   "metadata": {},
   "outputs": [
    {
     "name": "stdout",
     "output_type": "stream",
     "text": [
      "K=10\n",
      "  Accuracy - 0.9974\n",
      "  F1 - 0.9974\n",
      "K=20\n",
      "  Accuracy - 0.9968\n",
      "  F1 - 0.9968\n",
      "K=50\n",
      "  Accuracy - 0.9946\n",
      "  F1 - 0.9946\n",
      "K=100\n",
      "  Accuracy - 0.9927\n",
      "  F1 - 0.9927\n",
      "K=500\n",
      "  Accuracy - 0.9806\n",
      "  F1 - 0.9800\n"
     ]
    },
    {
     "name": "stderr",
     "output_type": "stream",
     "text": [
      "/Users/filippobrajucha/Developer/data-analytics/.env/lib/python3.12/site-packages/sklearn/metrics/_classification.py:1565: UndefinedMetricWarning: Precision is ill-defined and being set to 0.0 in labels with no predicted samples. Use `zero_division` parameter to control this behavior.\n",
      "  _warn_prf(average, modifier, f\"{metric.capitalize()} is\", len(result))\n"
     ]
    },
    {
     "name": "stdout",
     "output_type": "stream",
     "text": [
      "K=775\n",
      "  Accuracy - 0.9743\n",
      "  F1 - 0.9732\n"
     ]
    },
    {
     "name": "stderr",
     "output_type": "stream",
     "text": [
      "/Users/filippobrajucha/Developer/data-analytics/.env/lib/python3.12/site-packages/sklearn/metrics/_classification.py:1565: UndefinedMetricWarning: Precision is ill-defined and being set to 0.0 in labels with no predicted samples. Use `zero_division` parameter to control this behavior.\n",
      "  _warn_prf(average, modifier, f\"{metric.capitalize()} is\", len(result))\n"
     ]
    },
    {
     "name": "stdout",
     "output_type": "stream",
     "text": [
      "K=900\n",
      "  Accuracy - 0.9719\n",
      "  F1 - 0.9706\n"
     ]
    },
    {
     "name": "stderr",
     "output_type": "stream",
     "text": [
      "/Users/filippobrajucha/Developer/data-analytics/.env/lib/python3.12/site-packages/sklearn/metrics/_classification.py:1565: UndefinedMetricWarning: Precision is ill-defined and being set to 0.0 in labels with no predicted samples. Use `zero_division` parameter to control this behavior.\n",
      "  _warn_prf(average, modifier, f\"{metric.capitalize()} is\", len(result))\n"
     ]
    },
    {
     "name": "stdout",
     "output_type": "stream",
     "text": [
      "K=1000\n",
      "  Accuracy - 0.9697\n",
      "  F1 - 0.9683\n"
     ]
    },
    {
     "name": "stderr",
     "output_type": "stream",
     "text": [
      "/Users/filippobrajucha/Developer/data-analytics/.env/lib/python3.12/site-packages/sklearn/metrics/_classification.py:1565: UndefinedMetricWarning: Precision is ill-defined and being set to 0.0 in labels with no predicted samples. Use `zero_division` parameter to control this behavior.\n",
      "  _warn_prf(average, modifier, f\"{metric.capitalize()} is\", len(result))\n"
     ]
    },
    {
     "name": "stdout",
     "output_type": "stream",
     "text": [
      "K=1500\n",
      "  Accuracy - 0.9641\n",
      "  F1 - 0.9620\n"
     ]
    },
    {
     "name": "stderr",
     "output_type": "stream",
     "text": [
      "/Users/filippobrajucha/Developer/data-analytics/.env/lib/python3.12/site-packages/sklearn/metrics/_classification.py:1565: UndefinedMetricWarning: Precision is ill-defined and being set to 0.0 in labels with no predicted samples. Use `zero_division` parameter to control this behavior.\n",
      "  _warn_prf(average, modifier, f\"{metric.capitalize()} is\", len(result))\n"
     ]
    },
    {
     "name": "stdout",
     "output_type": "stream",
     "text": [
      "K=2000\n",
      "  Accuracy - 0.9524\n",
      "  F1 - 0.9494\n"
     ]
    }
   ],
   "source": [
    "## WITH PCA\n",
    "\n",
    "list_clf_pca = []\n",
    "list_acc_train_pca = []\n",
    "list_rec_train_pca = []\n",
    "list_pre_train_pca = []\n",
    "list_f1_train_pca = []\n",
    "\n",
    "for k in [10,20,50,100,500,775,900,1000,1500,2000]:\n",
    "    clf = KNeighborsClassifier(n_neighbors=k)\n",
    "    clf.fit(X_train_pca, y_train)\n",
    "\n",
    "    y_pred = clf.predict(X_test_pca)\n",
    "    score_acc = accuracy_score(y_test, y_pred)\n",
    "    list_acc_train_pca.append(score_acc)\n",
    "    score_recall = recall_score(y_test, y_pred, average='weighted')\n",
    "    list_rec_train_pca.append(score_recall)\n",
    "    score_precision = precision_score(y_test, y_pred, average='weighted')\n",
    "    list_pre_train_pca.append(score_precision)\n",
    "    score_f1 = f1_score(y_test, y_pred, average='weighted')\n",
    "    list_f1_train_pca.append(score_f1)\n",
    "\n",
    "    score = clf.score(X_test_pca, y_test)\n",
    "\n",
    "    print(\"K={:d}\".format(k))\n",
    "    print(\"  Accuracy - {:.4f}\".format(score_acc))\n",
    "    # print(\"  Precision - {:.4f}\".format(score_precision))\n",
    "    # print(\"  Recall - {:.4f}\".format(score_recall))\n",
    "    print(\"  F1 - {:.4f}\".format(score_f1))\n",
    "\n",
    "    # if best_score < score:\n",
    "    #     best_score = score\n",
    "    #     best_k = k\n",
    "    #     best_clf = clf\n",
    "    \n",
    "    list_clf_pca.append(clf)"
   ]
  },
  {
   "cell_type": "code",
   "execution_count": 25,
   "metadata": {},
   "outputs": [
    {
     "name": "stdout",
     "output_type": "stream",
     "text": [
      "10\n",
      "  Accuracy - 0.9969\n",
      "  F1 - 0.9969\n",
      "20\n",
      "  Accuracy - 0.9962\n",
      "  F1 - 0.9962\n",
      "50\n",
      "  Accuracy - 0.9940\n",
      "  F1 - 0.9940\n",
      "100\n",
      "  Accuracy - 0.9924\n",
      "  F1 - 0.9923\n",
      "500\n",
      "  Accuracy - 0.9797\n",
      "  F1 - 0.9791\n"
     ]
    },
    {
     "name": "stderr",
     "output_type": "stream",
     "text": [
      "/Users/filippobrajucha/Developer/data-analytics/.env/lib/python3.12/site-packages/sklearn/metrics/_classification.py:1565: UndefinedMetricWarning: Precision is ill-defined and being set to 0.0 in labels with no predicted samples. Use `zero_division` parameter to control this behavior.\n",
      "  _warn_prf(average, modifier, f\"{metric.capitalize()} is\", len(result))\n"
     ]
    },
    {
     "name": "stdout",
     "output_type": "stream",
     "text": [
      "775\n",
      "  Accuracy - 0.9726\n",
      "  F1 - 0.9714\n"
     ]
    },
    {
     "name": "stderr",
     "output_type": "stream",
     "text": [
      "/Users/filippobrajucha/Developer/data-analytics/.env/lib/python3.12/site-packages/sklearn/metrics/_classification.py:1565: UndefinedMetricWarning: Precision is ill-defined and being set to 0.0 in labels with no predicted samples. Use `zero_division` parameter to control this behavior.\n",
      "  _warn_prf(average, modifier, f\"{metric.capitalize()} is\", len(result))\n"
     ]
    },
    {
     "name": "stdout",
     "output_type": "stream",
     "text": [
      "900\n",
      "  Accuracy - 0.9702\n",
      "  F1 - 0.9688\n"
     ]
    },
    {
     "name": "stderr",
     "output_type": "stream",
     "text": [
      "/Users/filippobrajucha/Developer/data-analytics/.env/lib/python3.12/site-packages/sklearn/metrics/_classification.py:1565: UndefinedMetricWarning: Precision is ill-defined and being set to 0.0 in labels with no predicted samples. Use `zero_division` parameter to control this behavior.\n",
      "  _warn_prf(average, modifier, f\"{metric.capitalize()} is\", len(result))\n"
     ]
    },
    {
     "name": "stdout",
     "output_type": "stream",
     "text": [
      "1000\n",
      "  Accuracy - 0.9681\n",
      "  F1 - 0.9666\n"
     ]
    },
    {
     "name": "stderr",
     "output_type": "stream",
     "text": [
      "/Users/filippobrajucha/Developer/data-analytics/.env/lib/python3.12/site-packages/sklearn/metrics/_classification.py:1565: UndefinedMetricWarning: Precision is ill-defined and being set to 0.0 in labels with no predicted samples. Use `zero_division` parameter to control this behavior.\n",
      "  _warn_prf(average, modifier, f\"{metric.capitalize()} is\", len(result))\n"
     ]
    },
    {
     "name": "stdout",
     "output_type": "stream",
     "text": [
      "1500\n",
      "  Accuracy - 0.9624\n",
      "  F1 - 0.9602\n",
      "2000\n",
      "  Accuracy - 0.9515\n",
      "  F1 - 0.9483\n"
     ]
    },
    {
     "name": "stderr",
     "output_type": "stream",
     "text": [
      "/Users/filippobrajucha/Developer/data-analytics/.env/lib/python3.12/site-packages/sklearn/metrics/_classification.py:1565: UndefinedMetricWarning: Precision is ill-defined and being set to 0.0 in labels with no predicted samples. Use `zero_division` parameter to control this behavior.\n",
      "  _warn_prf(average, modifier, f\"{metric.capitalize()} is\", len(result))\n"
     ]
    }
   ],
   "source": [
    "\n",
    "# file = pickle.load(open(\"knn_pca.pkl\", \"rb\"))\n",
    "\n",
    "# list_clf_pca = file[0]\n",
    "\n",
    "list_acc_val_pca = []\n",
    "list_rec_val_pca = []\n",
    "list_pre_val_pca = []\n",
    "list_f1_val_pca = []\n",
    "\n",
    "for clf in list_clf_pca:\n",
    "    val_pred = clf.predict(X_val_pca)\n",
    "\n",
    "    score_acc = accuracy_score(y_val, val_pred)\n",
    "    list_acc_val_pca.append(score_acc)\n",
    "    score_recall = recall_score(y_val, val_pred, average='weighted')\n",
    "    list_rec_val_pca.append(score_recall)\n",
    "    score_precision = precision_score(y_val, val_pred, average='weighted')\n",
    "    list_pre_val_pca.append(score_precision)\n",
    "    score_f1 = f1_score(y_val, val_pred, average='weighted')\n",
    "    list_f1_val_pca.append(score_f1)\n",
    "\n",
    "    print(clf.n_neighbors)\n",
    "\n",
    "    print(\"  Accuracy - {:.4f}\".format(score_acc))\n",
    "    # print(\"  Precision - {:.4f}\".format(score_precision))\n",
    "    # print(\"  Recall - {:.4f}\".format(score_recall))\n",
    "    print(\"  F1 - {:.4f}\".format(score_f1))"
   ]
  },
  {
   "cell_type": "markdown",
   "metadata": {},
   "source": [
    "---"
   ]
  },
  {
   "cell_type": "code",
   "execution_count": 26,
   "metadata": {},
   "outputs": [
    {
     "name": "stdout",
     "output_type": "stream",
     "text": [
      "K=10\n",
      "  Accuracy - 0.9975\n",
      "  F1 - 0.9975\n",
      "K=20\n",
      "  Accuracy - 0.9966\n",
      "  F1 - 0.9966\n",
      "K=50\n",
      "  Accuracy - 0.9950\n",
      "  F1 - 0.9949\n",
      "K=100\n",
      "  Accuracy - 0.9929\n",
      "  F1 - 0.9929\n",
      "K=500\n",
      "  Accuracy - 0.9843\n",
      "  F1 - 0.9840\n",
      "K=775\n",
      "  Accuracy - 0.9788\n",
      "  F1 - 0.9783\n",
      "K=900\n",
      "  Accuracy - 0.9774\n",
      "  F1 - 0.9765\n",
      "K=1000\n",
      "  Accuracy - 0.9762\n",
      "  F1 - 0.9749\n"
     ]
    },
    {
     "name": "stderr",
     "output_type": "stream",
     "text": [
      "/Users/filippobrajucha/Developer/data-analytics/.env/lib/python3.12/site-packages/sklearn/metrics/_classification.py:1565: UndefinedMetricWarning: Precision is ill-defined and being set to 0.0 in labels with no predicted samples. Use `zero_division` parameter to control this behavior.\n",
      "  _warn_prf(average, modifier, f\"{metric.capitalize()} is\", len(result))\n"
     ]
    },
    {
     "name": "stdout",
     "output_type": "stream",
     "text": [
      "K=1500\n",
      "  Accuracy - 0.9701\n",
      "  F1 - 0.9681\n"
     ]
    },
    {
     "name": "stderr",
     "output_type": "stream",
     "text": [
      "/Users/filippobrajucha/Developer/data-analytics/.env/lib/python3.12/site-packages/sklearn/metrics/_classification.py:1565: UndefinedMetricWarning: Precision is ill-defined and being set to 0.0 in labels with no predicted samples. Use `zero_division` parameter to control this behavior.\n",
      "  _warn_prf(average, modifier, f\"{metric.capitalize()} is\", len(result))\n"
     ]
    },
    {
     "name": "stdout",
     "output_type": "stream",
     "text": [
      "K=2000\n",
      "  Accuracy - 0.9648\n",
      "  F1 - 0.9625\n"
     ]
    }
   ],
   "source": [
    "list_clf_lda = []\n",
    "list_acc_train_lda = []\n",
    "list_rec_train_lda = []\n",
    "list_pre_train_lda = []\n",
    "list_f1_train_lda = []\n",
    "\n",
    "for k in [10,20,50,100,500,775,900,1000,1500,2000]:\n",
    "    clf = KNeighborsClassifier(n_neighbors=k)\n",
    "    clf.fit(X_train_lda, y_train)\n",
    "\n",
    "    y_pred = clf.predict(X_test_lda)\n",
    "    score_acc = accuracy_score(y_test, y_pred)\n",
    "    list_acc_train_pca.append(score_acc)\n",
    "    score_recall = recall_score(y_test, y_pred, average='weighted')\n",
    "    list_rec_train_pca.append(score_recall)\n",
    "    score_precision = precision_score(y_test, y_pred, average='weighted')\n",
    "    list_pre_train_pca.append(score_precision)\n",
    "    score_f1 = f1_score(y_test, y_pred, average='weighted')\n",
    "    list_f1_train_pca.append(score_f1)\n",
    "\n",
    "    score = clf.score(X_test_lda, y_test)\n",
    "\n",
    "    print(\"K={:d}\".format(k))\n",
    "    print(\"  Accuracy - {:.4f}\".format(score_acc))\n",
    "    # print(\"  Precision - {:.4f}\".format(score_precision))\n",
    "    # print(\"  Recall - {:.4f}\".format(score_recall))\n",
    "    print(\"  F1 - {:.4f}\".format(score_f1))\n",
    "\n",
    "    # if best_score < score:\n",
    "    #     best_score = score\n",
    "    #     best_k = k\n",
    "    #     best_clf = clf\n",
    "    \n",
    "    list_clf_lda.append(clf)"
   ]
  },
  {
   "cell_type": "code",
   "execution_count": 27,
   "metadata": {},
   "outputs": [
    {
     "name": "stdout",
     "output_type": "stream",
     "text": [
      "10\n",
      "  Accuracy - 0.9972\n",
      "  F1 - 0.9972\n",
      "20\n",
      "  Accuracy - 0.9962\n",
      "  F1 - 0.9962\n",
      "50\n",
      "  Accuracy - 0.9944\n",
      "  F1 - 0.9944\n",
      "100\n",
      "  Accuracy - 0.9923\n",
      "  F1 - 0.9923\n",
      "500\n",
      "  Accuracy - 0.9826\n",
      "  F1 - 0.9822\n",
      "775\n",
      "  Accuracy - 0.9777\n",
      "  F1 - 0.9771\n",
      "900\n",
      "  Accuracy - 0.9759\n",
      "  F1 - 0.9750\n",
      "1000\n",
      "  Accuracy - 0.9747\n",
      "  F1 - 0.9733\n"
     ]
    },
    {
     "name": "stderr",
     "output_type": "stream",
     "text": [
      "/Users/filippobrajucha/Developer/data-analytics/.env/lib/python3.12/site-packages/sklearn/metrics/_classification.py:1565: UndefinedMetricWarning: Precision is ill-defined and being set to 0.0 in labels with no predicted samples. Use `zero_division` parameter to control this behavior.\n",
      "  _warn_prf(average, modifier, f\"{metric.capitalize()} is\", len(result))\n"
     ]
    },
    {
     "name": "stdout",
     "output_type": "stream",
     "text": [
      "1500\n",
      "  Accuracy - 0.9689\n",
      "  F1 - 0.9668\n",
      "2000\n",
      "  Accuracy - 0.9635\n",
      "  F1 - 0.9610\n"
     ]
    },
    {
     "name": "stderr",
     "output_type": "stream",
     "text": [
      "/Users/filippobrajucha/Developer/data-analytics/.env/lib/python3.12/site-packages/sklearn/metrics/_classification.py:1565: UndefinedMetricWarning: Precision is ill-defined and being set to 0.0 in labels with no predicted samples. Use `zero_division` parameter to control this behavior.\n",
      "  _warn_prf(average, modifier, f\"{metric.capitalize()} is\", len(result))\n"
     ]
    }
   ],
   "source": [
    "\n",
    "# file = pickle.load(open(\"knn_pca.pkl\", \"rb\"))\n",
    "\n",
    "# list_clf_pca = file[0]\n",
    "\n",
    "list_acc_val_lda = []\n",
    "list_rec_val_lda = []\n",
    "list_pre_val_lda = []\n",
    "list_f1_val_lda = []\n",
    "\n",
    "for clf in list_clf_lda:\n",
    "    val_pred = clf.predict(X_val_lda)\n",
    "\n",
    "    score_acc = accuracy_score(y_val, val_pred)\n",
    "    list_acc_val_pca.append(score_acc)\n",
    "    score_recall = recall_score(y_val, val_pred, average='weighted')\n",
    "    list_rec_val_pca.append(score_recall)\n",
    "    score_precision = precision_score(y_val, val_pred, average='weighted')\n",
    "    list_pre_val_pca.append(score_precision)\n",
    "    score_f1 = f1_score(y_val, val_pred, average='weighted')\n",
    "    list_f1_val_pca.append(score_f1)\n",
    "\n",
    "    print(clf.n_neighbors)\n",
    "\n",
    "    print(\"  Accuracy - {:.4f}\".format(score_acc))\n",
    "    # print(\"  Precision - {:.4f}\".format(score_precision))\n",
    "    # print(\"  Recall - {:.4f}\".format(score_recall))\n",
    "    print(\"  F1 - {:.4f}\".format(score_f1))"
   ]
  },
  {
   "cell_type": "markdown",
   "metadata": {},
   "source": [
    "---"
   ]
  },
  {
   "cell_type": "code",
   "execution_count": 28,
   "metadata": {},
   "outputs": [
    {
     "name": "stdout",
     "output_type": "stream",
     "text": [
      "K=10\n",
      "  Accuracy - 0.9974\n",
      "  F1 - 0.9974\n",
      "K=20\n",
      "  Accuracy - 0.9968\n",
      "  F1 - 0.9968\n",
      "K=50\n",
      "  Accuracy - 0.9946\n",
      "  F1 - 0.9946\n",
      "K=100\n",
      "  Accuracy - 0.9927\n",
      "  F1 - 0.9927\n",
      "K=500\n",
      "  Accuracy - 0.9806\n",
      "  F1 - 0.9800\n"
     ]
    },
    {
     "name": "stderr",
     "output_type": "stream",
     "text": [
      "/Users/filippobrajucha/Developer/data-analytics/.env/lib/python3.12/site-packages/sklearn/metrics/_classification.py:1565: UndefinedMetricWarning: Precision is ill-defined and being set to 0.0 in labels with no predicted samples. Use `zero_division` parameter to control this behavior.\n",
      "  _warn_prf(average, modifier, f\"{metric.capitalize()} is\", len(result))\n"
     ]
    },
    {
     "name": "stdout",
     "output_type": "stream",
     "text": [
      "K=775\n",
      "  Accuracy - 0.9743\n",
      "  F1 - 0.9732\n"
     ]
    },
    {
     "name": "stderr",
     "output_type": "stream",
     "text": [
      "/Users/filippobrajucha/Developer/data-analytics/.env/lib/python3.12/site-packages/sklearn/metrics/_classification.py:1565: UndefinedMetricWarning: Precision is ill-defined and being set to 0.0 in labels with no predicted samples. Use `zero_division` parameter to control this behavior.\n",
      "  _warn_prf(average, modifier, f\"{metric.capitalize()} is\", len(result))\n"
     ]
    },
    {
     "name": "stdout",
     "output_type": "stream",
     "text": [
      "K=900\n",
      "  Accuracy - 0.9719\n",
      "  F1 - 0.9706\n"
     ]
    },
    {
     "name": "stderr",
     "output_type": "stream",
     "text": [
      "/Users/filippobrajucha/Developer/data-analytics/.env/lib/python3.12/site-packages/sklearn/metrics/_classification.py:1565: UndefinedMetricWarning: Precision is ill-defined and being set to 0.0 in labels with no predicted samples. Use `zero_division` parameter to control this behavior.\n",
      "  _warn_prf(average, modifier, f\"{metric.capitalize()} is\", len(result))\n"
     ]
    },
    {
     "name": "stdout",
     "output_type": "stream",
     "text": [
      "K=1000\n",
      "  Accuracy - 0.9697\n",
      "  F1 - 0.9683\n"
     ]
    },
    {
     "name": "stderr",
     "output_type": "stream",
     "text": [
      "/Users/filippobrajucha/Developer/data-analytics/.env/lib/python3.12/site-packages/sklearn/metrics/_classification.py:1565: UndefinedMetricWarning: Precision is ill-defined and being set to 0.0 in labels with no predicted samples. Use `zero_division` parameter to control this behavior.\n",
      "  _warn_prf(average, modifier, f\"{metric.capitalize()} is\", len(result))\n"
     ]
    },
    {
     "name": "stdout",
     "output_type": "stream",
     "text": [
      "K=1500\n",
      "  Accuracy - 0.9641\n",
      "  F1 - 0.9620\n"
     ]
    },
    {
     "name": "stderr",
     "output_type": "stream",
     "text": [
      "/Users/filippobrajucha/Developer/data-analytics/.env/lib/python3.12/site-packages/sklearn/metrics/_classification.py:1565: UndefinedMetricWarning: Precision is ill-defined and being set to 0.0 in labels with no predicted samples. Use `zero_division` parameter to control this behavior.\n",
      "  _warn_prf(average, modifier, f\"{metric.capitalize()} is\", len(result))\n"
     ]
    },
    {
     "name": "stdout",
     "output_type": "stream",
     "text": [
      "K=2000\n",
      "  Accuracy - 0.9524\n",
      "  F1 - 0.9494\n"
     ]
    }
   ],
   "source": [
    "list_clf = []\n",
    "list_acc_train = []\n",
    "list_rec_train = []\n",
    "list_pre_train = []\n",
    "list_f1_train = []\n",
    "\n",
    "for k in [10,20,50,100,500,775,900,1000,1500,2000]:\n",
    "    clf = KNeighborsClassifier(n_neighbors=k)\n",
    "    clf.fit(X_train, y_train)\n",
    "\n",
    "    y_pred = clf.predict(X_test)\n",
    "    score_acc = accuracy_score(y_test, y_pred)\n",
    "    list_acc_train_pca.append(score_acc)\n",
    "    score_recall = recall_score(y_test, y_pred, average='weighted')\n",
    "    list_rec_train_pca.append(score_recall)\n",
    "    score_precision = precision_score(y_test, y_pred, average='weighted')\n",
    "    list_pre_train_pca.append(score_precision)\n",
    "    score_f1 = f1_score(y_test, y_pred, average='weighted')\n",
    "    list_f1_train_pca.append(score_f1)\n",
    "\n",
    "    score = clf.score(X_test, y_test)\n",
    "\n",
    "    print(\"K={:d}\".format(k))\n",
    "    print(\"  Accuracy - {:.4f}\".format(score_acc))\n",
    "    # print(\"  Precision - {:.4f}\".format(score_precision))\n",
    "    # print(\"  Recall - {:.4f}\".format(score_recall))\n",
    "    print(\"  F1 - {:.4f}\".format(score_f1))\n",
    "\n",
    "    # if best_score < score:\n",
    "    #     best_score = score\n",
    "    #     best_k = k\n",
    "    #     best_clf = clf\n",
    "    \n",
    "    list_clf.append(clf)"
   ]
  },
  {
   "cell_type": "code",
   "execution_count": 29,
   "metadata": {},
   "outputs": [
    {
     "name": "stdout",
     "output_type": "stream",
     "text": [
      "10\n",
      "  Accuracy - 0.9969\n",
      "  F1 - 0.9969\n",
      "20\n",
      "  Accuracy - 0.9962\n",
      "  F1 - 0.9962\n",
      "50\n",
      "  Accuracy - 0.9940\n",
      "  F1 - 0.9940\n",
      "100\n",
      "  Accuracy - 0.9924\n",
      "  F1 - 0.9923\n",
      "500\n",
      "  Accuracy - 0.9797\n",
      "  F1 - 0.9791\n"
     ]
    },
    {
     "name": "stderr",
     "output_type": "stream",
     "text": [
      "/Users/filippobrajucha/Developer/data-analytics/.env/lib/python3.12/site-packages/sklearn/metrics/_classification.py:1565: UndefinedMetricWarning: Precision is ill-defined and being set to 0.0 in labels with no predicted samples. Use `zero_division` parameter to control this behavior.\n",
      "  _warn_prf(average, modifier, f\"{metric.capitalize()} is\", len(result))\n"
     ]
    },
    {
     "name": "stdout",
     "output_type": "stream",
     "text": [
      "775\n",
      "  Accuracy - 0.9726\n",
      "  F1 - 0.9714\n"
     ]
    },
    {
     "name": "stderr",
     "output_type": "stream",
     "text": [
      "/Users/filippobrajucha/Developer/data-analytics/.env/lib/python3.12/site-packages/sklearn/metrics/_classification.py:1565: UndefinedMetricWarning: Precision is ill-defined and being set to 0.0 in labels with no predicted samples. Use `zero_division` parameter to control this behavior.\n",
      "  _warn_prf(average, modifier, f\"{metric.capitalize()} is\", len(result))\n"
     ]
    },
    {
     "name": "stdout",
     "output_type": "stream",
     "text": [
      "900\n",
      "  Accuracy - 0.9702\n",
      "  F1 - 0.9688\n"
     ]
    },
    {
     "name": "stderr",
     "output_type": "stream",
     "text": [
      "/Users/filippobrajucha/Developer/data-analytics/.env/lib/python3.12/site-packages/sklearn/metrics/_classification.py:1565: UndefinedMetricWarning: Precision is ill-defined and being set to 0.0 in labels with no predicted samples. Use `zero_division` parameter to control this behavior.\n",
      "  _warn_prf(average, modifier, f\"{metric.capitalize()} is\", len(result))\n"
     ]
    },
    {
     "name": "stdout",
     "output_type": "stream",
     "text": [
      "1000\n",
      "  Accuracy - 0.9681\n",
      "  F1 - 0.9666\n"
     ]
    },
    {
     "name": "stderr",
     "output_type": "stream",
     "text": [
      "/Users/filippobrajucha/Developer/data-analytics/.env/lib/python3.12/site-packages/sklearn/metrics/_classification.py:1565: UndefinedMetricWarning: Precision is ill-defined and being set to 0.0 in labels with no predicted samples. Use `zero_division` parameter to control this behavior.\n",
      "  _warn_prf(average, modifier, f\"{metric.capitalize()} is\", len(result))\n"
     ]
    },
    {
     "name": "stdout",
     "output_type": "stream",
     "text": [
      "1500\n",
      "  Accuracy - 0.9624\n",
      "  F1 - 0.9602\n",
      "2000\n",
      "  Accuracy - 0.9515\n",
      "  F1 - 0.9483\n"
     ]
    },
    {
     "name": "stderr",
     "output_type": "stream",
     "text": [
      "/Users/filippobrajucha/Developer/data-analytics/.env/lib/python3.12/site-packages/sklearn/metrics/_classification.py:1565: UndefinedMetricWarning: Precision is ill-defined and being set to 0.0 in labels with no predicted samples. Use `zero_division` parameter to control this behavior.\n",
      "  _warn_prf(average, modifier, f\"{metric.capitalize()} is\", len(result))\n"
     ]
    }
   ],
   "source": [
    "\n",
    "# file = pickle.load(open(\"knn_pca.pkl\", \"rb\"))\n",
    "\n",
    "# list_clf_pca = file[0]\n",
    "\n",
    "list_acc_val = []\n",
    "list_rec_val = []\n",
    "list_pre_val = []\n",
    "list_f1_val = []\n",
    "\n",
    "for clf in list_clf:\n",
    "    val_pred = clf.predict(X_val)\n",
    "\n",
    "    score_acc = accuracy_score(y_val, val_pred)\n",
    "    list_acc_val_pca.append(score_acc)\n",
    "    score_recall = recall_score(y_val, val_pred, average='weighted')\n",
    "    list_rec_val_pca.append(score_recall)\n",
    "    score_precision = precision_score(y_val, val_pred, average='weighted')\n",
    "    list_pre_val_pca.append(score_precision)\n",
    "    score_f1 = f1_score(y_val, val_pred, average='weighted')\n",
    "    list_f1_val_pca.append(score_f1)\n",
    "\n",
    "    print(clf.n_neighbors)\n",
    "\n",
    "    print(\"  Accuracy - {:.4f}\".format(score_acc))\n",
    "    # print(\"  Precision - {:.4f}\".format(score_precision))\n",
    "    # print(\"  Recall - {:.4f}\".format(score_recall))\n",
    "    print(\"  F1 - {:.4f}\".format(score_f1))"
   ]
  },
  {
   "cell_type": "code",
   "execution_count": 30,
   "metadata": {},
   "outputs": [],
   "source": [
    "with open('knn_lda_1.pkl', 'wb') as f:\n",
    "    pickle.dump([list_clf_lda, list_acc_train_lda, list_rec_train_lda, list_pre_train_lda, list_f1_train_lda, list_acc_val_lda, list_rec_val_lda, list_pre_val_lda, list_f1_val_lda], f)\n",
    "with open('knn_pca_1.pkl', 'wb') as f:\n",
    "    pickle.dump([list_clf_pca, list_acc_train_pca, list_rec_train_pca, list_pre_train_pca, list_f1_train_pca, list_acc_val_pca, list_rec_val_pca, list_pre_val_pca, list_f1_val_pca], f)\n",
    "with open('knn_std_1.pkl', 'wb') as f:\n",
    "    pickle.dump([list_clf, list_acc_train, list_rec_train, list_pre_train, list_f1_train, list_acc_val, list_rec_val, list_pre_val, list_f1_val], f)"
   ]
  }
 ],
 "metadata": {
  "kernelspec": {
   "display_name": ".env",
   "language": "python",
   "name": "python3"
  },
  "language_info": {
   "codemirror_mode": {
    "name": "ipython",
    "version": 3
   },
   "file_extension": ".py",
   "mimetype": "text/x-python",
   "name": "python",
   "nbconvert_exporter": "python",
   "pygments_lexer": "ipython3",
   "version": "3.12.2"
  }
 },
 "nbformat": 4,
 "nbformat_minor": 2
}
