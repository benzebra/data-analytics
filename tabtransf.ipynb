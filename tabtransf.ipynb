{
 "cells": [
  {
   "cell_type": "code",
   "execution_count": 1,
   "metadata": {},
   "outputs": [
    {
     "name": "stdout",
     "output_type": "stream",
     "text": [
      "Using device: cpu\n"
     ]
    }
   ],
   "source": [
    "## Importing Libraries\n",
    "\n",
    "import pandas as pd\n",
    "import numpy as np\n",
    "from sklearn import preprocessing\n",
    "from sklearn.model_selection import train_test_split, PredefinedSplit\n",
    "from sklearn.utils.class_weight import compute_class_weight\n",
    "from sklearn.metrics import classification_report, confusion_matrix, accuracy_score, f1_score, precision_score, recall_score\n",
    "from sklearn.preprocessing import StandardScaler, MinMaxScaler, Normalizer\n",
    "from sklearn.discriminant_analysis import LinearDiscriminantAnalysis\n",
    "import itertools\n",
    "import torch\n",
    "import random\n",
    "import time\n",
    "import copy\n",
    "import matplotlib.pyplot as plt\n",
    "\n",
    "SEED = 42\n",
    "def fix_random(seed: int) -> None:\n",
    "    np.random.seed(seed)\n",
    "    random.seed(seed)\n",
    "    torch.manual_seed(seed)\n",
    "    torch.cuda.manual_seed(seed)\n",
    "    torch.backends.cudnn.benchmark = False\n",
    "    torch.backends.cudnn.deterministic = True  # slower\n",
    "fix_random(SEED)\n",
    "\n",
    "if torch.cuda.is_available():\n",
    "    device = torch.device('cuda')\n",
    "elif torch.backends.mps.is_available():\n",
    "    device = torch.device('mps')\n",
    "else:\n",
    "    device = torch.device('cpu')\n",
    "\n",
    "device = torch.device('cpu')\n",
    "\n",
    "print('Using device:', device)"
   ]
  },
  {
   "cell_type": "code",
   "execution_count": 2,
   "metadata": {},
   "outputs": [],
   "source": [
    "class TabTransformer(torch.nn.Module):\n",
    "    def __init__(self, num_features, num_classes, dim_embedding=8, num_heads=2, num_layers=2):\n",
    "        super(TabTransformer, self).__init__()\n",
    "        self.embedding = torch.nn.Linear(num_features, dim_embedding)\n",
    "        encoder_layer = torch.nn.TransformerEncoderLayer(d_model=dim_embedding, nhead=num_heads, batch_first=True)\n",
    "        self.transformer = torch.nn.TransformerEncoder(encoder_layer, num_layers=num_layers)\n",
    "        self.classifier = torch.nn.Linear(dim_embedding, num_classes)\n",
    "\n",
    "    def forward(self, x):\n",
    "        x = self.embedding(x)\n",
    "        x = x.unsqueeze(1)  # Adding a sequence length dimension\n",
    "        x = self.transformer(x)\n",
    "        x = torch.mean(x, dim=1)  # Pooling\n",
    "        x = self.classifier(x)\n",
    "        return x"
   ]
  },
  {
   "cell_type": "code",
   "execution_count": 3,
   "metadata": {},
   "outputs": [],
   "source": [
    "def train_model(model, criterion, optimizer, epochs, data_loader, val_loader, device, scheduler, patience):\n",
    "    n_iter = 0\n",
    "\n",
    "    best_model = None\n",
    "    best_val_loss = float('inf')\n",
    "    epochs_since_last_improvement = 0\n",
    "\n",
    "    start = time.time()\n",
    "\n",
    "    loss_history = []\n",
    "    val_loss_history = []\n",
    "\n",
    "    for epoch in range(epochs):\n",
    "        model.train()\n",
    "\n",
    "        start_epoch = time.time()\n",
    "\n",
    "        loss_train = 0\n",
    "        for data, targets in data_loader:\n",
    "            data, targets = data.to(device), targets.to(device)\n",
    "            optimizer.zero_grad()\n",
    "            outputs = model(data)\n",
    "            loss = criterion(outputs, targets.long())\n",
    "            loss.backward()\n",
    "            optimizer.step()\n",
    "            n_iter += 1\n",
    "            loss_train += loss.item()\n",
    "\n",
    "        scheduler.step()\n",
    "        loss_train /= len(data_loader)\n",
    "\n",
    "        # Compute Val Loss\n",
    "        val_loss,_,_ = test_model(model, criterion, val_loader)\n",
    "\n",
    "        loss_history.append(loss_train)\n",
    "        val_loss_history.append(val_loss)\n",
    "\n",
    "        # Early stopping\n",
    "        if val_loss < best_val_loss:\n",
    "            best_val_loss = val_loss\n",
    "            best_model = copy.deepcopy(model)\n",
    "            epochs_since_last_improvement = 0\n",
    "        elif epochs_since_last_improvement >= patience:\n",
    "            break\n",
    "        else:\n",
    "            epochs_since_last_improvement += 1\n",
    "\n",
    "        print('Epoch [{}/{}] - {:.2f} seconds - train_loss: {:.6f} - val_loss: {:.6f} - patience: {}'.format(epoch+1,\n",
    "              epochs, time.time() - start_epoch, loss_train, val_loss, epochs_since_last_improvement), end='\\r')\n",
    "\n",
    "    print('\\nTraining ended after {:.2f} seconds - Best val_loss: {:.6f}'.format(time.time() - start, best_val_loss))\n",
    "\n",
    "    return best_model, loss_history, val_loss_history\n",
    "\n",
    "\n",
    "def test_model(model, criterion, loader):\n",
    "    model.eval()\n",
    "    y_pred = torch.tensor([],requires_grad=True).to(device)\n",
    "    y_true = torch.tensor([],requires_grad=True).to(device)\n",
    "\n",
    "    total_loss = 0.0\n",
    "    \n",
    "    for data, targets in loader:\n",
    "        data, targets = data.to(device), targets.to(device)\n",
    "        preds = model(data)\n",
    "        loss = criterion(preds, targets.long())\n",
    "        total_loss += loss.item()\n",
    "        y_pred = torch.cat((y_pred, preds.squeeze()))\n",
    "        y_true = torch.cat((y_true, targets.detach()))\n",
    "\n",
    "    avg_loss = total_loss / len(loader)\n",
    "    return avg_loss, y_pred.squeeze(), y_true.squeeze()"
   ]
  },
  {
   "cell_type": "code",
   "execution_count": 4,
   "metadata": {},
   "outputs": [
    {
     "name": "stdout",
     "output_type": "stream",
     "text": [
      "(616983, 44)\n"
     ]
    }
   ],
   "source": [
    "## Load Data\n",
    "\n",
    "FILENAME = \"train_dataset.csv\"\n",
    "\n",
    "df1 = pd.read_csv(FILENAME, encoding='ISO-8859-1', sep=\",\", low_memory=False)\n",
    "df1 = df1.dropna()\n",
    "y = df1[\"type\"]\n",
    "X = df1.drop(columns=[\"type\", \"label\"])\n",
    "\n",
    "err_arr = X.loc[X[\"src_bytes\"] == \"0.0.0.0\"]\n",
    "X = X.drop(index=err_arr.index)\n",
    "y = y.drop(index=err_arr.index)\n",
    "X.astype({'src_bytes': 'int64', 'ts': 'datetime64[ms]', 'dns_AA': 'bool', 'dns_RD': 'bool', 'dns_RA': 'bool', 'dns_rejected': 'bool', 'ssl_resumed': 'bool', 'ssl_established': 'bool', 'weird_notice': 'bool'}).dtypes\n",
    "\n",
    "# X = X.to_numpy()\n",
    "y = y.to_numpy()\n",
    "\n",
    "\n",
    "## Categorical Embedding\n",
    "\n",
    "X_cat = X.select_dtypes(include=['object'])\n",
    "X_num = X.select_dtypes(exclude=['object'])\n",
    "oe = preprocessing.OrdinalEncoder()\n",
    "oe.fit(X_cat)\n",
    "X_cat = oe.transform(X_cat)\n",
    "X = np.concatenate((X_cat, X_num), axis=1)\n",
    "print(X.shape)\n",
    "\n",
    "le = preprocessing.LabelEncoder()\n",
    "le.fit(y)\n",
    "y = le.transform(y)\n",
    "\n",
    "\n",
    "## Train, Validation and Test Set\n",
    "\n",
    "indeces = np.arange(X.shape[0])\n",
    "train_idx, test_idx = train_test_split(indeces, test_size=0.1, stratify=y, random_state=SEED)\n",
    "test_idx, val_idx = train_test_split(test_idx, test_size=0.5, stratify=y[test_idx], random_state=SEED)\n",
    "\n",
    "fold = np.zeros(X.shape[0])\n",
    "fold[train_idx] = -1\n",
    "\n",
    "ps = PredefinedSplit(fold)\n",
    "ps.get_n_splits()\n",
    "\n",
    "y_test = y[test_idx]\n",
    "y_train = y[train_idx]\n",
    "y_val = y[val_idx]\n",
    "\n",
    "X_test = X[test_idx,:]\n",
    "X_train = X[train_idx,:]\n",
    "X_val = X[val_idx,:]\n",
    "\n",
    "## Preprocess and splitting\n",
    "\n",
    "# Apply LDA\n",
    "scaler = StandardScaler()\n",
    "X_train = scaler.fit_transform(X_train)\n",
    "X_val = scaler.transform(X_val)\n",
    "X_test = scaler.transform(X_test)\n",
    "\n",
    "# lda = LinearDiscriminantAnalysis()\n",
    "# lda.fit(X_train, y_train)\n",
    "# X_train = lda.transform(X_train)\n",
    "# X_val = lda.transform(X_val)\n",
    "# X_test = lda.transform(X_test)\n",
    "\n",
    "\n",
    "num_feature = X_train.shape[1]\n",
    "num_classes = len(np.unique(y_train))\n",
    "\n",
    "# X_train_tensor = torch.tensor(X_train, dtype=torch.float32)\n",
    "# y_train_tensor = torch.tensor(y_train, dtype=torch.long)\n",
    "\n",
    "# X_val_tensor = torch.tensor(X_val, dtype=torch.float32)\n",
    "# y_val_tensor = torch.tensor(y_val, dtype=torch.long)\n",
    "\n",
    "# X_test_tensor = torch.tensor(X_test, dtype=torch.float32)\n",
    "# y_test_tensor = torch.tensor(y_test, dtype=torch.long)\n",
    "\n",
    "# val_loader = torch.utils.data.DataLoader(torch.utils.data.TensorDataset(X_val_tensor, y_val_tensor), batch_size=y_val.shape[0], shuffle=False)\n",
    "# test_loader = torch.utils.data.DataLoader(torch.utils.data.TensorDataset(X_test_tensor, y_test_tensor), batch_size=y_test.shape[0], shuffle=False)"
   ]
  },
  {
   "cell_type": "code",
   "execution_count": 5,
   "metadata": {},
   "outputs": [],
   "source": [
    "X_train_tensor = torch.tensor(X_train, dtype=torch.float32)\n",
    "y_train_tensor = torch.tensor(y_train, dtype=torch.long)\n",
    "\n",
    "X_val_tensor = torch.tensor(X_val, dtype=torch.float32)\n",
    "y_val_tensor = torch.tensor(y_val, dtype=torch.long)\n",
    "\n",
    "X_test_tensor = torch.tensor(X_test, dtype=torch.float32)\n",
    "y_test_tensor = torch.tensor(y_test, dtype=torch.long)\n",
    "\n",
    "val_loader = torch.utils.data.DataLoader(torch.utils.data.TensorDataset(X_val_tensor, y_val_tensor), batch_size=y_val.shape[0], shuffle=False)\n",
    "test_loader = torch.utils.data.DataLoader(torch.utils.data.TensorDataset(X_test_tensor, y_test_tensor), batch_size=y_test.shape[0], shuffle=False)"
   ]
  },
  {
   "cell_type": "code",
   "execution_count": 6,
   "metadata": {},
   "outputs": [
    {
     "name": "stdout",
     "output_type": "stream",
     "text": [
      "Number of hyperparameter combinations: 1\n"
     ]
    }
   ],
   "source": [
    "nums_epochs = [1000]\n",
    "batch_sizes = [16]\n",
    "patience = [20]\n",
    "dim_embedding = [16]\n",
    "num_heads = [8]\n",
    "num_layers = [2]\n",
    "learning_rate = [0.001]\n",
    "hyperparameters = list(itertools.product(nums_epochs, batch_sizes, patience, dim_embedding, num_heads, num_layers, learning_rate))\n",
    "n_comb = len(hyperparameters)\n",
    "print (f'Number of hyperparameter combinations: {n_comb}')"
   ]
  },
  {
   "cell_type": "code",
   "execution_count": 7,
   "metadata": {},
   "outputs": [
    {
     "name": "stdout",
     "output_type": "stream",
     "text": [
      "tensor([ 4.0695,  0.3381,  1.1325,  4.5437, 98.6295,  2.9864,  1.1967, 63.8257,\n",
      "         0.2880,  0.9752])\n"
     ]
    }
   ],
   "source": [
    "## Class Weights\n",
    "\n",
    "class_weights = compute_class_weight(class_weight='balanced', classes=np.unique(y_train), y=y_train)\n",
    "class_weights = dict(enumerate(class_weights))\n",
    "class_weights = torch.tensor(list(class_weights.values()), dtype=torch.float32).to(device)\n",
    "print(class_weights)"
   ]
  },
  {
   "cell_type": "code",
   "execution_count": 8,
   "metadata": {},
   "outputs": [
    {
     "name": "stdout",
     "output_type": "stream",
     "text": [
      "Iteration 1/1 - Hyperparameters: epochs=1000, batch_size=16, patience=20, dim_embedding=16, num_heads=8, num_layers=2, lr=0.001\n",
      "Epoch [64/1000] - 122.00 seconds - train_loss: 0.041601 - val_loss: 0.083359 - patience: 20\n",
      "Training ended after 7213.83 seconds - Best val_loss: 0.046221\n",
      "Hyperparameters: epochs=1000, batch_size=16, patience=20, dim_embedding=16, num_heads=8, num_layers=2, lr=0.001\n",
      "Validation Loss: 0.046220630407333374\n"
     ]
    }
   ],
   "source": [
    "# Initialize the model, loss, and optimizer\n",
    "best_loss = float('inf')\n",
    "criterion = torch.nn.CrossEntropyLoss(weight=class_weights)\n",
    "current_iter = 0\n",
    "for epochs, batch_size, patience_, dim_embedding_, num_heads_, num_layers_, lr in hyperparameters:\n",
    "\n",
    "    print(f'Iteration {current_iter+1}/{n_comb} - Hyperparameters: epochs={epochs}, batch_size={batch_size}, patience={patience_}, dim_embedding={dim_embedding_}, num_heads={num_heads_}, num_layers={num_layers_}, lr={lr}')\n",
    "    train_loader = torch.utils.data.DataLoader(torch.utils.data.TensorDataset(X_train_tensor, y_train_tensor), batch_size=batch_size, drop_last=True)\n",
    "\n",
    "    model = TabTransformer(num_feature, num_classes).to(torch.device('cpu'))\n",
    "    optimizer = torch.optim.AdamW(model.parameters(), lr=lr)\n",
    "    scheduler = torch.optim.lr_scheduler.StepLR(optimizer, step_size=10, gamma=0.9)\n",
    "\n",
    "    model, loss_history, val_loss_history = train_model(model, criterion, optimizer, epochs, train_loader, val_loader, device, scheduler, patience_)\n",
    "    val_loss, y_pred, y_true = test_model(model, criterion, val_loader)\n",
    "    if val_loss < best_loss:\n",
    "        best_loss = val_loss\n",
    "        best_model = copy.deepcopy(model)\n",
    "        best_hyperparameters = f\"epochs={epochs}, batch_size={batch_size}, patience={patience_}, dim_embedding={dim_embedding_}, num_heads={num_heads_}, num_layers={num_layers_}, lr={lr}\"\n",
    "\n",
    "    print(f'Hyperparameters: epochs={epochs}, batch_size={batch_size}, patience={patience_}, dim_embedding={dim_embedding_}, num_heads={num_heads_}, num_layers={num_layers_}, lr={lr}')\n",
    "    print(f'Validation Loss: {val_loss}')\n",
    "\n",
    "    current_iter += 1"
   ]
  },
  {
   "cell_type": "code",
   "execution_count": 9,
   "metadata": {},
   "outputs": [
    {
     "name": "stdout",
     "output_type": "stream",
     "text": [
      "Best hyperparameters: epochs=1000, batch_size=16, patience=20, dim_embedding=16, num_heads=8, num_layers=2, lr=0.001\n",
      "Test Loss: 0.03687356784939766\n",
      "Test Accuracy: 0.9952996855651723\n"
     ]
    },
    {
     "data": {
      "image/png": "[encoded data removed]",
      "text/plain": [
       "<Figure size 640x480 with 1 Axes>"
      ]
     },
     "metadata": {},
     "output_type": "display_data"
    }
   ],
   "source": [
    "test_loss, y_pred, y_true = test_model(best_model, criterion, test_loader)\n",
    "y_pred = torch.argmax(y_pred, dim=1)\n",
    "print(f'Best hyperparameters: {best_hyperparameters}')\n",
    "print(f'Test Loss: {test_loss}')\n",
    "print(f'Test Accuracy: {accuracy_score(y_true.detach().numpy(), y_pred.detach().numpy())}')\n",
    "plt.plot(loss_history, label='train_loss')\n",
    "plt.plot(val_loss_history, label='val_loss')\n",
    "plt.legend()\n",
    "plt.show()"
   ]
  },
  {
   "cell_type": "code",
   "execution_count": 16,
   "metadata": {},
   "outputs": [
    {
     "name": "stdout",
     "output_type": "stream",
     "text": [
      "              precision    recall  f1-score   support\n",
      "\n",
      "           0       0.99      0.99      0.99       758\n",
      "           1       1.00      1.00      1.00      9124\n",
      "           2       1.00      0.98      0.99      2724\n",
      "           3       0.91      0.99      0.95       679\n",
      "           4       0.83      0.97      0.90        31\n",
      "           5       1.00      0.98      0.99      1033\n",
      "           6       0.99      1.00      0.99      2578\n",
      "           7       0.77      1.00      0.87        48\n",
      "           8       1.00      1.00      1.00     10710\n",
      "           9       1.00      0.99      0.99      3164\n",
      "\n",
      "    accuracy                           1.00     30849\n",
      "   macro avg       0.95      0.99      0.97     30849\n",
      "weighted avg       1.00      1.00      1.00     30849\n",
      "\n",
      "F1 Score: 0.9953699881150784\n",
      "Balanced accuracy: 0.9894945724971667\n"
     ]
    }
   ],
   "source": [
    "from sklearn.metrics import classification_report, f1_score, accuracy_score\n",
    "\n",
    "class_weights = compute_class_weight(class_weight='balanced', classes=np.unique(y_test), y=y_test)\n",
    "\n",
    "y_test = y_test.to_device('cpu')\n",
    "\n",
    "print(classification_report(y_test, y_pred))\n",
    "print(f'F1 Score: {f1_score(y_test, y_pred, average=\"weighted\")}')\n",
    "print(f'Balanced accuracy: {accuracy_score(y_test, y_pred, sample_weight=(np.array([class_weights[i] for i in y_test])))}')"
   ]
  },
  {
   "cell_type": "code",
   "execution_count": null,
   "metadata": {},
   "outputs": [],
   "source": []
  }
 ],
 "metadata": {
  "kernelspec": {
   "display_name": ".env",
   "language": "python",
   "name": "python3"
  },
  "language_info": {
   "codemirror_mode": {
    "name": "ipython",
    "version": 3
   },
   "file_extension": ".py",
   "mimetype": "text/x-python",
   "name": "python",
   "nbconvert_exporter": "python",
   "pygments_lexer": "ipython3",
   "version": "3.12.2"
  }
 },
 "nbformat": 4,
 "nbformat_minor": 2
}
