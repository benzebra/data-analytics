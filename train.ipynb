{
 "cells": [
  {
   "cell_type": "code",
   "execution_count": 1,
   "metadata": {},
   "outputs": [],
   "source": [
    "import pandas as pd\n",
    "from sklearn.model_selection import train_test_split\n",
    "import numpy as np\n",
    "import pickle"
   ]
  },
  {
   "cell_type": "code",
   "execution_count": 2,
   "metadata": {},
   "outputs": [
    {
     "name": "stderr",
     "output_type": "stream",
     "text": [
      "/var/folders/nd/w5k06k917hbg7rpdv3ty357c0000gn/T/ipykernel_54668/3959855833.py:2: DtypeWarning: Columns (8) have mixed types. Specify dtype option on import or set low_memory=False.\n",
      "  df = pd.read_csv('train_dataset.csv', sep=\",\")\n"
     ]
    }
   ],
   "source": [
    "### Load data\n",
    "df = pd.read_csv('train_dataset.csv', sep=\",\")\n",
    "df = df.dropna()\n",
    "\n",
    "y = df[\"type\"]\n",
    "X = df.drop(columns=[\"type\"])"
   ]
  },
  {
   "cell_type": "code",
   "execution_count": 3,
   "metadata": {},
   "outputs": [
    {
     "ename": "TypeError",
     "evalue": "Encoders require their input argument must be uniformly strings or numbers. Got ['int', 'str']",
     "output_type": "error",
     "traceback": [
      "\u001b[0;31m---------------------------------------------------------------------------\u001b[0m",
      "\u001b[0;31mTypeError\u001b[0m                                 Traceback (most recent call last)",
      "File \u001b[0;32m~/Developer/data-analytics/.env/lib/python3.12/site-packages/sklearn/utils/_encode.py:183\u001b[0m, in \u001b[0;36m_unique_python\u001b[0;34m(values, return_inverse, return_counts)\u001b[0m\n\u001b[1;32m    181\u001b[0m uniques_set, missing_values \u001b[38;5;241m=\u001b[39m _extract_missing(uniques_set)\n\u001b[0;32m--> 183\u001b[0m uniques \u001b[38;5;241m=\u001b[39m \u001b[38;5;28;43msorted\u001b[39;49m\u001b[43m(\u001b[49m\u001b[43muniques_set\u001b[49m\u001b[43m)\u001b[49m\n\u001b[1;32m    184\u001b[0m uniques\u001b[38;5;241m.\u001b[39mextend(missing_values\u001b[38;5;241m.\u001b[39mto_list())\n",
      "\u001b[0;31mTypeError\u001b[0m: '<' not supported between instances of 'str' and 'int'",
      "\nDuring handling of the above exception, another exception occurred:\n",
      "\u001b[0;31mTypeError\u001b[0m                                 Traceback (most recent call last)",
      "Cell \u001b[0;32mIn[3], line 6\u001b[0m\n\u001b[1;32m      4\u001b[0m \u001b[38;5;66;03m# X\u001b[39;00m\n\u001b[1;32m      5\u001b[0m le \u001b[38;5;241m=\u001b[39m preprocessing\u001b[38;5;241m.\u001b[39mOrdinalEncoder()\n\u001b[0;32m----> 6\u001b[0m \u001b[43mle\u001b[49m\u001b[38;5;241;43m.\u001b[39;49m\u001b[43mfit\u001b[49m\u001b[43m(\u001b[49m\u001b[43mX\u001b[49m\u001b[43m)\u001b[49m\n\u001b[1;32m      7\u001b[0m X \u001b[38;5;241m=\u001b[39m le\u001b[38;5;241m.\u001b[39mtransform(X)\n\u001b[1;32m      8\u001b[0m \u001b[38;5;66;03m# y\u001b[39;00m\n",
      "File \u001b[0;32m~/Developer/data-analytics/.env/lib/python3.12/site-packages/sklearn/base.py:1389\u001b[0m, in \u001b[0;36m_fit_context.<locals>.decorator.<locals>.wrapper\u001b[0;34m(estimator, *args, **kwargs)\u001b[0m\n\u001b[1;32m   1382\u001b[0m     estimator\u001b[38;5;241m.\u001b[39m_validate_params()\n\u001b[1;32m   1384\u001b[0m \u001b[38;5;28;01mwith\u001b[39;00m config_context(\n\u001b[1;32m   1385\u001b[0m     skip_parameter_validation\u001b[38;5;241m=\u001b[39m(\n\u001b[1;32m   1386\u001b[0m         prefer_skip_nested_validation \u001b[38;5;129;01mor\u001b[39;00m global_skip_validation\n\u001b[1;32m   1387\u001b[0m     )\n\u001b[1;32m   1388\u001b[0m ):\n\u001b[0;32m-> 1389\u001b[0m     \u001b[38;5;28;01mreturn\u001b[39;00m \u001b[43mfit_method\u001b[49m\u001b[43m(\u001b[49m\u001b[43mestimator\u001b[49m\u001b[43m,\u001b[49m\u001b[43m \u001b[49m\u001b[38;5;241;43m*\u001b[39;49m\u001b[43margs\u001b[49m\u001b[43m,\u001b[49m\u001b[43m \u001b[49m\u001b[38;5;241;43m*\u001b[39;49m\u001b[38;5;241;43m*\u001b[39;49m\u001b[43mkwargs\u001b[49m\u001b[43m)\u001b[49m\n",
      "File \u001b[0;32m~/Developer/data-analytics/.env/lib/python3.12/site-packages/sklearn/preprocessing/_encoders.py:1515\u001b[0m, in \u001b[0;36mOrdinalEncoder.fit\u001b[0;34m(self, X, y)\u001b[0m\n\u001b[1;32m   1508\u001b[0m     \u001b[38;5;28;01mraise\u001b[39;00m \u001b[38;5;167;01mTypeError\u001b[39;00m(\n\u001b[1;32m   1509\u001b[0m         \u001b[38;5;124m\"\u001b[39m\u001b[38;5;124munknown_value should only be set when \u001b[39m\u001b[38;5;124m\"\u001b[39m\n\u001b[1;32m   1510\u001b[0m         \u001b[38;5;124m\"\u001b[39m\u001b[38;5;124mhandle_unknown is \u001b[39m\u001b[38;5;124m'\u001b[39m\u001b[38;5;124muse_encoded_value\u001b[39m\u001b[38;5;124m'\u001b[39m\u001b[38;5;124m, \u001b[39m\u001b[38;5;124m\"\u001b[39m\n\u001b[1;32m   1511\u001b[0m         \u001b[38;5;124mf\u001b[39m\u001b[38;5;124m\"\u001b[39m\u001b[38;5;124mgot \u001b[39m\u001b[38;5;132;01m{\u001b[39;00m\u001b[38;5;28mself\u001b[39m\u001b[38;5;241m.\u001b[39munknown_value\u001b[38;5;132;01m}\u001b[39;00m\u001b[38;5;124m.\u001b[39m\u001b[38;5;124m\"\u001b[39m\n\u001b[1;32m   1512\u001b[0m     )\n\u001b[1;32m   1514\u001b[0m \u001b[38;5;66;03m# `_fit` will only raise an error when `self.handle_unknown=\"error\"`\u001b[39;00m\n\u001b[0;32m-> 1515\u001b[0m fit_results \u001b[38;5;241m=\u001b[39m \u001b[38;5;28;43mself\u001b[39;49m\u001b[38;5;241;43m.\u001b[39;49m\u001b[43m_fit\u001b[49m\u001b[43m(\u001b[49m\n\u001b[1;32m   1516\u001b[0m \u001b[43m    \u001b[49m\u001b[43mX\u001b[49m\u001b[43m,\u001b[49m\n\u001b[1;32m   1517\u001b[0m \u001b[43m    \u001b[49m\u001b[43mhandle_unknown\u001b[49m\u001b[38;5;241;43m=\u001b[39;49m\u001b[38;5;28;43mself\u001b[39;49m\u001b[38;5;241;43m.\u001b[39;49m\u001b[43mhandle_unknown\u001b[49m\u001b[43m,\u001b[49m\n\u001b[1;32m   1518\u001b[0m \u001b[43m    \u001b[49m\u001b[43mensure_all_finite\u001b[49m\u001b[38;5;241;43m=\u001b[39;49m\u001b[38;5;124;43m\"\u001b[39;49m\u001b[38;5;124;43mallow-nan\u001b[39;49m\u001b[38;5;124;43m\"\u001b[39;49m\u001b[43m,\u001b[49m\n\u001b[1;32m   1519\u001b[0m \u001b[43m    \u001b[49m\u001b[43mreturn_and_ignore_missing_for_infrequent\u001b[49m\u001b[38;5;241;43m=\u001b[39;49m\u001b[38;5;28;43;01mTrue\u001b[39;49;00m\u001b[43m,\u001b[49m\n\u001b[1;32m   1520\u001b[0m \u001b[43m\u001b[49m\u001b[43m)\u001b[49m\n\u001b[1;32m   1521\u001b[0m \u001b[38;5;28mself\u001b[39m\u001b[38;5;241m.\u001b[39m_missing_indices \u001b[38;5;241m=\u001b[39m fit_results[\u001b[38;5;124m\"\u001b[39m\u001b[38;5;124mmissing_indices\u001b[39m\u001b[38;5;124m\"\u001b[39m]\n\u001b[1;32m   1523\u001b[0m cardinalities \u001b[38;5;241m=\u001b[39m [\u001b[38;5;28mlen\u001b[39m(categories) \u001b[38;5;28;01mfor\u001b[39;00m categories \u001b[38;5;129;01min\u001b[39;00m \u001b[38;5;28mself\u001b[39m\u001b[38;5;241m.\u001b[39mcategories_]\n",
      "File \u001b[0;32m~/Developer/data-analytics/.env/lib/python3.12/site-packages/sklearn/preprocessing/_encoders.py:103\u001b[0m, in \u001b[0;36m_BaseEncoder._fit\u001b[0;34m(self, X, handle_unknown, ensure_all_finite, return_counts, return_and_ignore_missing_for_infrequent)\u001b[0m\n\u001b[1;32m    100\u001b[0m Xi \u001b[38;5;241m=\u001b[39m X_list[i]\n\u001b[1;32m    102\u001b[0m \u001b[38;5;28;01mif\u001b[39;00m \u001b[38;5;28mself\u001b[39m\u001b[38;5;241m.\u001b[39mcategories \u001b[38;5;241m==\u001b[39m \u001b[38;5;124m\"\u001b[39m\u001b[38;5;124mauto\u001b[39m\u001b[38;5;124m\"\u001b[39m:\n\u001b[0;32m--> 103\u001b[0m     result \u001b[38;5;241m=\u001b[39m \u001b[43m_unique\u001b[49m\u001b[43m(\u001b[49m\u001b[43mXi\u001b[49m\u001b[43m,\u001b[49m\u001b[43m \u001b[49m\u001b[43mreturn_counts\u001b[49m\u001b[38;5;241;43m=\u001b[39;49m\u001b[43mcompute_counts\u001b[49m\u001b[43m)\u001b[49m\n\u001b[1;32m    104\u001b[0m     \u001b[38;5;28;01mif\u001b[39;00m compute_counts:\n\u001b[1;32m    105\u001b[0m         cats, counts \u001b[38;5;241m=\u001b[39m result\n",
      "File \u001b[0;32m~/Developer/data-analytics/.env/lib/python3.12/site-packages/sklearn/utils/_encode.py:52\u001b[0m, in \u001b[0;36m_unique\u001b[0;34m(values, return_inverse, return_counts)\u001b[0m\n\u001b[1;32m     21\u001b[0m \u001b[38;5;250m\u001b[39m\u001b[38;5;124;03m\"\"\"Helper function to find unique values with support for python objects.\u001b[39;00m\n\u001b[1;32m     22\u001b[0m \n\u001b[1;32m     23\u001b[0m \u001b[38;5;124;03mUses pure python method for object dtype, and numpy method for\u001b[39;00m\n\u001b[0;32m   (...)\u001b[0m\n\u001b[1;32m     49\u001b[0m \u001b[38;5;124;03m    array. Only provided if `return_counts` is True.\u001b[39;00m\n\u001b[1;32m     50\u001b[0m \u001b[38;5;124;03m\"\"\"\u001b[39;00m\n\u001b[1;32m     51\u001b[0m \u001b[38;5;28;01mif\u001b[39;00m values\u001b[38;5;241m.\u001b[39mdtype \u001b[38;5;241m==\u001b[39m \u001b[38;5;28mobject\u001b[39m:\n\u001b[0;32m---> 52\u001b[0m     \u001b[38;5;28;01mreturn\u001b[39;00m \u001b[43m_unique_python\u001b[49m\u001b[43m(\u001b[49m\n\u001b[1;32m     53\u001b[0m \u001b[43m        \u001b[49m\u001b[43mvalues\u001b[49m\u001b[43m,\u001b[49m\u001b[43m \u001b[49m\u001b[43mreturn_inverse\u001b[49m\u001b[38;5;241;43m=\u001b[39;49m\u001b[43mreturn_inverse\u001b[49m\u001b[43m,\u001b[49m\u001b[43m \u001b[49m\u001b[43mreturn_counts\u001b[49m\u001b[38;5;241;43m=\u001b[39;49m\u001b[43mreturn_counts\u001b[49m\n\u001b[1;32m     54\u001b[0m \u001b[43m    \u001b[49m\u001b[43m)\u001b[49m\n\u001b[1;32m     55\u001b[0m \u001b[38;5;66;03m# numerical\u001b[39;00m\n\u001b[1;32m     56\u001b[0m \u001b[38;5;28;01mreturn\u001b[39;00m _unique_np(\n\u001b[1;32m     57\u001b[0m     values, return_inverse\u001b[38;5;241m=\u001b[39mreturn_inverse, return_counts\u001b[38;5;241m=\u001b[39mreturn_counts\n\u001b[1;32m     58\u001b[0m )\n",
      "File \u001b[0;32m~/Developer/data-analytics/.env/lib/python3.12/site-packages/sklearn/utils/_encode.py:188\u001b[0m, in \u001b[0;36m_unique_python\u001b[0;34m(values, return_inverse, return_counts)\u001b[0m\n\u001b[1;32m    186\u001b[0m \u001b[38;5;28;01mexcept\u001b[39;00m \u001b[38;5;167;01mTypeError\u001b[39;00m:\n\u001b[1;32m    187\u001b[0m     types \u001b[38;5;241m=\u001b[39m \u001b[38;5;28msorted\u001b[39m(t\u001b[38;5;241m.\u001b[39m\u001b[38;5;18m__qualname__\u001b[39m \u001b[38;5;28;01mfor\u001b[39;00m t \u001b[38;5;129;01min\u001b[39;00m \u001b[38;5;28mset\u001b[39m(\u001b[38;5;28mtype\u001b[39m(v) \u001b[38;5;28;01mfor\u001b[39;00m v \u001b[38;5;129;01min\u001b[39;00m values))\n\u001b[0;32m--> 188\u001b[0m     \u001b[38;5;28;01mraise\u001b[39;00m \u001b[38;5;167;01mTypeError\u001b[39;00m(\n\u001b[1;32m    189\u001b[0m         \u001b[38;5;124m\"\u001b[39m\u001b[38;5;124mEncoders require their input argument must be uniformly \u001b[39m\u001b[38;5;124m\"\u001b[39m\n\u001b[1;32m    190\u001b[0m         \u001b[38;5;124mf\u001b[39m\u001b[38;5;124m\"\u001b[39m\u001b[38;5;124mstrings or numbers. Got \u001b[39m\u001b[38;5;132;01m{\u001b[39;00mtypes\u001b[38;5;132;01m}\u001b[39;00m\u001b[38;5;124m\"\u001b[39m\n\u001b[1;32m    191\u001b[0m     )\n\u001b[1;32m    192\u001b[0m ret \u001b[38;5;241m=\u001b[39m (uniques,)\n\u001b[1;32m    194\u001b[0m \u001b[38;5;28;01mif\u001b[39;00m return_inverse:\n",
      "\u001b[0;31mTypeError\u001b[0m: Encoders require their input argument must be uniformly strings or numbers. Got ['int', 'str']"
     ]
    }
   ],
   "source": [
    "## Encoding\n",
    "from sklearn import preprocessing\n",
    "\n",
    "# X\n",
    "le = preprocessing.OrdinalEncoder()\n",
    "le.fit(X)\n",
    "X = le.transform(X)\n",
    "# y\n",
    "le = preprocessing.LabelEncoder()\n",
    "le.fit(y)\n",
    "y_enc = le.transform(y)\n",
    "\n",
    "\n",
    "### Split data\n",
    "from sklearn.model_selection import train_test_split\n",
    "\n",
    "X_train, X_val, y_train, y_val = train_test_split(X, y_enc, test_size=0.2, random_state=42)"
   ]
  },
  {
   "cell_type": "markdown",
   "metadata": {},
   "source": [
    "Voglio applicare PCA però devo prima standardizzare i dati.\n",
    "Per standardizzare i dati devo prima encodare quelli categorici"
   ]
  },
  {
   "cell_type": "code",
   "execution_count": 13,
   "metadata": {},
   "outputs": [
    {
     "name": "stdout",
     "output_type": "stream",
     "text": [
      "Dataset number of classes:  10\n",
      "LDA number of output dimensions:  9\n"
     ]
    }
   ],
   "source": [
    "### Look at the dataset\n",
    "from sklearn import decomposition\n",
    "\n",
    "## Scaling\n",
    "scaler = preprocessing.StandardScaler()\n",
    "scaler.fit(X_train)\n",
    "X_train_std = scaler.transform(X_train)\n",
    "X_val_std = scaler.transform(X_val)\n",
    "\n",
    "## PCA\n",
    "pca = decomposition.PCA()\n",
    "pca.fit(X_train_std)\n",
    "X_train_pca = pca.transform(X_train_std)\n",
    "X_val_pca = pca.transform(X_val_std)\n",
    "\n",
    "## LDA\n",
    "from sklearn.discriminant_analysis import LinearDiscriminantAnalysis\n",
    "\n",
    "lda = LinearDiscriminantAnalysis()\n",
    "lda.fit(X_train_std, y_train)\n",
    "X_train_lda = lda.transform(X_train_std)\n",
    "X_val_lda = lda.transform(X_val_std)\n",
    "\n",
    "print(\"Dataset number of classes: \", len(np.unique(y_train)))\n",
    "print(\"LDA number of output dimensions: \", X_train_lda.shape[1])"
   ]
  },
  {
   "cell_type": "markdown",
   "metadata": {},
   "source": [
    "---"
   ]
  },
  {
   "cell_type": "code",
   "execution_count": null,
   "metadata": {},
   "outputs": [
    {
     "name": "stdout",
     "output_type": "stream",
     "text": [
      "\n",
      "Best K = 13 with score = 0.7218\n",
      "\n",
      "Best K = 7 with score = 0.7068\n",
      "\n",
      "Best K = 15 with score = 0.7293\n"
     ]
    }
   ],
   "source": [
    "### KNN Classifier\n",
    "from sklearn.neighbors import KNeighborsClassifier\n",
    "\n",
    "### KNN\n",
    "best_score = 0\n",
    "best_k = -1\n",
    "\n",
    "for k in np.arange(1,30,2):\n",
    "    clf = KNeighborsClassifier(n_neighbors=k)\n",
    "    clf.fit(X_train, y_train)\n",
    "    score = clf.score(X_val, y_val)\n",
    "    # print(\"Val set accuracy with K={:d}: {:.4f}\".format(k,score))\n",
    "    if best_score < score:\n",
    "        best_score = score\n",
    "        best_k = k\n",
    "print(\"\\nBest K = {:d} with score = {:.4f}\".format(best_k, best_score))\n",
    "\n",
    "### KNN with PCA\n",
    "best_score = 0\n",
    "best_k = -1\n",
    "\n",
    "for k in np.arange(1,30,2):\n",
    "    clf = KNeighborsClassifier(n_neighbors=k)\n",
    "    clf.fit(X_train_pca, y_train)\n",
    "    score = clf.score(X_val_pca, y_val)\n",
    "    # print(\"(PCA) Val set accuracy with K={:d}: {:.4f}\".format(k,score))\n",
    "    if best_score < score:\n",
    "        best_score = score\n",
    "        best_k = k\n",
    "print(\"\\nBest K = {:d} with score = {:.4f}\".format(best_k, best_score))\n",
    "\n",
    "### KNN with LDA\n",
    "best_score = 0\n",
    "best_k = -1\n",
    "\n",
    "for k in np.arange(1,30,2):\n",
    "    clf = KNeighborsClassifier(n_neighbors=k)\n",
    "    clf.fit(X_train_lda, y_train)\n",
    "    score = clf.score(X_val_lda, y_val)\n",
    "    # print(\"(PCA) Val set accuracy with K={:d}: {:.4f}\".format(k,score))\n",
    "    if best_score < score:\n",
    "        best_score = score\n",
    "        best_k = k\n",
    "print(\"\\nBest K = {:d} with score = {:.4f}\".format(best_k, best_score))\n"
   ]
  },
  {
   "cell_type": "code",
   "execution_count": null,
   "metadata": {},
   "outputs": [],
   "source": [
    "### Save the model \n",
    "# The best result is with LDA and k=15\n",
    "\n",
    "clf = KNeighborsClassifier(n_neighbors=15)\n",
    "clf.fit(X_train_lda, y_train)\n",
    "### SAVE ???"
   ]
  },
  {
   "cell_type": "markdown",
   "metadata": {},
   "source": [
    "---"
   ]
  },
  {
   "cell_type": "code",
   "execution_count": 14,
   "metadata": {},
   "outputs": [
    {
     "name": "stdout",
     "output_type": "stream",
     "text": [
      "Random Forest accuracy: 0.7218\n"
     ]
    },
    {
     "data": {
      "text/plain": [
       "<sklearn.metrics._plot.confusion_matrix.ConfusionMatrixDisplay at 0x3066446b0>"
      ]
     },
     "execution_count": 14,
     "metadata": {},
     "output_type": "execute_result"
    },
    {
     "data": {
      "image/png": "[encoded data removed]",
      "text/plain": [
       "<Figure size 640x480 with 2 Axes>"
      ]
     },
     "metadata": {},
     "output_type": "display_data"
    }
   ],
   "source": [
    "### Random Forest Classifier\n",
    "from sklearn.ensemble import RandomForestClassifier\n",
    "from sklearn.metrics import confusion_matrix, ConfusionMatrixDisplay\n",
    "\n",
    "rf = RandomForestClassifier(n_estimators=100)\n",
    "rf.fit(X_train, y_train)\n",
    "y_pred = rf.predict(X_val)\n",
    "print(\"Random Forest accuracy: {:.4f}\".format(rf.score(X_val, y_val)))\n",
    "\n",
    "cm = confusion_matrix(y_val, y_pred, labels=rf.classes_)\n",
    "disp = ConfusionMatrixDisplay(confusion_matrix=cm, display_labels=rf.classes_)\n",
    "disp.plot()"
   ]
  },
  {
   "cell_type": "code",
   "execution_count": 15,
   "metadata": {},
   "outputs": [
    {
     "name": "stdout",
     "output_type": "stream",
     "text": [
      "Random Forest accuracy: 0.6792\n"
     ]
    },
    {
     "data": {
      "text/plain": [
       "<sklearn.metrics._plot.confusion_matrix.ConfusionMatrixDisplay at 0x176bf2ea0>"
      ]
     },
     "execution_count": 15,
     "metadata": {},
     "output_type": "execute_result"
    },
    {
     "data": {
      "image/png": "[encoded data removed]",
      "text/plain": [
       "<Figure size 640x480 with 2 Axes>"
      ]
     },
     "metadata": {},
     "output_type": "display_data"
    }
   ],
   "source": [
    "rf = RandomForestClassifier(n_estimators=100)\n",
    "rf.fit(X_train_pca, y_train)\n",
    "y_pred = rf.predict(X_val_pca)\n",
    "print(\"Random Forest accuracy: {:.4f}\".format(rf.score(X_val_pca, y_val)))\n",
    "\n",
    "cm = confusion_matrix(y_val, y_pred, labels=rf.classes_)\n",
    "disp = ConfusionMatrixDisplay(confusion_matrix=cm, display_labels=rf.classes_)\n",
    "disp.plot()"
   ]
  },
  {
   "cell_type": "code",
   "execution_count": 16,
   "metadata": {},
   "outputs": [
    {
     "name": "stdout",
     "output_type": "stream",
     "text": [
      "Random Forest accuracy: 0.7018\n"
     ]
    },
    {
     "data": {
      "text/plain": [
       "<sklearn.metrics._plot.confusion_matrix.ConfusionMatrixDisplay at 0x3065f9e20>"
      ]
     },
     "execution_count": 16,
     "metadata": {},
     "output_type": "execute_result"
    },
    {
     "data": {
      "image/png": "[encoded data removed]",
      "text/plain": [
       "<Figure size 640x480 with 2 Axes>"
      ]
     },
     "metadata": {},
     "output_type": "display_data"
    }
   ],
   "source": [
    "rf = RandomForestClassifier(n_estimators=100)\n",
    "rf.fit(X_train_lda, y_train)\n",
    "y_pred = rf.predict(X_val_lda)\n",
    "print(\"Random Forest accuracy: {:.4f}\".format(rf.score(X_val_lda, y_val)))\n",
    "\n",
    "cm = confusion_matrix(y_val, y_pred, labels=rf.classes_)\n",
    "disp = ConfusionMatrixDisplay(confusion_matrix=cm, display_labels=rf.classes_)\n",
    "disp.plot()"
   ]
  },
  {
   "cell_type": "markdown",
   "metadata": {},
   "source": [
    "---"
   ]
  },
  {
   "cell_type": "code",
   "execution_count": 19,
   "metadata": {},
   "outputs": [
    {
     "name": "stdout",
     "output_type": "stream",
     "text": [
      "SVM accuracy: 0.7193\n",
      "Best parameters:  {'C': 0.1, 'gamma': 1, 'kernel': 'poly'}\n"
     ]
    }
   ],
   "source": [
    "### SVM classifier\n",
    "from sklearn.svm import SVC\n",
    "from sklearn.model_selection import GridSearchCV\n",
    "\n",
    "param_grid = {'C': [0.1, 1, 10, 100, 1000],  \n",
    "              'gamma': [1, 0.1, 0.01, 0.001, 0.0001], \n",
    "              'kernel': [\"linear\", \"poly\"]}  \n",
    "  \n",
    "grid = GridSearchCV(SVC(), param_grid)\n",
    "grid.fit(X_train, y_train)\n",
    "print(\"SVM accuracy: {:.4f}\".format(grid.score(X_val, y_val)))\n",
    "print(\"Best parameters: \", grid.best_params_)"
   ]
  },
  {
   "cell_type": "code",
   "execution_count": 20,
   "metadata": {},
   "outputs": [
    {
     "name": "stdout",
     "output_type": "stream",
     "text": [
      "SVM accuracy: 0.6942\n",
      "Best parameters:  {'C': 1, 'gamma': 0.01, 'kernel': 'poly'}\n"
     ]
    }
   ],
   "source": [
    "param_grid = {'C': [0.1, 1, 10, 100, 1000],  \n",
    "              'gamma': [1, 0.1, 0.01, 0.001, 0.0001], \n",
    "              'kernel': [\"linear\", \"poly\"]}  \n",
    "  \n",
    "grid = GridSearchCV(SVC(), param_grid)\n",
    "grid.fit(X_train_pca, y_train)\n",
    "print(\"SVM accuracy: {:.4f}\".format(grid.score(X_val_pca, y_val)))\n",
    "print(\"Best parameters: \", grid.best_params_)"
   ]
  },
  {
   "cell_type": "code",
   "execution_count": 21,
   "metadata": {},
   "outputs": [
    {
     "name": "stdout",
     "output_type": "stream",
     "text": [
      "SVM accuracy: 0.7018\n",
      "Best parameters:  {'C': 0.1, 'gamma': 1, 'kernel': 'linear'}\n"
     ]
    }
   ],
   "source": [
    "param_grid = {'C': [0.1, 1, 10, 100, 1000],  \n",
    "              'gamma': [1, 0.1, 0.01, 0.001, 0.0001], \n",
    "              'kernel': [\"linear\", \"poly\"]}  \n",
    "  \n",
    "grid = GridSearchCV(SVC(), param_grid)\n",
    "grid.fit(X_train_lda, y_train)\n",
    "print(\"SVM accuracy: {:.4f}\".format(grid.score(X_val_lda, y_val)))\n",
    "print(\"Best parameters: \", grid.best_params_)"
   ]
  },
  {
   "cell_type": "markdown",
   "metadata": {},
   "source": [
    "---"
   ]
  },
  {
   "cell_type": "code",
   "execution_count": 19,
   "metadata": {},
   "outputs": [],
   "source": [
    "### FF Classifier\n",
    "import random\n",
    "import os\n",
    "import time\n",
    "\n",
    "import torch\n",
    "from torch import nn\n",
    "from torch.utils.data import Dataset, DataLoader, Subset\n",
    "from torch.utils.tensorboard import SummaryWriter"
   ]
  },
  {
   "cell_type": "code",
   "execution_count": 2,
   "metadata": {},
   "outputs": [],
   "source": [
    "# For reproducibility\n",
    "def fix_random(seed: int) -> None:\n",
    "    \"\"\"Fix all the possible sources of randomness.\n",
    "\n",
    "    Args:\n",
    "        seed: the seed to use. \n",
    "    \"\"\"\n",
    "    np.random.seed(seed)\n",
    "    random.seed(seed)\n",
    "    torch.manual_seed(seed)\n",
    "    torch.cuda.manual_seed(seed)\n",
    "    \n",
    "    torch.backends.cudnn.benchmark = False\n",
    "    torch.backends.cudnn.deterministic = True  # slower\n",
    "\n",
    "seed = 42"
   ]
  },
  {
   "cell_type": "code",
   "execution_count": 3,
   "metadata": {},
   "outputs": [],
   "source": [
    "# Define the Data Layer        \n",
    "class MyDataset(Dataset):\n",
    "    def __init__(self, X, y):\n",
    "        \n",
    "        self.X = torch.FloatTensor(X)\n",
    "        self.y = torch.LongTensor(y)\n",
    "         \n",
    "        self.num_features = X.shape[1]\n",
    "        self.num_classes = len(np.unique(y))\n",
    "       \n",
    "\n",
    "    def __len__(self):\n",
    "        return self.X.shape[0]\n",
    "\n",
    "    def __getitem__(self, idx):\n",
    "        return self.X[idx, :], self.y[idx]"
   ]
  },
  {
   "cell_type": "code",
   "execution_count": 4,
   "metadata": {},
   "outputs": [],
   "source": [
    "# define a function with different normalization and scaling techniques\n",
    "def preprocess(X_train, X_val, modality):\n",
    "    \n",
    "    X_train_p, X_val_p = X_train, X_val\n",
    "\n",
    "    if modality == 'l2' or modality == 'l1':\n",
    "        X_train_p = preprocessing.normalize(X_train, norm=modality)\n",
    "        X_val_p = preprocessing.normalize(X_test, norm=modality)\n",
    "\n",
    "    if modality == 'standard' or modality == 'min-max':\n",
    "        if modality == 'standard':\n",
    "            scaler = preprocessing.StandardScaler()\n",
    "            scaler.fit(X_train)\n",
    "        elif modality == 'min-max':\n",
    "            scaler = preprocessing.MinMaxScaler()\n",
    "            scaler.fit(X_train)\n",
    "        \n",
    "        X_train_p = scaler.transform(X_train)\n",
    "        X_val_p = scaler.transform(X_val)\n",
    "        \n",
    "    return X_train_p, X_val_p"
   ]
  },
  {
   "cell_type": "code",
   "execution_count": 5,
   "metadata": {},
   "outputs": [],
   "source": [
    "# Architecture\n",
    "\n",
    "class FeedForwardPlus(nn.Module):\n",
    "    def __init__(self, input_size, num_classes, hidden_size, depth=1, batch_norm=False, drop=0):\n",
    "        super(FeedForwardPlus, self).__init__()\n",
    "        \n",
    "        model = []\n",
    "        model += [nn.Linear(input_size, hidden_size)]\n",
    "        if batch_norm:\n",
    "            model += [nn.BatchNorm1d(hidden_size)]\n",
    "        model += [nn.ReLU()]\n",
    "\n",
    "        block = [\n",
    "            nn.Linear(hidden_size, hidden_size),\n",
    "            nn.ReLU()\n",
    "        ]\n",
    "\n",
    "        block_batch_norm = [\n",
    "            nn.Linear(hidden_size, hidden_size),\n",
    "            nn.BatchNorm1d(hidden_size),\n",
    "            nn.ReLU()\n",
    "        ]\n",
    "\n",
    "        block_dropout = [\n",
    "            nn.Dropout(drop),\n",
    "            nn.Linear(hidden_size, hidden_size),\n",
    "            nn.ReLU()\n",
    "        ]\n",
    "\n",
    "        for i in range(depth):\n",
    "            if not batch_norm and drop == 0:\n",
    "                model += block\n",
    "            elif batch_norm and drop == 0:\n",
    "                model += block_batch_norm\n",
    "            elif drop > 0 and not batch_norm:\n",
    "                model += block_dropout\n",
    "        \n",
    "        self.model = nn.Sequential(*model)\n",
    "        \n",
    "        self.output = nn.Linear(hidden_size, num_classes)\n",
    "        \n",
    "\n",
    "    def forward(self, x):\n",
    "        h = self.model(x)\n",
    "        out = self.output(h)\n",
    "        return out"
   ]
  },
  {
   "cell_type": "code",
   "execution_count": 6,
   "metadata": {},
   "outputs": [],
   "source": [
    "# Define a function for the training process\n",
    "\n",
    "def train_model(model, criterion, optimizer, epoch, scheduler, train_loader, val_loader, device, writer, log_name=\"model\"):\n",
    "    n_iter = 0\n",
    "    best_valid_loss = float('inf')\n",
    "    for epoch in range(epoch):\n",
    "        model.train()\n",
    "        \n",
    "        for data, targets in train_loader:\n",
    "            data, targets = data.to(device), targets.to(device)  # why here?\n",
    "            \n",
    "            optimizer.zero_grad()\n",
    "\n",
    "            # Forward pass\n",
    "            y_pred = model(data)\n",
    "\n",
    "            # Compute Loss\n",
    "            loss = criterion(y_pred, targets)\n",
    "            writer.add_scalar(\"Loss/train\", loss, n_iter)\n",
    "\n",
    "            # Backward pass\n",
    "            loss.backward()\n",
    "            optimizer.step()\n",
    "\n",
    "            n_iter += 1\n",
    "        \n",
    "        labels, _, y_pred = test_model(model, val_loader, device)\n",
    "        loss_val = criterion(y_pred, labels)\n",
    "        writer.add_scalar(\"Loss/val\", loss_val, epoch)\n",
    "        \n",
    "        # save best model\n",
    "        if loss_val.item() < best_valid_loss:\n",
    "            best_valid_loss = loss_val.item()\n",
    "            if not os.path.exists('models'):\n",
    "                os.makedirs('models')\n",
    "            torch.save(model.state_dict(), 'models/'+log_name)\n",
    "        \n",
    "        writer.add_scalar(\"hparam/Learning Rate\", scheduler.get_last_lr()[0], epoch)\n",
    "        \n",
    "        scheduler.step()\n",
    "            \n",
    "    return model, best_valid_loss"
   ]
  },
  {
   "cell_type": "code",
   "execution_count": null,
   "metadata": {},
   "outputs": [],
   "source": [
    "# Define a function to evaluate the performance on validation and test sets\n",
    "\n",
    "def test_model(model, data_loader, device):\n",
    "    model.eval()\n",
    "    y_pred = []\n",
    "    \n",
    "    for data, targets in data_loader:\n",
    "        data, targets = data.to(device), targets.to(device)\n",
    "        y_pred += model(data)\n",
    "        #print(y_pred)\n",
    "    \n",
    "    y_pred = torch.stack(y_pred).squeeze()\n",
    "    y_pred_c = y_pred.argmax(dim=1, keepdim=True).squeeze()\n",
    "    \n",
    "    return y_pred_c, y_pred"
   ]
  },
  {
   "cell_type": "code",
   "execution_count": 8,
   "metadata": {},
   "outputs": [
    {
     "name": "stdout",
     "output_type": "stream",
     "text": [
      "Device: mps\n"
     ]
    }
   ],
   "source": [
    "# look for GPU\n",
    "# device = torch.device('cuda' if torch.cuda.is_available() else 'cpu')\n",
    "device = torch.device('mps')\n",
    "print(\"Device: {}\".format(device))"
   ]
  },
  {
   "cell_type": "code",
   "execution_count": 17,
   "metadata": {},
   "outputs": [],
   "source": [
    "# Scale data\n",
    "modality = \"min-max\"\n",
    "X_train, X_val = preprocess(X_train, X_val, modality)\n",
    "\n",
    "\n",
    "# Create the dataset\n",
    "train_dataset = MyDataset(X_train, y_train)\n",
    "val_dataset = MyDataset(X_val, y_val)"
   ]
  },
  {
   "cell_type": "code",
   "execution_count": 22,
   "metadata": {},
   "outputs": [
    {
     "name": "stdout",
     "output_type": "stream",
     "text": [
      "FeedForwardPlus(\n",
      "  (model): Sequential(\n",
      "    (0): Linear(in_features=398, out_features=16, bias=True)\n",
      "    (1): BatchNorm1d(16, eps=1e-05, momentum=0.1, affine=True, track_running_stats=True)\n",
      "    (2): ReLU()\n",
      "    (3): Linear(in_features=16, out_features=16, bias=True)\n",
      "    (4): BatchNorm1d(16, eps=1e-05, momentum=0.1, affine=True, track_running_stats=True)\n",
      "    (5): ReLU()\n",
      "    (6): Linear(in_features=16, out_features=16, bias=True)\n",
      "    (7): BatchNorm1d(16, eps=1e-05, momentum=0.1, affine=True, track_running_stats=True)\n",
      "    (8): ReLU()\n",
      "  )\n",
      "  (output): Linear(in_features=16, out_features=10, bias=True)\n",
      ")\n"
     ]
    },
    {
     "ename": "ValueError",
     "evalue": "not enough values to unpack (expected 3, got 2)",
     "output_type": "error",
     "traceback": [
      "\u001b[0;31m---------------------------------------------------------------------------\u001b[0m",
      "\u001b[0;31mValueError\u001b[0m                                Traceback (most recent call last)",
      "Cell \u001b[0;32mIn[22], line 38\u001b[0m\n\u001b[1;32m     34\u001b[0m scheduler \u001b[38;5;241m=\u001b[39m torch\u001b[38;5;241m.\u001b[39moptim\u001b[38;5;241m.\u001b[39mlr_scheduler\u001b[38;5;241m.\u001b[39mStepLR(optimizer, step_size\u001b[38;5;241m=\u001b[39mstep_size, gamma\u001b[38;5;241m=\u001b[39mgamma)\n\u001b[1;32m     37\u001b[0m \u001b[38;5;66;03m# Test before the training\u001b[39;00m\n\u001b[0;32m---> 38\u001b[0m y_test, y_pred_c, _ \u001b[38;5;241m=\u001b[39m test_model(model, val_loader, device)\n\u001b[1;32m     39\u001b[0m acc \u001b[38;5;241m=\u001b[39m (y_test \u001b[38;5;241m==\u001b[39m y_pred_c)\u001b[38;5;241m.\u001b[39mfloat()\u001b[38;5;241m.\u001b[39msum() \u001b[38;5;241m/\u001b[39m y_test\u001b[38;5;241m.\u001b[39mshape[\u001b[38;5;241m0\u001b[39m]\n\u001b[1;32m     40\u001b[0m \u001b[38;5;28mprint\u001b[39m(\u001b[38;5;124m\"\u001b[39m\u001b[38;5;124mAccuracy before training:\u001b[39m\u001b[38;5;124m\"\u001b[39m, acc\u001b[38;5;241m.\u001b[39mcpu()\u001b[38;5;241m.\u001b[39mnumpy())\n",
      "\u001b[0;31mValueError\u001b[0m: not enough values to unpack (expected 3, got 2)"
     ]
    }
   ],
   "source": [
    "start = time.time()\n",
    "\n",
    "# hyperparatemeters \n",
    "batch_size = 16\n",
    "depth = 2\n",
    "hidden_size = 16\n",
    "batch_norm = True\n",
    "drop = 0\n",
    "num_epochs = 100  # try 100, 200, 500\n",
    "learning_rate = 0.01\n",
    "gamma=0.5\n",
    "step_size=25\n",
    "log_name = \"B\"+str(batch_size)+\"-dim\"+str(hidden_size)+\"-dp\"+str(depth)+\"-ep\"+str(num_epochs)+\"-lr\"+str(learning_rate)+\"-steplr\"+str(step_size)+\"-gamma\"+str(gamma)+\"-BN\"+str(batch_norm)+\"-drop\"+str(drop)\n",
    "\n",
    "# fix the seed for reproducibility\n",
    "fix_random(seed)\n",
    "\n",
    "\n",
    "# Create relative dataloaders\n",
    "train_loader = DataLoader(train_dataset, batch_size=batch_size, shuffle=True)\n",
    "val_loader = DataLoader(val_dataset, batch_size=batch_size)\n",
    "\n",
    "\n",
    "# Define the architecture, loss and optimizer\n",
    "model = FeedForwardPlus(train_dataset.num_features, train_dataset.num_classes, hidden_size, depth, batch_norm=batch_norm, drop=drop)\n",
    "print(model)\n",
    "model.to(device)\n",
    "\n",
    "\n",
    "# Define the training elements\n",
    "criterion = torch.nn.CrossEntropyLoss()\n",
    "# optimizer = torch.optim.SGD(model.parameters(), lr=learning_rate, momentum=0.9)\n",
    "optimizer = torch.optim.Adam(model.parameters(), lr=learning_rate)\n",
    "scheduler = torch.optim.lr_scheduler.StepLR(optimizer, step_size=step_size, gamma=gamma)\n",
    "\n",
    "\n",
    "# Test before the training\n",
    "y_test, y_pred_c, _ = test_model(model, val_loader, device)\n",
    "acc = (y_test == y_pred_c).float().sum() / y_test.shape[0]\n",
    "print(\"Accuracy before training:\", acc.cpu().numpy())\n",
    "\n",
    "\n",
    "# Start tensorboard\n",
    "writer = SummaryWriter('runs/'+log_name)\n",
    "\n",
    "\n",
    "# Train the model \n",
    "model = train_model(model, criterion, optimizer, num_epochs, scheduler, train_loader, val_loader, device, writer, log_name)\n",
    "\n",
    "\n",
    "# Load best model\n",
    "model.load_state_dict(torch.load(\"models/\"+log_name, weights_only=True))\n",
    "model.to(device)\n",
    "\n",
    "\n",
    "# Test after the training\n",
    "y_test, y_pred_c, _ = test_model(model, test_loader, device)\n",
    "acc = (y_test == y_pred_c).float().sum() / y_test.shape[0]\n",
    "print(\"Accuracy after training:\", acc.cpu().numpy())\n",
    "\n",
    "\n",
    "# Close tensorboard writer after a training\n",
    "writer.flush()\n",
    "writer.close()\n",
    "\n",
    "# Save timestamp\n",
    "end = time.time()\n",
    "print(\"Time elapsed:\", end - start)"
   ]
  },
  {
   "cell_type": "code",
   "execution_count": null,
   "metadata": {},
   "outputs": [],
   "source": []
  }
 ],
 "metadata": {
  "kernelspec": {
   "display_name": ".env",
   "language": "python",
   "name": "python3"
  },
  "language_info": {
   "codemirror_mode": {
    "name": "ipython",
    "version": 3
   },
   "file_extension": ".py",
   "mimetype": "text/x-python",
   "name": "python",
   "nbconvert_exporter": "python",
   "pygments_lexer": "ipython3",
   "version": "3.12.2"
  }
 },
 "nbformat": 4,
 "nbformat_minor": 2
}
