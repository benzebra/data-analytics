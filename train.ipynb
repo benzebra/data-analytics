{
 "cells": [
  {
   "cell_type": "code",
   "execution_count": 1,
   "metadata": {},
   "outputs": [],
   "source": [
    "import pandas as pd\n",
    "from sklearn.model_selection import train_test_split\n",
    "import numpy as np\n",
    "import pickle"
   ]
  },
  {
   "cell_type": "code",
   "execution_count": 2,
   "metadata": {},
   "outputs": [],
   "source": [
    "### Load data\n",
    "df = pd.read_csv('train_dataset.csv', encoding='ISO-8859-1', low_memory=False)\n",
    "df = df.dropna()\n",
    "\n",
    "y = df[\"type\"]\n",
    "X = df.drop(columns=[\"type\"])\n",
    "\n",
    "# X = X[X[\"src_ip\"] != '0']"
   ]
  },
  {
   "cell_type": "code",
   "execution_count": 3,
   "metadata": {},
   "outputs": [],
   "source": [
    "# from sklearn import preprocessing\n",
    "\n",
    "# labels = X.columns\n",
    "# print(labels)\n",
    "\n",
    "# print(X.select_dtypes(include=['object']).columns)\n",
    "\n",
    "# # for col in X.columns:\n",
    "# #     if (X[col].dtype == 'float64' or X[col].dtype == 'int64'):\n",
    "# #         X[col] = X[col].fillna(X[col].mean())\n",
    "# #     elif(X[col].dtype == 'object'):\n",
    "# #         X[col] = X[col].fillna(X[col].mode()[0])\n",
    "\n",
    "# for lab in labels:\n",
    "#     toenc = X[lab]\n",
    "\n",
    "#     toenc = np.array(toenc).reshape(-1, 1)\n",
    "\n",
    "#     le = preprocessing.OrdinalEncoder()\n",
    "#     le.fit(toenc)\n",
    "#     toenc = le.transform(toenc)\n",
    "#     print(lab)"
   ]
  },
  {
   "cell_type": "code",
   "execution_count": 4,
   "metadata": {},
   "outputs": [],
   "source": [
    "# print(X[\"src_bytes\"].unique())\n",
    "# myarr = np.array(X[\"src_bytes\"]).reshape(-1, 1)\n",
    "\n",
    "# for el in myarr:\n",
    "#     print(type(el.item()))"
   ]
  },
  {
   "cell_type": "code",
   "execution_count": 5,
   "metadata": {},
   "outputs": [
    {
     "name": "stdout",
     "output_type": "stream",
     "text": [
      "(617002, 45) (617002,)\n",
      "(617002, 45) (617002,)\n",
      "(617002, 45) (617002,)\n"
     ]
    }
   ],
   "source": [
    "## Encoding\n",
    "from sklearn import preprocessing\n",
    "\n",
    "print(X.shape, y.shape)\n",
    "\n",
    "labels = X.columns\n",
    "\n",
    "for lab in labels:\n",
    "    toenc = X[lab]\n",
    "\n",
    "    toenc = np.array(toenc).reshape(-1, 1)\n",
    "\n",
    "    le = preprocessing.OrdinalEncoder()\n",
    "    le.fit(toenc)\n",
    "    toenc = le.transform(toenc)\n",
    "    X[lab] = toenc\n",
    "    # print(lab)\n",
    "\n",
    "print(X.shape, y.shape)\n",
    "\n",
    "# X\n",
    "# le = preprocessing.OrdinalEncoder()\n",
    "# X = np.array(X).reshape(-1, 1)\n",
    "# le.fit(X)\n",
    "# X = le.transform(X)\n",
    "# y\n",
    "le = preprocessing.LabelEncoder()\n",
    "le.fit(y)\n",
    "y_enc = le.transform(y)\n",
    "\n",
    "print(X.shape, y.shape)\n",
    "\n",
    "### Split data\n",
    "from sklearn.model_selection import train_test_split\n",
    "\n",
    "X_train, X_val, y_train, y_val = train_test_split(X, y_enc, test_size=0.2, random_state=42)"
   ]
  },
  {
   "cell_type": "markdown",
   "metadata": {},
   "source": [
    "Voglio applicare PCA però devo prima standardizzare i dati.\n",
    "Per standardizzare i dati devo prima encodare quelli categorici"
   ]
  },
  {
   "cell_type": "code",
   "execution_count": 6,
   "metadata": {},
   "outputs": [
    {
     "name": "stdout",
     "output_type": "stream",
     "text": [
      "Dataset number of classes:  10\n",
      "LDA number of output dimensions:  1\n"
     ]
    }
   ],
   "source": [
    "### Look at the dataset\n",
    "from sklearn import decomposition\n",
    "\n",
    "## Scaling\n",
    "scaler = preprocessing.StandardScaler()\n",
    "scaler.fit(X_train)\n",
    "X_train_std = scaler.transform(X_train)\n",
    "X_val_std = scaler.transform(X_val)\n",
    "\n",
    "## PCA\n",
    "pca = decomposition.PCA()\n",
    "pca.fit(X_train_std)\n",
    "X_train_pca = pca.transform(X_train_std)\n",
    "X_val_pca = pca.transform(X_val_std)\n",
    "\n",
    "## LDA\n",
    "from sklearn.discriminant_analysis import LinearDiscriminantAnalysis\n",
    "\n",
    "lda = LinearDiscriminantAnalysis()\n",
    "lda.fit(X_train_std, y_train)\n",
    "X_train_lda = lda.transform(X_train_std)\n",
    "X_val_lda = lda.transform(X_val_std)\n",
    "\n",
    "print(\"Dataset number of classes: \", len(np.unique(y_train)))\n",
    "print(\"LDA number of output dimensions: \", X_train_lda.shape[1])"
   ]
  },
  {
   "cell_type": "markdown",
   "metadata": {},
   "source": [
    "---"
   ]
  },
  {
   "cell_type": "code",
   "execution_count": 7,
   "metadata": {},
   "outputs": [
    {
     "name": "stdout",
     "output_type": "stream",
     "text": [
      "\n",
      "Best K = 1 with score = 0.9936\n",
      "\n",
      "Best K = 1 with score = 0.9991\n",
      "\n",
      "Best K = 17 with score = 0.3802\n"
     ]
    }
   ],
   "source": [
    "### KNN Classifier\n",
    "from sklearn.neighbors import KNeighborsClassifier\n",
    "\n",
    "### KNN\n",
    "best_score = 0\n",
    "best_k = -1\n",
    "\n",
    "for k in np.arange(1,30,2):\n",
    "    clf = KNeighborsClassifier(n_neighbors=k)\n",
    "    clf.fit(X_train, y_train)\n",
    "    score = clf.score(X_val, y_val)\n",
    "    # print(\"Val set accuracy with K={:d}: {:.4f}\".format(k,score))\n",
    "    if best_score < score:\n",
    "        best_score = score\n",
    "        best_k = k\n",
    "print(\"\\nBest K = {:d} with score = {:.4f}\".format(best_k, best_score))\n",
    "\n",
    "### KNN with PCA\n",
    "best_score = 0\n",
    "best_k = -1\n",
    "\n",
    "for k in np.arange(1,30,2):\n",
    "    clf = KNeighborsClassifier(n_neighbors=k)\n",
    "    clf.fit(X_train_pca, y_train)\n",
    "    score = clf.score(X_val_pca, y_val)\n",
    "    # print(\"(PCA) Val set accuracy with K={:d}: {:.4f}\".format(k,score))\n",
    "    if best_score < score:\n",
    "        best_score = score\n",
    "        best_k = k\n",
    "print(\"\\nBest K = {:d} with score = {:.4f}\".format(best_k, best_score))\n",
    "\n",
    "### KNN with LDA\n",
    "best_score = 0\n",
    "best_k = -1\n",
    "\n",
    "for k in np.arange(1,30,2):\n",
    "    clf = KNeighborsClassifier(n_neighbors=k)\n",
    "    clf.fit(X_train_lda, y_train)\n",
    "    score = clf.score(X_val_lda, y_val)\n",
    "    # print(\"(PCA) Val set accuracy with K={:d}: {:.4f}\".format(k,score))\n",
    "    if best_score < score:\n",
    "        best_score = score\n",
    "        best_k = k\n",
    "print(\"\\nBest K = {:d} with score = {:.4f}\".format(best_k, best_score))\n"
   ]
  },
  {
   "cell_type": "code",
   "execution_count": null,
   "metadata": {},
   "outputs": [],
   "source": [
    "### Save the model \n",
    "# The best result is with LDA and k=15\n",
    "\n",
    "clf = KNeighborsClassifier(n_neighbors=15)\n",
    "clf.fit(X_train_lda, y_train)\n",
    "### SAVE ???"
   ]
  },
  {
   "cell_type": "markdown",
   "metadata": {},
   "source": [
    "---"
   ]
  },
  {
   "cell_type": "code",
   "execution_count": 8,
   "metadata": {},
   "outputs": [
    {
     "name": "stdout",
     "output_type": "stream",
     "text": [
      "Random Forest accuracy: 1.0000\n"
     ]
    },
    {
     "data": {
      "text/plain": [
       "<sklearn.metrics._plot.confusion_matrix.ConfusionMatrixDisplay at 0x12421f470>"
      ]
     },
     "execution_count": 8,
     "metadata": {},
     "output_type": "execute_result"
    },
    {
     "data": {
      "image/png": "[encoded data removed]",
      "text/plain": [
       "<Figure size 640x480 with 2 Axes>"
      ]
     },
     "metadata": {},
     "output_type": "display_data"
    }
   ],
   "source": [
    "### Random Forest Classifier\n",
    "from sklearn.ensemble import RandomForestClassifier\n",
    "from sklearn.metrics import confusion_matrix, ConfusionMatrixDisplay\n",
    "\n",
    "rf = RandomForestClassifier(n_estimators=100)\n",
    "rf.fit(X_train, y_train)\n",
    "y_pred = rf.predict(X_val)\n",
    "print(\"Random Forest accuracy: {:.4f}\".format(rf.score(X_val, y_val)))\n",
    "\n",
    "cm = confusion_matrix(y_val, y_pred, labels=rf.classes_)\n",
    "disp = ConfusionMatrixDisplay(confusion_matrix=cm, display_labels=rf.classes_)\n",
    "disp.plot()"
   ]
  },
  {
   "cell_type": "code",
   "execution_count": 9,
   "metadata": {},
   "outputs": [
    {
     "name": "stdout",
     "output_type": "stream",
     "text": [
      "Random Forest accuracy: 0.9992\n"
     ]
    },
    {
     "data": {
      "text/plain": [
       "<sklearn.metrics._plot.confusion_matrix.ConfusionMatrixDisplay at 0x12470dee0>"
      ]
     },
     "execution_count": 9,
     "metadata": {},
     "output_type": "execute_result"
    },
    {
     "data": {
      "image/png": "[encoded data removed]",
      "text/plain": [
       "<Figure size 640x480 with 2 Axes>"
      ]
     },
     "metadata": {},
     "output_type": "display_data"
    }
   ],
   "source": [
    "rf = RandomForestClassifier(n_estimators=100)\n",
    "rf.fit(X_train_pca, y_train)\n",
    "y_pred = rf.predict(X_val_pca)\n",
    "print(\"Random Forest accuracy: {:.4f}\".format(rf.score(X_val_pca, y_val)))\n",
    "\n",
    "cm = confusion_matrix(y_val, y_pred, labels=rf.classes_)\n",
    "disp = ConfusionMatrixDisplay(confusion_matrix=cm, display_labels=rf.classes_)\n",
    "disp.plot()"
   ]
  },
  {
   "cell_type": "code",
   "execution_count": 10,
   "metadata": {},
   "outputs": [
    {
     "name": "stdout",
     "output_type": "stream",
     "text": [
      "Random Forest accuracy: 0.3802\n"
     ]
    },
    {
     "data": {
      "text/plain": [
       "<sklearn.metrics._plot.confusion_matrix.ConfusionMatrixDisplay at 0x137e59580>"
      ]
     },
     "execution_count": 10,
     "metadata": {},
     "output_type": "execute_result"
    },
    {
     "data": {
      "image/png": "[encoded data removed]",
      "text/plain": [
       "<Figure size 640x480 with 2 Axes>"
      ]
     },
     "metadata": {},
     "output_type": "display_data"
    }
   ],
   "source": [
    "rf = RandomForestClassifier(n_estimators=100)\n",
    "rf.fit(X_train_lda, y_train)\n",
    "y_pred = rf.predict(X_val_lda)\n",
    "print(\"Random Forest accuracy: {:.4f}\".format(rf.score(X_val_lda, y_val)))\n",
    "\n",
    "cm = confusion_matrix(y_val, y_pred, labels=rf.classes_)\n",
    "disp = ConfusionMatrixDisplay(confusion_matrix=cm, display_labels=rf.classes_)\n",
    "disp.plot()"
   ]
  },
  {
   "cell_type": "markdown",
   "metadata": {},
   "source": [
    "---"
   ]
  },
  {
   "cell_type": "code",
   "execution_count": null,
   "metadata": {},
   "outputs": [],
   "source": [
    "### SVM classifier\n",
    "from sklearn.svm import SVC\n",
    "from sklearn.model_selection import GridSearchCV\n",
    "\n",
    "param_grid = {'C': [0.1, 1, 10, 100, 1000],  \n",
    "              'gamma': [1, 0.1, 0.01, 0.001, 0.0001], \n",
    "              'kernel': [\"linear\", \"poly\"]}  \n",
    "  \n",
    "grid = GridSearchCV(SVC(), param_grid)\n",
    "grid.fit(X_train, y_train)\n",
    "print(\"SVM accuracy: {:.4f}\".format(grid.score(X_val, y_val)))\n",
    "print(\"Best parameters: \", grid.best_params_)"
   ]
  },
  {
   "cell_type": "code",
   "execution_count": null,
   "metadata": {},
   "outputs": [],
   "source": [
    "param_grid = {'C': [0.1, 1, 10, 100, 1000],  \n",
    "              'gamma': [1, 0.1, 0.01, 0.001, 0.0001], \n",
    "              'kernel': [\"linear\", \"poly\"]}  \n",
    "  \n",
    "grid = GridSearchCV(SVC(), param_grid)\n",
    "grid.fit(X_train_pca, y_train)\n",
    "print(\"SVM accuracy: {:.4f}\".format(grid.score(X_val_pca, y_val)))\n",
    "print(\"Best parameters: \", grid.best_params_)"
   ]
  },
  {
   "cell_type": "code",
   "execution_count": null,
   "metadata": {},
   "outputs": [],
   "source": [
    "param_grid = {'C': [0.1, 1, 10, 100, 1000],  \n",
    "              'gamma': [1, 0.1, 0.01, 0.001, 0.0001], \n",
    "              'kernel': [\"linear\", \"poly\"]}  \n",
    "  \n",
    "grid = GridSearchCV(SVC(), param_grid)\n",
    "grid.fit(X_train_lda, y_train)\n",
    "print(\"SVM accuracy: {:.4f}\".format(grid.score(X_val_lda, y_val)))\n",
    "print(\"Best parameters: \", grid.best_params_)"
   ]
  },
  {
   "cell_type": "markdown",
   "metadata": {},
   "source": [
    "---"
   ]
  },
  {
   "cell_type": "code",
   "execution_count": 19,
   "metadata": {},
   "outputs": [],
   "source": [
    "### FF Classifier\n",
    "import random\n",
    "import os\n",
    "import time\n",
    "\n",
    "import torch\n",
    "from torch import nn\n",
    "from torch.utils.data import Dataset, DataLoader, Subset\n",
    "from torch.utils.tensorboard import SummaryWriter"
   ]
  },
  {
   "cell_type": "code",
   "execution_count": 2,
   "metadata": {},
   "outputs": [],
   "source": [
    "# For reproducibility\n",
    "def fix_random(seed: int) -> None:\n",
    "    \"\"\"Fix all the possible sources of randomness.\n",
    "\n",
    "    Args:\n",
    "        seed: the seed to use. \n",
    "    \"\"\"\n",
    "    np.random.seed(seed)\n",
    "    random.seed(seed)\n",
    "    torch.manual_seed(seed)\n",
    "    torch.cuda.manual_seed(seed)\n",
    "    \n",
    "    torch.backends.cudnn.benchmark = False\n",
    "    torch.backends.cudnn.deterministic = True  # slower\n",
    "\n",
    "seed = 42"
   ]
  },
  {
   "cell_type": "code",
   "execution_count": 3,
   "metadata": {},
   "outputs": [],
   "source": [
    "# Define the Data Layer        \n",
    "class MyDataset(Dataset):\n",
    "    def __init__(self, X, y):\n",
    "        \n",
    "        self.X = torch.FloatTensor(X)\n",
    "        self.y = torch.LongTensor(y)\n",
    "         \n",
    "        self.num_features = X.shape[1]\n",
    "        self.num_classes = len(np.unique(y))\n",
    "       \n",
    "\n",
    "    def __len__(self):\n",
    "        return self.X.shape[0]\n",
    "\n",
    "    def __getitem__(self, idx):\n",
    "        return self.X[idx, :], self.y[idx]"
   ]
  },
  {
   "cell_type": "code",
   "execution_count": 4,
   "metadata": {},
   "outputs": [],
   "source": [
    "# define a function with different normalization and scaling techniques\n",
    "def preprocess(X_train, X_val, modality):\n",
    "    \n",
    "    X_train_p, X_val_p = X_train, X_val\n",
    "\n",
    "    if modality == 'l2' or modality == 'l1':\n",
    "        X_train_p = preprocessing.normalize(X_train, norm=modality)\n",
    "        X_val_p = preprocessing.normalize(X_test, norm=modality)\n",
    "\n",
    "    if modality == 'standard' or modality == 'min-max':\n",
    "        if modality == 'standard':\n",
    "            scaler = preprocessing.StandardScaler()\n",
    "            scaler.fit(X_train)\n",
    "        elif modality == 'min-max':\n",
    "            scaler = preprocessing.MinMaxScaler()\n",
    "            scaler.fit(X_train)\n",
    "        \n",
    "        X_train_p = scaler.transform(X_train)\n",
    "        X_val_p = scaler.transform(X_val)\n",
    "        \n",
    "    return X_train_p, X_val_p"
   ]
  },
  {
   "cell_type": "code",
   "execution_count": 5,
   "metadata": {},
   "outputs": [],
   "source": [
    "# Architecture\n",
    "\n",
    "class FeedForwardPlus(nn.Module):\n",
    "    def __init__(self, input_size, num_classes, hidden_size, depth=1, batch_norm=False, drop=0):\n",
    "        super(FeedForwardPlus, self).__init__()\n",
    "        \n",
    "        model = []\n",
    "        model += [nn.Linear(input_size, hidden_size)]\n",
    "        if batch_norm:\n",
    "            model += [nn.BatchNorm1d(hidden_size)]\n",
    "        model += [nn.ReLU()]\n",
    "\n",
    "        block = [\n",
    "            nn.Linear(hidden_size, hidden_size),\n",
    "            nn.ReLU()\n",
    "        ]\n",
    "\n",
    "        block_batch_norm = [\n",
    "            nn.Linear(hidden_size, hidden_size),\n",
    "            nn.BatchNorm1d(hidden_size),\n",
    "            nn.ReLU()\n",
    "        ]\n",
    "\n",
    "        block_dropout = [\n",
    "            nn.Dropout(drop),\n",
    "            nn.Linear(hidden_size, hidden_size),\n",
    "            nn.ReLU()\n",
    "        ]\n",
    "\n",
    "        for i in range(depth):\n",
    "            if not batch_norm and drop == 0:\n",
    "                model += block\n",
    "            elif batch_norm and drop == 0:\n",
    "                model += block_batch_norm\n",
    "            elif drop > 0 and not batch_norm:\n",
    "                model += block_dropout\n",
    "        \n",
    "        self.model = nn.Sequential(*model)\n",
    "        \n",
    "        self.output = nn.Linear(hidden_size, num_classes)\n",
    "        \n",
    "\n",
    "    def forward(self, x):\n",
    "        h = self.model(x)\n",
    "        out = self.output(h)\n",
    "        return out"
   ]
  },
  {
   "cell_type": "code",
   "execution_count": 6,
   "metadata": {},
   "outputs": [],
   "source": [
    "# Define a function for the training process\n",
    "\n",
    "def train_model(model, criterion, optimizer, epoch, scheduler, train_loader, val_loader, device, writer, log_name=\"model\"):\n",
    "    n_iter = 0\n",
    "    best_valid_loss = float('inf')\n",
    "    for epoch in range(epoch):\n",
    "        model.train()\n",
    "        \n",
    "        for data, targets in train_loader:\n",
    "            data, targets = data.to(device), targets.to(device)  # why here?\n",
    "            \n",
    "            optimizer.zero_grad()\n",
    "\n",
    "            # Forward pass\n",
    "            y_pred = model(data)\n",
    "\n",
    "            # Compute Loss\n",
    "            loss = criterion(y_pred, targets)\n",
    "            writer.add_scalar(\"Loss/train\", loss, n_iter)\n",
    "\n",
    "            # Backward pass\n",
    "            loss.backward()\n",
    "            optimizer.step()\n",
    "\n",
    "            n_iter += 1\n",
    "        \n",
    "        labels, _, y_pred = test_model(model, val_loader, device)\n",
    "        loss_val = criterion(y_pred, labels)\n",
    "        writer.add_scalar(\"Loss/val\", loss_val, epoch)\n",
    "        \n",
    "        # save best model\n",
    "        if loss_val.item() < best_valid_loss:\n",
    "            best_valid_loss = loss_val.item()\n",
    "            if not os.path.exists('models'):\n",
    "                os.makedirs('models')\n",
    "            torch.save(model.state_dict(), 'models/'+log_name)\n",
    "        \n",
    "        writer.add_scalar(\"hparam/Learning Rate\", scheduler.get_last_lr()[0], epoch)\n",
    "        \n",
    "        scheduler.step()\n",
    "            \n",
    "    return model, best_valid_loss"
   ]
  },
  {
   "cell_type": "code",
   "execution_count": null,
   "metadata": {},
   "outputs": [],
   "source": [
    "# Define a function to evaluate the performance on validation and test sets\n",
    "\n",
    "def test_model(model, data_loader, device):\n",
    "    model.eval()\n",
    "    y_pred = []\n",
    "    \n",
    "    for data, targets in data_loader:\n",
    "        data, targets = data.to(device), targets.to(device)\n",
    "        y_pred += model(data)\n",
    "        #print(y_pred)\n",
    "    \n",
    "    y_pred = torch.stack(y_pred).squeeze()\n",
    "    y_pred_c = y_pred.argmax(dim=1, keepdim=True).squeeze()\n",
    "    \n",
    "    return y_pred_c, y_pred"
   ]
  },
  {
   "cell_type": "code",
   "execution_count": null,
   "metadata": {},
   "outputs": [],
   "source": [
    "# look for GPU\n",
    "# device = torch.device('cuda' if torch.cuda.is_available() else 'cpu')\n",
    "device = torch.device('mps')\n",
    "print(\"Device: {}\".format(device))"
   ]
  },
  {
   "cell_type": "code",
   "execution_count": 17,
   "metadata": {},
   "outputs": [],
   "source": [
    "# Scale data\n",
    "modality = \"min-max\"\n",
    "X_train, X_val = preprocess(X_train, X_val, modality)\n",
    "\n",
    "\n",
    "# Create the dataset\n",
    "train_dataset = MyDataset(X_train, y_train)\n",
    "val_dataset = MyDataset(X_val, y_val)"
   ]
  },
  {
   "cell_type": "code",
   "execution_count": null,
   "metadata": {},
   "outputs": [],
   "source": [
    "start = time.time()\n",
    "\n",
    "# hyperparatemeters \n",
    "batch_size = 16\n",
    "depth = 2\n",
    "hidden_size = 16\n",
    "batch_norm = True\n",
    "drop = 0\n",
    "num_epochs = 100  # try 100, 200, 500\n",
    "learning_rate = 0.01\n",
    "gamma=0.5\n",
    "step_size=25\n",
    "log_name = \"B\"+str(batch_size)+\"-dim\"+str(hidden_size)+\"-dp\"+str(depth)+\"-ep\"+str(num_epochs)+\"-lr\"+str(learning_rate)+\"-steplr\"+str(step_size)+\"-gamma\"+str(gamma)+\"-BN\"+str(batch_norm)+\"-drop\"+str(drop)\n",
    "\n",
    "# fix the seed for reproducibility\n",
    "fix_random(seed)\n",
    "\n",
    "\n",
    "# Create relative dataloaders\n",
    "train_loader = DataLoader(train_dataset, batch_size=batch_size, shuffle=True)\n",
    "val_loader = DataLoader(val_dataset, batch_size=batch_size)\n",
    "\n",
    "\n",
    "# Define the architecture, loss and optimizer\n",
    "model = FeedForwardPlus(train_dataset.num_features, train_dataset.num_classes, hidden_size, depth, batch_norm=batch_norm, drop=drop)\n",
    "print(model)\n",
    "model.to(device)\n",
    "\n",
    "\n",
    "# Define the training elements\n",
    "criterion = torch.nn.CrossEntropyLoss()\n",
    "# optimizer = torch.optim.SGD(model.parameters(), lr=learning_rate, momentum=0.9)\n",
    "optimizer = torch.optim.Adam(model.parameters(), lr=learning_rate)\n",
    "scheduler = torch.optim.lr_scheduler.StepLR(optimizer, step_size=step_size, gamma=gamma)\n",
    "\n",
    "\n",
    "# Test before the training\n",
    "y_test, y_pred_c, _ = test_model(model, val_loader, device)\n",
    "acc = (y_test == y_pred_c).float().sum() / y_test.shape[0]\n",
    "print(\"Accuracy before training:\", acc.cpu().numpy())\n",
    "\n",
    "\n",
    "# Start tensorboard\n",
    "writer = SummaryWriter('runs/'+log_name)\n",
    "\n",
    "\n",
    "# Train the model \n",
    "model = train_model(model, criterion, optimizer, num_epochs, scheduler, train_loader, val_loader, device, writer, log_name)\n",
    "\n",
    "\n",
    "# Load best model\n",
    "model.load_state_dict(torch.load(\"models/\"+log_name, weights_only=True))\n",
    "model.to(device)\n",
    "\n",
    "\n",
    "# Test after the training\n",
    "y_test, y_pred_c, _ = test_model(model, test_loader, device)\n",
    "acc = (y_test == y_pred_c).float().sum() / y_test.shape[0]\n",
    "print(\"Accuracy after training:\", acc.cpu().numpy())\n",
    "\n",
    "\n",
    "# Close tensorboard writer after a training\n",
    "writer.flush()\n",
    "writer.close()\n",
    "\n",
    "# Save timestamp\n",
    "end = time.time()\n",
    "print(\"Time elapsed:\", end - start)"
   ]
  },
  {
   "cell_type": "code",
   "execution_count": null,
   "metadata": {},
   "outputs": [],
   "source": []
  }
 ],
 "metadata": {
  "kernelspec": {
   "display_name": ".env",
   "language": "python",
   "name": "python3"
  },
  "language_info": {
   "codemirror_mode": {
    "name": "ipython",
    "version": 3
   },
   "file_extension": ".py",
   "mimetype": "text/x-python",
   "name": "python",
   "nbconvert_exporter": "python",
   "pygments_lexer": "ipython3",
   "version": "3.12.2"
  }
 },
 "nbformat": 4,
 "nbformat_minor": 2
}
